{
 "cells": [
  {
   "cell_type": "code",
   "execution_count": 1,
   "id": "cc3671e5-48b6-41a4-b828-6a1adf608842",
   "metadata": {
    "execution": {
     "iopub.execute_input": "2023-03-03T14:24:42.820333Z",
     "iopub.status.busy": "2023-03-03T14:24:42.819614Z",
     "iopub.status.idle": "2023-03-03T14:24:44.861086Z",
     "shell.execute_reply": "2023-03-03T14:24:44.858779Z",
     "shell.execute_reply.started": "2023-03-03T14:24:42.820176Z"
    },
    "tags": []
   },
   "outputs": [
    {
     "name": "stdout",
     "output_type": "stream",
     "text": [
      "Looking in indexes: https://pypi.tuna.tsinghua.edu.cn/simple\n",
      "Requirement already satisfied: change-detection-pytorch in /usr/local/lib/python3.8/site-packages (0.1.4)\n",
      "Requirement already satisfied: pretrainedmodels==0.7.4 in /usr/local/lib/python3.8/site-packages (from change-detection-pytorch) (0.7.4)\n",
      "Requirement already satisfied: timm==0.4.12 in /usr/local/lib/python3.8/site-packages (from change-detection-pytorch) (0.4.12)\n",
      "Requirement already satisfied: efficientnet-pytorch==0.6.3 in /usr/local/lib/python3.8/site-packages (from change-detection-pytorch) (0.6.3)\n",
      "Requirement already satisfied: albumentations in /usr/local/lib/python3.8/site-packages (from change-detection-pytorch) (1.3.0)\n",
      "Requirement already satisfied: torchvision>=0.5.0 in /usr/local/lib/python3.8/site-packages (from change-detection-pytorch) (0.9.2+cu111)\n",
      "Requirement already satisfied: torch in /usr/local/lib/python3.8/site-packages (from efficientnet-pytorch==0.6.3->change-detection-pytorch) (1.8.2+cu111)\n",
      "Requirement already satisfied: tqdm in /usr/local/lib/python3.8/site-packages (from pretrainedmodels==0.7.4->change-detection-pytorch) (4.64.1)\n",
      "Requirement already satisfied: munch in /usr/local/lib/python3.8/site-packages (from pretrainedmodels==0.7.4->change-detection-pytorch) (2.5.0)\n",
      "Requirement already satisfied: numpy in /usr/local/lib/python3.8/site-packages (from torchvision>=0.5.0->change-detection-pytorch) (1.23.4)\n",
      "Requirement already satisfied: pillow>=4.1.1 in /usr/local/lib/python3.8/site-packages (from torchvision>=0.5.0->change-detection-pytorch) (9.2.0)\n",
      "Requirement already satisfied: typing-extensions in /usr/local/lib/python3.8/site-packages (from torch->efficientnet-pytorch==0.6.3->change-detection-pytorch) (4.4.0)\n",
      "Requirement already satisfied: opencv-python-headless>=4.1.1 in /usr/local/lib/python3.8/site-packages (from albumentations->change-detection-pytorch) (4.5.3.100)\n",
      "Requirement already satisfied: qudida>=0.0.4 in /usr/local/lib/python3.8/site-packages (from albumentations->change-detection-pytorch) (0.0.4)\n",
      "Requirement already satisfied: scipy in /usr/local/lib/python3.8/site-packages (from albumentations->change-detection-pytorch) (1.9.2)\n",
      "Requirement already satisfied: PyYAML in /usr/local/lib/python3.8/site-packages (from albumentations->change-detection-pytorch) (6.0)\n",
      "Requirement already satisfied: scikit-image>=0.16.1 in /usr/local/lib/python3.8/site-packages (from albumentations->change-detection-pytorch) (0.19.3)\n",
      "Requirement already satisfied: scikit-learn>=0.19.1 in /usr/local/lib/python3.8/site-packages (from qudida>=0.0.4->albumentations->change-detection-pytorch) (1.1.2)\n",
      "Requirement already satisfied: imageio>=2.4.1 in /usr/local/lib/python3.8/site-packages (from scikit-image>=0.16.1->albumentations->change-detection-pytorch) (2.22.1)\n",
      "Requirement already satisfied: networkx>=2.2 in /usr/local/lib/python3.8/site-packages (from scikit-image>=0.16.1->albumentations->change-detection-pytorch) (2.8.7)\n",
      "Requirement already satisfied: tifffile>=2019.7.26 in /usr/local/lib/python3.8/site-packages (from scikit-image>=0.16.1->albumentations->change-detection-pytorch) (2022.10.10)\n",
      "Requirement already satisfied: PyWavelets>=1.1.1 in /usr/local/lib/python3.8/site-packages (from scikit-image>=0.16.1->albumentations->change-detection-pytorch) (1.4.1)\n",
      "Requirement already satisfied: packaging>=20.0 in /usr/local/lib/python3.8/site-packages (from scikit-image>=0.16.1->albumentations->change-detection-pytorch) (21.3)\n",
      "Requirement already satisfied: six in /usr/local/lib/python3.8/site-packages (from munch->pretrainedmodels==0.7.4->change-detection-pytorch) (1.16.0)\n",
      "Requirement already satisfied: pyparsing!=3.0.5,>=2.0.2 in /usr/local/lib/python3.8/site-packages (from packaging>=20.0->scikit-image>=0.16.1->albumentations->change-detection-pytorch) (3.0.9)\n",
      "Requirement already satisfied: joblib>=1.0.0 in /usr/local/lib/python3.8/site-packages (from scikit-learn>=0.19.1->qudida>=0.0.4->albumentations->change-detection-pytorch) (1.2.0)\n",
      "Requirement already satisfied: threadpoolctl>=2.0.0 in /usr/local/lib/python3.8/site-packages (from scikit-learn>=0.19.1->qudida>=0.0.4->albumentations->change-detection-pytorch) (3.1.0)\n",
      "\u001b[33mWARNING: Running pip as the 'root' user can result in broken permissions and conflicting behaviour with the system package manager. It is recommended to use a virtual environment instead: https://pip.pypa.io/warnings/venv\u001b[0m\u001b[33m\n",
      "\u001b[0m"
     ]
    }
   ],
   "source": [
    "!pip install change-detection-pytorch"
   ]
  },
  {
   "cell_type": "code",
   "execution_count": 2,
   "id": "cf4b46cc-2288-41d4-8f47-c581edc0c459",
   "metadata": {
    "execution": {
     "iopub.execute_input": "2023-03-03T14:24:44.866199Z",
     "iopub.status.busy": "2023-03-03T14:24:44.865559Z",
     "iopub.status.idle": "2023-03-03T14:24:50.212774Z",
     "shell.execute_reply": "2023-03-03T14:24:50.210717Z",
     "shell.execute_reply.started": "2023-03-03T14:24:44.866134Z"
    },
    "tags": []
   },
   "outputs": [
    {
     "name": "stderr",
     "output_type": "stream",
     "text": [
      "/usr/local/lib/python3.8/site-packages/numpy/core/getlimits.py:499: UserWarning: The value of the smallest subnormal for <class 'numpy.float64'> type is zero.\n",
      "  setattr(self, word, getattr(machar, word).flat[0])\n",
      "/usr/local/lib/python3.8/site-packages/numpy/core/getlimits.py:89: UserWarning: The value of the smallest subnormal for <class 'numpy.float64'> type is zero.\n",
      "  return self._float_to_str(self.smallest_subnormal)\n",
      "/usr/local/lib/python3.8/site-packages/numpy/core/getlimits.py:499: UserWarning: The value of the smallest subnormal for <class 'numpy.float32'> type is zero.\n",
      "  setattr(self, word, getattr(machar, word).flat[0])\n",
      "/usr/local/lib/python3.8/site-packages/numpy/core/getlimits.py:89: UserWarning: The value of the smallest subnormal for <class 'numpy.float32'> type is zero.\n",
      "  return self._float_to_str(self.smallest_subnormal)\n"
     ]
    }
   ],
   "source": [
    "import torch\n",
    "from torch.utils.data import DataLoader, Dataset\n",
    "\n",
    "import change_detection_pytorch as cdp\n",
    "from change_detection_pytorch.datasets import CustomDataset, LEVIR_CD_Dataset, Dataset\n",
    "from change_detection_pytorch.utils.lr_scheduler import GradualWarmupScheduler\n",
    "\n",
    "DEVICE = 'cuda' if torch.cuda.is_available() else 'cpu'\n",
    "\n",
    "model = cdp.Unet(\n",
    "    encoder_name=\"resnet34\",  # choose encoder, e.g. mobilenet_v2 or efficientnet-b7\n",
    "    encoder_weights=\"imagenet\",  # use `imagenet` pre-trained weights for encoder initialization\n",
    "    in_channels=3,  # model input channels (1 for gray-scale images, 3 for RGB, etc.)\n",
    "    classes=2,  # model output channels (number of classes in your datasets)\n",
    "    siam_encoder=True,  # whether to use a siamese encoder\n",
    "    fusion_form='concat',  # the form of fusing features from two branches. e.g. concat, sum, diff, or abs_diff.\n",
    ")\n"
   ]
  },
  {
   "cell_type": "code",
   "execution_count": 3,
   "id": "30b3468c-81f7-47a4-a2a0-806bcbf5b2c1",
   "metadata": {
    "execution": {
     "iopub.execute_input": "2023-03-03T14:24:50.214526Z",
     "iopub.status.busy": "2023-03-03T14:24:50.214177Z",
     "iopub.status.idle": "2023-03-03T14:24:52.206108Z",
     "shell.execute_reply": "2023-03-03T14:24:52.203387Z",
     "shell.execute_reply.started": "2023-03-03T14:24:50.214497Z"
    },
    "tags": []
   },
   "outputs": [
    {
     "name": "stdout",
     "output_type": "stream",
     "text": [
      "Looking in indexes: https://pypi.tuna.tsinghua.edu.cn/simple\n",
      "Requirement already satisfied: torch-summary==1.4.4 in /usr/local/lib/python3.8/site-packages (1.4.4)\n",
      "\u001b[33mWARNING: Running pip as the 'root' user can result in broken permissions and conflicting behaviour with the system package manager. It is recommended to use a virtual environment instead: https://pip.pypa.io/warnings/venv\u001b[0m\u001b[33m\n",
      "\u001b[0m"
     ]
    }
   ],
   "source": [
    "!pip install torch-summary==1.4.4"
   ]
  },
  {
   "cell_type": "code",
   "execution_count": 4,
   "id": "58fe5553-7d42-4cd6-89b3-2092c46d0852",
   "metadata": {
    "execution": {
     "iopub.execute_input": "2023-03-03T14:24:52.209066Z",
     "iopub.status.busy": "2023-03-03T14:24:52.208452Z",
     "iopub.status.idle": "2023-03-03T14:24:52.227162Z",
     "shell.execute_reply": "2023-03-03T14:24:52.225271Z",
     "shell.execute_reply.started": "2023-03-03T14:24:52.209003Z"
    },
    "tags": []
   },
   "outputs": [],
   "source": [
    "from torchsummary import summary"
   ]
  },
  {
   "cell_type": "code",
   "execution_count": 5,
   "id": "d639cefb-68e0-4b14-ae8e-a729931bfae8",
   "metadata": {
    "execution": {
     "iopub.execute_input": "2023-03-03T14:24:52.230004Z",
     "iopub.status.busy": "2023-03-03T14:24:52.229438Z",
     "iopub.status.idle": "2023-03-03T14:24:52.301351Z",
     "shell.execute_reply": "2023-03-03T14:24:52.294103Z",
     "shell.execute_reply.started": "2023-03-03T14:24:52.229951Z"
    },
    "tags": []
   },
   "outputs": [
    {
     "name": "stdout",
     "output_type": "stream",
     "text": [
      "=================================================================\n",
      "Layer (type:depth-idx)                   Param #\n",
      "=================================================================\n",
      "├─ResNetEncoder: 1-1                     --\n",
      "|    └─Conv2d: 2-1                       9,408\n",
      "|    └─BatchNorm2d: 2-2                  128\n",
      "|    └─ReLU: 2-3                         --\n",
      "|    └─MaxPool2d: 2-4                    --\n",
      "|    └─Sequential: 2-5                   --\n",
      "|    |    └─BasicBlock: 3-1              73,984\n",
      "|    |    └─BasicBlock: 3-2              73,984\n",
      "|    |    └─BasicBlock: 3-3              73,984\n",
      "|    └─Sequential: 2-6                   --\n",
      "|    |    └─BasicBlock: 3-4              230,144\n",
      "|    |    └─BasicBlock: 3-5              295,424\n",
      "|    |    └─BasicBlock: 3-6              295,424\n",
      "|    |    └─BasicBlock: 3-7              295,424\n",
      "|    └─Sequential: 2-7                   --\n",
      "|    |    └─BasicBlock: 3-8              919,040\n",
      "|    |    └─BasicBlock: 3-9              1,180,672\n",
      "|    |    └─BasicBlock: 3-10             1,180,672\n",
      "|    |    └─BasicBlock: 3-11             1,180,672\n",
      "|    |    └─BasicBlock: 3-12             1,180,672\n",
      "|    |    └─BasicBlock: 3-13             1,180,672\n",
      "|    └─Sequential: 2-8                   --\n",
      "|    |    └─BasicBlock: 3-14             3,673,088\n",
      "|    |    └─BasicBlock: 3-15             4,720,640\n",
      "|    |    └─BasicBlock: 3-16             4,720,640\n",
      "├─UnetDecoder: 1-2                       --\n",
      "|    └─Identity: 2-9                     --\n",
      "|    └─ModuleList: 2-10                  --\n",
      "|    |    └─DecoderBlock: 3-17           4,129,792\n",
      "|    |    └─DecoderBlock: 3-18           737,792\n",
      "|    |    └─DecoderBlock: 3-19           184,576\n",
      "|    |    └─DecoderBlock: 3-20           64,640\n",
      "|    |    └─DecoderBlock: 3-21           6,976\n",
      "├─SegmentationHead: 1-3                  --\n",
      "|    └─Conv2d: 2-11                      290\n",
      "|    └─Identity: 2-12                    --\n",
      "|    └─Activation: 2-13                  --\n",
      "|    |    └─Identity: 3-22               --\n",
      "=================================================================\n",
      "Total params: 26,408,738\n",
      "Trainable params: 26,408,738\n",
      "Non-trainable params: 0\n",
      "=================================================================\n"
     ]
    },
    {
     "data": {
      "text/plain": [
       "=================================================================\n",
       "Layer (type:depth-idx)                   Param #\n",
       "=================================================================\n",
       "├─ResNetEncoder: 1-1                     --\n",
       "|    └─Conv2d: 2-1                       9,408\n",
       "|    └─BatchNorm2d: 2-2                  128\n",
       "|    └─ReLU: 2-3                         --\n",
       "|    └─MaxPool2d: 2-4                    --\n",
       "|    └─Sequential: 2-5                   --\n",
       "|    |    └─BasicBlock: 3-1              73,984\n",
       "|    |    └─BasicBlock: 3-2              73,984\n",
       "|    |    └─BasicBlock: 3-3              73,984\n",
       "|    └─Sequential: 2-6                   --\n",
       "|    |    └─BasicBlock: 3-4              230,144\n",
       "|    |    └─BasicBlock: 3-5              295,424\n",
       "|    |    └─BasicBlock: 3-6              295,424\n",
       "|    |    └─BasicBlock: 3-7              295,424\n",
       "|    └─Sequential: 2-7                   --\n",
       "|    |    └─BasicBlock: 3-8              919,040\n",
       "|    |    └─BasicBlock: 3-9              1,180,672\n",
       "|    |    └─BasicBlock: 3-10             1,180,672\n",
       "|    |    └─BasicBlock: 3-11             1,180,672\n",
       "|    |    └─BasicBlock: 3-12             1,180,672\n",
       "|    |    └─BasicBlock: 3-13             1,180,672\n",
       "|    └─Sequential: 2-8                   --\n",
       "|    |    └─BasicBlock: 3-14             3,673,088\n",
       "|    |    └─BasicBlock: 3-15             4,720,640\n",
       "|    |    └─BasicBlock: 3-16             4,720,640\n",
       "├─UnetDecoder: 1-2                       --\n",
       "|    └─Identity: 2-9                     --\n",
       "|    └─ModuleList: 2-10                  --\n",
       "|    |    └─DecoderBlock: 3-17           4,129,792\n",
       "|    |    └─DecoderBlock: 3-18           737,792\n",
       "|    |    └─DecoderBlock: 3-19           184,576\n",
       "|    |    └─DecoderBlock: 3-20           64,640\n",
       "|    |    └─DecoderBlock: 3-21           6,976\n",
       "├─SegmentationHead: 1-3                  --\n",
       "|    └─Conv2d: 2-11                      290\n",
       "|    └─Identity: 2-12                    --\n",
       "|    └─Activation: 2-13                  --\n",
       "|    |    └─Identity: 3-22               --\n",
       "=================================================================\n",
       "Total params: 26,408,738\n",
       "Trainable params: 26,408,738\n",
       "Non-trainable params: 0\n",
       "================================================================="
      ]
     },
     "execution_count": 5,
     "metadata": {},
     "output_type": "execute_result"
    }
   ],
   "source": [
    "import numpy as np\n",
    "summary(model, input_size=[(3, 256, 256), (3, 256, 256)], batch_size=2,device=\"cpu\")"
   ]
  },
  {
   "cell_type": "code",
   "execution_count": null,
   "id": "b6683f7b-f457-46af-828d-f3a6ddf4de95",
   "metadata": {},
   "outputs": [],
   "source": []
  }
 ],
 "metadata": {
  "kernelspec": {
   "display_name": "Python 3 (ipykernel)",
   "language": "python",
   "name": "python3"
  },
  "language_info": {
   "codemirror_mode": {
    "name": "ipython",
    "version": 3
   },
   "file_extension": ".py",
   "mimetype": "text/x-python",
   "name": "python",
   "nbconvert_exporter": "python",
   "pygments_lexer": "ipython3",
   "version": "3.8.13"
  }
 },
 "nbformat": 4,
 "nbformat_minor": 5
}
