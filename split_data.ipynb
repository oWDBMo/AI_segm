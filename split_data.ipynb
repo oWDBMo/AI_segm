{
 "cells": [
  {
   "cell_type": "code",
   "execution_count": 7,
   "metadata": {
    "collapsed": true
   },
   "outputs": [],
   "source": [
    "import shutil\n",
    "import os\n",
    "import numpy as np\n",
    "from tqdm import tqdm"
   ]
  },
  {
   "cell_type": "code",
   "execution_count": 8,
   "outputs": [],
   "source": [
    "def load_data(path):\n",
    "    data = {}\n",
    "    for dir_name in os.listdir(path):\n",
    "        dir_path = os.path.join(path, dir_name)\n",
    "        data[dir_name] = []\n",
    "        for file_name in os.listdir(dir_path):\n",
    "            file_path = os.path.join(dir_path, file_name)\n",
    "            data[dir_name].append(file_path)\n",
    "        print(f\"{dir_name} : {len(data[dir_name])}\")\n",
    "    return data"
   ],
   "metadata": {
    "collapsed": false
   }
  },
  {
   "cell_type": "code",
   "execution_count": 9,
   "outputs": [],
   "source": [
    "def copy_dataset(src_imgs, data_index, target_path, cls):\n",
    "    target_imgs = []\n",
    "    for index in tqdm(data_index):\n",
    "        src_img = src_imgs[index]\n",
    "        shutil.copy(src_img, target_path)\n",
    "        img_name = os.path.split(src_img)[-1]\n",
    "        target_imgs.append(img_name)\n",
    "    print(f\"{cls} -- completed!\")\n",
    "    return target_imgs"
   ],
   "metadata": {
    "collapsed": false
   }
  },
  {
   "cell_type": "code",
   "execution_count": 10,
   "outputs": [],
   "source": [
    "def write_path(data, file_name):\n",
    "    with open(file_name, \"w\") as f:\n",
    "        for i in data:\n",
    "            f.write(i + \"\\n\")\n",
    "\n",
    "    print(f\"{file_name} completed!\")\n"
   ],
   "metadata": {
    "collapsed": false
   }
  },
  {
   "cell_type": "code",
   "execution_count": 11,
   "outputs": [],
   "source": [
    "def split_data(src_path, target_path, scr_size, rate):\n",
    "    src_data = load_data(src_path).items()\n",
    "    train_size = int(scr_size * rate)\n",
    "    random_index = np.random.choice(scr_size, scr_size, replace=False)\n",
    "    train_dataset, val_dataset = [], []\n",
    "    for i, (cls, imgs) in enumerate(src_data, 0):\n",
    "        train_index = random_index[: train_size]\n",
    "        val_index = random_index[train_size:]\n",
    "\n",
    "        train_path = os.path.join(target_path, \"train\", cls)\n",
    "        val_path = os.path.join(target_path, \"val\", cls)\n",
    "\n",
    "        os.makedirs(train_path, exist_ok=True)\n",
    "        os.makedirs(val_path, exist_ok=True)\n",
    "\n",
    "        train_dataset = copy_dataset(imgs, train_index, train_path, cls)\n",
    "        val_dataset = copy_dataset(imgs, val_index, val_path, cls)\n",
    "\n",
    "    write_path(train_dataset, os.path.join(target_path, \"train.txt\"))\n",
    "    write_path(val_dataset, os.path.join(target_path, \"val.txt\"))\n",
    "    print(\"split completed!\")"
   ],
   "metadata": {
    "collapsed": false
   }
  },
  {
   "cell_type": "code",
   "execution_count": 12,
   "outputs": [
    {
     "name": "stdout",
     "output_type": "stream",
     "text": [
      "label : 4000\n",
      "time1 : 4000\n",
      "time2 : 4000\n"
     ]
    },
    {
     "name": "stderr",
     "output_type": "stream",
     "text": [
      "100%|██████████| 3800/3800 [00:20<00:00, 187.60it/s]\n"
     ]
    },
    {
     "name": "stdout",
     "output_type": "stream",
     "text": [
      "label -- completed!\n"
     ]
    },
    {
     "name": "stderr",
     "output_type": "stream",
     "text": [
      "100%|██████████| 200/200 [00:01<00:00, 190.37it/s]\n"
     ]
    },
    {
     "name": "stdout",
     "output_type": "stream",
     "text": [
      "label -- completed!\n"
     ]
    },
    {
     "name": "stderr",
     "output_type": "stream",
     "text": [
      "100%|██████████| 3800/3800 [00:18<00:00, 211.06it/s]\n"
     ]
    },
    {
     "name": "stdout",
     "output_type": "stream",
     "text": [
      "time1 -- completed!\n"
     ]
    },
    {
     "name": "stderr",
     "output_type": "stream",
     "text": [
      "100%|██████████| 200/200 [00:00<00:00, 210.62it/s]\n"
     ]
    },
    {
     "name": "stdout",
     "output_type": "stream",
     "text": [
      "time1 -- completed!\n"
     ]
    },
    {
     "name": "stderr",
     "output_type": "stream",
     "text": [
      "100%|██████████| 3800/3800 [00:20<00:00, 185.61it/s]\n"
     ]
    },
    {
     "name": "stdout",
     "output_type": "stream",
     "text": [
      "time2 -- completed!\n"
     ]
    },
    {
     "name": "stderr",
     "output_type": "stream",
     "text": [
      "100%|██████████| 200/200 [00:01<00:00, 184.67it/s]"
     ]
    },
    {
     "name": "stdout",
     "output_type": "stream",
     "text": [
      "time2 -- completed!\n",
      "data/dataset\\train.txt completed!\n",
      "data/dataset\\val.txt completed!\n",
      "split completed!\n"
     ]
    },
    {
     "name": "stderr",
     "output_type": "stream",
     "text": [
      "\n"
     ]
    }
   ],
   "source": [
    "split_data(src_path=\"data/fig2\", target_path=\"data/dataset\", scr_size=4000, rate=0.95)"
   ],
   "metadata": {
    "collapsed": false
   }
  }
 ],
 "metadata": {
  "kernelspec": {
   "display_name": "Python 3",
   "language": "python",
   "name": "python3"
  },
  "language_info": {
   "codemirror_mode": {
    "name": "ipython",
    "version": 2
   },
   "file_extension": ".py",
   "mimetype": "text/x-python",
   "name": "python",
   "nbconvert_exporter": "python",
   "pygments_lexer": "ipython2",
   "version": "2.7.6"
  }
 },
 "nbformat": 4,
 "nbformat_minor": 0
}
