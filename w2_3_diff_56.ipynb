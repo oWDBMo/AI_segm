{
 "cells": [
  {
   "cell_type": "code",
   "execution_count": 1,
   "metadata": {
    "execution": {
     "iopub.execute_input": "2023-03-07T11:18:26.189578Z",
     "iopub.status.busy": "2023-03-07T11:18:26.189210Z",
     "iopub.status.idle": "2023-03-07T11:18:27.581382Z",
     "shell.execute_reply": "2023-03-07T11:18:27.580685Z",
     "shell.execute_reply.started": "2023-03-07T11:18:26.189494Z"
    }
   },
   "outputs": [],
   "source": [
    "import torch.nn as nn\n",
    "from torchvision import transforms\n",
    "from torch.utils.data import DataLoader\n",
    "import torch\n",
    "from tqdm import tqdm\n",
    "from torch.cuda.amp import autocast\n",
    "from mydataset import MyDataset\n",
    "from SiamUnet_diff import SiamUnet_diff\n",
    "from data_augmentation import RandomRotation, RandomVerticalFlip, RandomHorizontalFlip, Compose, ToTensor"
   ]
  },
  {
   "cell_type": "code",
   "execution_count": 2,
   "metadata": {
    "execution": {
     "iopub.execute_input": "2023-03-07T11:18:27.584002Z",
     "iopub.status.busy": "2023-03-07T11:18:27.583559Z",
     "iopub.status.idle": "2023-03-07T11:18:27.587431Z",
     "shell.execute_reply": "2023-03-07T11:18:27.586789Z",
     "shell.execute_reply.started": "2023-03-07T11:18:27.583967Z"
    }
   },
   "outputs": [],
   "source": [
    "batch_size = 100\n",
    "lr = 0.005\n",
    "device = \"cuda\" if torch.cuda.is_available() else \"cpu\""
   ]
  },
  {
   "cell_type": "code",
   "execution_count": 3,
   "metadata": {
    "execution": {
     "iopub.execute_input": "2023-03-07T11:18:27.588926Z",
     "iopub.status.busy": "2023-03-07T11:18:27.588485Z",
     "iopub.status.idle": "2023-03-07T11:18:27.610721Z",
     "shell.execute_reply": "2023-03-07T11:18:27.609967Z",
     "shell.execute_reply.started": "2023-03-07T11:18:27.588900Z"
    }
   },
   "outputs": [
    {
     "data": {
      "text/plain": [
       "(3800, 200, 38, 2)"
      ]
     },
     "execution_count": 3,
     "metadata": {},
     "output_type": "execute_result"
    }
   ],
   "source": [
    "train_set = MyDataset(root=\"data\", is_train=True, transform=Compose([\n",
    "    ToTensor(),\n",
    "    RandomHorizontalFlip(),\n",
    "    RandomVerticalFlip(),\n",
    "    RandomRotation([0, 90, 180, 270]),\n",
    "]), normalize=transforms.Normalize((0.485, 0.456, 0.406), (0.229, 0.224, 0.225)))\n",
    "\n",
    "val_set = MyDataset(root=\"data\", is_train=False, transform=Compose([ToTensor()]),\n",
    "                    normalize=transforms.Normalize((0.485, 0.456, 0.406), (0.229, 0.224, 0.225)))\n",
    "\n",
    "train_loader = DataLoader(\n",
    "    train_set,\n",
    "    batch_size=batch_size,\n",
    "    shuffle=True,\n",
    "    num_workers=0\n",
    ")\n",
    "\n",
    "val_loader = DataLoader(\n",
    "    val_set,\n",
    "    batch_size=batch_size,\n",
    "    shuffle=False,\n",
    "    num_workers=0\n",
    ")\n",
    "len(train_set), len(val_set), len(train_loader), len(val_loader)"
   ]
  },
  {
   "cell_type": "code",
   "execution_count": 4,
   "metadata": {
    "execution": {
     "iopub.execute_input": "2023-03-07T11:18:27.612212Z",
     "iopub.status.busy": "2023-03-07T11:18:27.611554Z",
     "iopub.status.idle": "2023-03-07T11:18:29.932905Z",
     "shell.execute_reply": "2023-03-07T11:18:29.931398Z",
     "shell.execute_reply.started": "2023-03-07T11:18:27.612188Z"
    }
   },
   "outputs": [],
   "source": [
    "model = SiamUnet_diff(3, 2)\n",
    "model.cuda()\n",
    "\n",
    "criterion = nn.CrossEntropyLoss()\n",
    "optim = torch.optim.AdamW(model.parameters(), lr=lr, weight_decay=1e-9)\n",
    "scheduler = torch.optim.lr_scheduler.ReduceLROnPlateau(\n",
    "    optim, mode='max', factor=0.1, patience=2,\n",
    "    verbose=True)\n",
    "scaler = torch.cuda.amp.GradScaler(enabled=True)"
   ]
  },
  {
   "cell_type": "code",
   "execution_count": 5,
   "metadata": {
    "execution": {
     "iopub.execute_input": "2023-03-07T11:18:29.934890Z",
     "iopub.status.busy": "2023-03-07T11:18:29.934606Z",
     "iopub.status.idle": "2023-03-07T11:18:29.942488Z",
     "shell.execute_reply": "2023-03-07T11:18:29.941501Z",
     "shell.execute_reply.started": "2023-03-07T11:18:29.934854Z"
    }
   },
   "outputs": [],
   "source": [
    "def train_model(epoch):\n",
    "    model.train()\n",
    "    print(f\"Epoch {epoch} Training\")\n",
    "    with tqdm(train_loader, desc=str(epoch)) as it:\n",
    "        for idx, (img1, img2, mask) in enumerate(it, 0):\n",
    "            img1, img2, mask = img1.cuda(), img2.cuda(), mask.cuda()\n",
    "            optim.zero_grad()\n",
    "            mask = mask.long()\n",
    "            with autocast():\n",
    "                outputs = model(img1, img2)\n",
    "                mask = mask.squeeze(1)\n",
    "                loss = criterion(outputs, mask)\n",
    "            scaler.scale(loss).backward()\n",
    "            scaler.step(optim)\n",
    "            scaler.update()\n",
    "            _, pred = torch.max(outputs.data, 1)\n",
    "            p, r, f1, iou = get_index(pred, mask)\n",
    "            it.set_postfix_str(f\"loss: {loss.item(): .4f} p: {p: .4f}  r: {r: .4f}  f1: {f1: .4f}  iou: {iou: .4f}\")"
   ]
  },
  {
   "cell_type": "code",
   "execution_count": 6,
   "metadata": {
    "execution": {
     "iopub.execute_input": "2023-03-07T11:18:29.943739Z",
     "iopub.status.busy": "2023-03-07T11:18:29.943565Z",
     "iopub.status.idle": "2023-03-07T11:18:29.951104Z",
     "shell.execute_reply": "2023-03-07T11:18:29.950285Z",
     "shell.execute_reply.started": "2023-03-07T11:18:29.943723Z"
    },
    "tags": []
   },
   "outputs": [],
   "source": [
    "def get_index(pred, label):\n",
    "    eps = 1e-7\n",
    "    tp = torch.sum(label * pred)\n",
    "    fp = torch.sum(pred) - tp\n",
    "    fn = torch.sum(label) - tp\n",
    "\n",
    "    p = (tp + eps) / (tp + fp + eps)\n",
    "    r = (tp + eps) / (tp + fn + eps)\n",
    "    f1 = (2 * p * r + eps) / (p + r + eps)\n",
    "    iou = (tp + eps) / (tp + fn + fp + eps)\n",
    "    return p, r, f1, iou\n",
    "\n",
    "\n",
    "def test_model(epoch):\n",
    "    model.eval()\n",
    "    global max_score\n",
    "    f1s = 0\n",
    "    print(f\"Epoch {epoch} Testing\")\n",
    "    with torch.no_grad():\n",
    "        with tqdm(val_loader, desc=str(epoch)) as it:\n",
    "            for img1, img2, mask in it:\n",
    "                img1, img2, mask = img1.cuda(), img2.cuda(), mask.cuda()\n",
    "                outputs = model(img1, img2)\n",
    "                _, pred = torch.max(outputs.data, 1)\n",
    "                mask = mask.squeeze(1)\n",
    "                p, r, f1, iou = get_index(pred, mask)\n",
    "                f1s += f1\n",
    "                it.set_postfix_str(f\"p: {p: .4f}  r: {r: .4f}  f1: {f1: .4f}  iou: {iou: .4f}\")\n",
    "    f1s /= len(val_loader)\n",
    "    scheduler.step(f1s)\n",
    "    print(\"f1\", f1s.item())\n",
    "    if max_score < f1s:\n",
    "        max_score = f1s\n",
    "        print('max_score', max_score.item())"
   ]
  },
  {
   "cell_type": "code",
   "execution_count": 7,
   "metadata": {
    "execution": {
     "iopub.execute_input": "2023-03-07T11:18:29.953628Z",
     "iopub.status.busy": "2023-03-07T11:18:29.953444Z",
     "iopub.status.idle": "2023-03-07T11:28:01.230605Z",
     "shell.execute_reply": "2023-03-07T11:28:01.229670Z",
     "shell.execute_reply.started": "2023-03-07T11:18:29.953613Z"
    },
    "tags": []
   },
   "outputs": [
    {
     "name": "stdout",
     "output_type": "stream",
     "text": [
      "Epoch 0 Training\n"
     ]
    },
    {
     "name": "stderr",
     "output_type": "stream",
     "text": [
      "0: 100%|██████████| 38/38 [00:56<00:00,  1.47s/it, loss:  0.4910 p:  0.6308  r:  0.2501  f1:  0.3582  iou:  0.2182]\n"
     ]
    },
    {
     "name": "stdout",
     "output_type": "stream",
     "text": [
      "Epoch 0 Testing\n"
     ]
    },
    {
     "name": "stderr",
     "output_type": "stream",
     "text": [
      "0: 100%|██████████| 2/2 [00:01<00:00,  1.40it/s, p:  0.6077  r:  0.2874  f1:  0.3903  iou:  0.2425]\n"
     ]
    },
    {
     "name": "stdout",
     "output_type": "stream",
     "text": [
      "f1 0.4316170601517657\n",
      "max_score 0.4316170601517657\n",
      "Epoch 1 Training\n"
     ]
    },
    {
     "name": "stderr",
     "output_type": "stream",
     "text": [
      "1: 100%|██████████| 38/38 [00:55<00:00,  1.45s/it, loss:  0.5104 p:  0.6229  r:  0.2919  f1:  0.3976  iou:  0.2481]\n"
     ]
    },
    {
     "name": "stdout",
     "output_type": "stream",
     "text": [
      "Epoch 1 Testing\n"
     ]
    },
    {
     "name": "stderr",
     "output_type": "stream",
     "text": [
      "1: 100%|██████████| 2/2 [00:01<00:00,  1.37it/s, p:  0.5606  r:  0.5164  f1:  0.5376  iou:  0.3676]\n"
     ]
    },
    {
     "name": "stdout",
     "output_type": "stream",
     "text": [
      "f1 0.5620697301459983\n",
      "max_score 0.5620697301459983\n",
      "Epoch 2 Training\n"
     ]
    },
    {
     "name": "stderr",
     "output_type": "stream",
     "text": [
      "2: 100%|██████████| 38/38 [00:55<00:00,  1.45s/it, loss:  0.4933 p:  0.6040  r:  0.2693  f1:  0.3725  iou:  0.2289]\n"
     ]
    },
    {
     "name": "stdout",
     "output_type": "stream",
     "text": [
      "Epoch 2 Testing\n"
     ]
    },
    {
     "name": "stderr",
     "output_type": "stream",
     "text": [
      "2: 100%|██████████| 2/2 [00:01<00:00,  1.38it/s, p:  0.7016  r:  0.2800  f1:  0.4002  iou:  0.2502]\n"
     ]
    },
    {
     "name": "stdout",
     "output_type": "stream",
     "text": [
      "f1 0.4351838520863833\n",
      "Epoch 3 Training\n"
     ]
    },
    {
     "name": "stderr",
     "output_type": "stream",
     "text": [
      "3: 100%|██████████| 38/38 [00:56<00:00,  1.48s/it, loss:  0.4870 p:  0.4026  r:  0.2592  f1:  0.3153  iou:  0.1872]\n"
     ]
    },
    {
     "name": "stdout",
     "output_type": "stream",
     "text": [
      "Epoch 3 Testing\n"
     ]
    },
    {
     "name": "stderr",
     "output_type": "stream",
     "text": [
      "3: 100%|██████████| 2/2 [00:01<00:00,  1.36it/s, p:  0.6751  r:  0.4022  f1:  0.5041  iou:  0.3370]\n"
     ]
    },
    {
     "name": "stdout",
     "output_type": "stream",
     "text": [
      "f1 0.5337325210692943\n",
      "Epoch 4 Training\n"
     ]
    },
    {
     "name": "stderr",
     "output_type": "stream",
     "text": [
      "4: 100%|██████████| 38/38 [00:56<00:00,  1.50s/it, loss:  0.4859 p:  0.6939  r:  0.3089  f1:  0.4275  iou:  0.2719]\n"
     ]
    },
    {
     "name": "stdout",
     "output_type": "stream",
     "text": [
      "Epoch 4 Testing\n"
     ]
    },
    {
     "name": "stderr",
     "output_type": "stream",
     "text": [
      "4: 100%|██████████| 2/2 [00:01<00:00,  1.39it/s, p:  0.6618  r:  0.4088  f1:  0.5054  iou:  0.3381]\n"
     ]
    },
    {
     "name": "stdout",
     "output_type": "stream",
     "text": [
      "Epoch     5: reducing learning rate of group 0 to 5.0000e-04.\n",
      "f1 0.5350384741181551\n",
      "Epoch 5 Training\n"
     ]
    },
    {
     "name": "stderr",
     "output_type": "stream",
     "text": [
      "5: 100%|██████████| 38/38 [00:56<00:00,  1.50s/it, loss:  0.4800 p:  0.6394  r:  0.3456  f1:  0.4487  iou:  0.2892]\n"
     ]
    },
    {
     "name": "stdout",
     "output_type": "stream",
     "text": [
      "Epoch 5 Testing\n"
     ]
    },
    {
     "name": "stderr",
     "output_type": "stream",
     "text": [
      "5: 100%|██████████| 2/2 [00:01<00:00,  1.41it/s, p:  0.6797  r:  0.4009  f1:  0.5044  iou:  0.3372]\n"
     ]
    },
    {
     "name": "stdout",
     "output_type": "stream",
     "text": [
      "f1 0.5292088410779561\n",
      "Epoch 6 Training\n"
     ]
    },
    {
     "name": "stderr",
     "output_type": "stream",
     "text": [
      "6: 100%|██████████| 38/38 [00:54<00:00,  1.44s/it, loss:  0.5206 p:  0.6174  r:  0.2389  f1:  0.3445  iou:  0.2081]\n"
     ]
    },
    {
     "name": "stdout",
     "output_type": "stream",
     "text": [
      "Epoch 6 Testing\n"
     ]
    },
    {
     "name": "stderr",
     "output_type": "stream",
     "text": [
      "6: 100%|██████████| 2/2 [00:01<00:00,  1.40it/s, p:  0.6917  r:  0.3931  f1:  0.5013  iou:  0.3345]\n"
     ]
    },
    {
     "name": "stdout",
     "output_type": "stream",
     "text": [
      "f1 0.5274038895543219\n",
      "Epoch 7 Training\n"
     ]
    },
    {
     "name": "stderr",
     "output_type": "stream",
     "text": [
      "7: 100%|██████████| 38/38 [00:55<00:00,  1.45s/it, loss:  0.4555 p:  0.6564  r:  0.4098  f1:  0.5046  iou:  0.3374]\n"
     ]
    },
    {
     "name": "stdout",
     "output_type": "stream",
     "text": [
      "Epoch 7 Testing\n"
     ]
    },
    {
     "name": "stderr",
     "output_type": "stream",
     "text": [
      "7: 100%|██████████| 2/2 [00:01<00:00,  1.42it/s, p:  0.6917  r:  0.4200  f1:  0.5226  iou:  0.3538]\n"
     ]
    },
    {
     "name": "stdout",
     "output_type": "stream",
     "text": [
      "Epoch     8: reducing learning rate of group 0 to 5.0000e-05.\n",
      "f1 0.5445917210608167\n",
      "Epoch 8 Training\n"
     ]
    },
    {
     "name": "stderr",
     "output_type": "stream",
     "text": [
      "8: 100%|██████████| 38/38 [00:55<00:00,  1.45s/it, loss:  0.4729 p:  0.7146  r:  0.3695  f1:  0.4872  iou:  0.3220]\n"
     ]
    },
    {
     "name": "stdout",
     "output_type": "stream",
     "text": [
      "Epoch 8 Testing\n"
     ]
    },
    {
     "name": "stderr",
     "output_type": "stream",
     "text": [
      "8: 100%|██████████| 2/2 [00:01<00:00,  1.40it/s, p:  0.6982  r:  0.4096  f1:  0.5163  iou:  0.3480]\n"
     ]
    },
    {
     "name": "stdout",
     "output_type": "stream",
     "text": [
      "f1 0.5389594932381007\n",
      "Epoch 9 Training\n"
     ]
    },
    {
     "name": "stderr",
     "output_type": "stream",
     "text": [
      "9: 100%|██████████| 38/38 [00:54<00:00,  1.44s/it, loss:  0.4747 p:  0.5255  r:  0.3647  f1:  0.4306  iou:  0.2744]\n"
     ]
    },
    {
     "name": "stdout",
     "output_type": "stream",
     "text": [
      "Epoch 9 Testing\n"
     ]
    },
    {
     "name": "stderr",
     "output_type": "stream",
     "text": [
      "9: 100%|██████████| 2/2 [00:01<00:00,  1.39it/s, p:  0.6970  r:  0.4133  f1:  0.5189  iou:  0.3504]"
     ]
    },
    {
     "name": "stdout",
     "output_type": "stream",
     "text": [
      "f1 0.5413656357055255\n",
      "completed!\n",
      "max_score 0.5620697301459983\n"
     ]
    },
    {
     "name": "stderr",
     "output_type": "stream",
     "text": [
      "\n"
     ]
    }
   ],
   "source": [
    "num_epoch = 10\n",
    "max_score = 0\n",
    "for epoch in range(0, num_epoch):\n",
    "    train_model(epoch=epoch)\n",
    "    test_model(epoch=epoch)\n",
    "print(\"completed!\")\n",
    "print('max_score', max_score.item())"
   ]
  },
  {
   "cell_type": "code",
   "execution_count": null,
   "metadata": {
    "tags": []
   },
   "outputs": [],
   "source": []
  },
  {
   "cell_type": "code",
   "execution_count": null,
   "metadata": {},
   "outputs": [],
   "source": []
  },
  {
   "cell_type": "code",
   "execution_count": null,
   "metadata": {},
   "outputs": [],
   "source": []
  }
 ],
 "metadata": {
  "kernelspec": {
   "display_name": "Python 3 (ipykernel)",
   "language": "python",
   "name": "python3"
  },
  "language_info": {
   "codemirror_mode": {
    "name": "ipython",
    "version": 3
   },
   "file_extension": ".py",
   "mimetype": "text/x-python",
   "name": "python",
   "nbconvert_exporter": "python",
   "pygments_lexer": "ipython3",
   "version": "3.8.13"
  }
 },
 "nbformat": 4,
 "nbformat_minor": 4
}
