{
 "cells": [
  {
   "cell_type": "code",
   "execution_count": 1,
   "metadata": {
    "execution": {
     "iopub.execute_input": "2023-03-09T07:41:49.564895Z",
     "iopub.status.busy": "2023-03-09T07:41:49.564184Z",
     "iopub.status.idle": "2023-03-09T07:41:50.970577Z",
     "shell.execute_reply": "2023-03-09T07:41:50.969938Z",
     "shell.execute_reply.started": "2023-03-09T07:41:49.564811Z"
    }
   },
   "outputs": [],
   "source": [
    "import torch.nn as nn\n",
    "from torchvision import transforms\n",
    "from torch.utils.data import DataLoader\n",
    "import torch\n",
    "from mydataset import MyDataset\n",
    "from myunet import Unet\n",
    "from SiamUnet_diff import SiamUnet_diff\n",
    "from Siamunet_conc import SiamUnet_conc\n",
    "from tqdm import tqdm\n",
    "from torch.cuda.amp import autocast\n",
    "from data_augmentation import RandomRotation, RandomVerticalFlip, RandomHorizontalFlip, Compose, ToTensor"
   ]
  },
  {
   "cell_type": "code",
   "execution_count": 2,
   "metadata": {
    "execution": {
     "iopub.execute_input": "2023-03-09T07:41:50.972175Z",
     "iopub.status.busy": "2023-03-09T07:41:50.971869Z",
     "iopub.status.idle": "2023-03-09T07:41:50.975026Z",
     "shell.execute_reply": "2023-03-09T07:41:50.974607Z",
     "shell.execute_reply.started": "2023-03-09T07:41:50.972158Z"
    }
   },
   "outputs": [],
   "source": [
    "batch_size = 100\n",
    "lr = 0.001\n",
    "device = \"cuda\" if torch.cuda.is_available() else \"cpu\""
   ]
  },
  {
   "cell_type": "code",
   "execution_count": 3,
   "metadata": {
    "execution": {
     "iopub.execute_input": "2023-03-09T07:41:50.975825Z",
     "iopub.status.busy": "2023-03-09T07:41:50.975598Z",
     "iopub.status.idle": "2023-03-09T07:41:51.000389Z",
     "shell.execute_reply": "2023-03-09T07:41:50.999981Z",
     "shell.execute_reply.started": "2023-03-09T07:41:50.975809Z"
    }
   },
   "outputs": [
    {
     "data": {
      "text/plain": [
       "(3800, 200, 38, 2)"
      ]
     },
     "execution_count": 3,
     "metadata": {},
     "output_type": "execute_result"
    }
   ],
   "source": [
    "train_set = MyDataset(root=\"data\", is_train=True, transform=Compose([\n",
    "    ToTensor(),\n",
    "    RandomHorizontalFlip(),\n",
    "    RandomVerticalFlip(),\n",
    "    RandomRotation([0, 90, 180, 270]),\n",
    "]), normalize=transforms.Normalize((0.485, 0.456, 0.406), (0.229, 0.224, 0.225)))\n",
    "\n",
    "val_set = MyDataset(root=\"data\", is_train=False, transform=Compose([ToTensor()]),\n",
    "                    normalize=transforms.Normalize((0.485, 0.456, 0.406), (0.229, 0.224, 0.225)))\n",
    "\n",
    "train_loader = DataLoader(\n",
    "    train_set,\n",
    "    batch_size=batch_size,\n",
    "    shuffle=True,\n",
    "    num_workers=0\n",
    ")\n",
    "\n",
    "val_loader = DataLoader(\n",
    "    val_set,\n",
    "    batch_size=batch_size,\n",
    "    shuffle=False,\n",
    "    num_workers=0\n",
    ")\n",
    "len(train_set), len(val_set), len(train_loader), len(val_loader)"
   ]
  },
  {
   "cell_type": "code",
   "execution_count": 4,
   "metadata": {
    "execution": {
     "iopub.execute_input": "2023-03-09T07:41:51.001135Z",
     "iopub.status.busy": "2023-03-09T07:41:51.000977Z",
     "iopub.status.idle": "2023-03-09T07:41:53.393569Z",
     "shell.execute_reply": "2023-03-09T07:41:53.392791Z",
     "shell.execute_reply.started": "2023-03-09T07:41:51.001121Z"
    },
    "tags": []
   },
   "outputs": [],
   "source": [
    "model0 = Unet(6, 2)\n",
    "model0.cuda()\n",
    "criterion0 = nn.CrossEntropyLoss()\n",
    "optim0 = torch.optim.AdamW(model0.parameters(), lr=0.0001, weight_decay=1e-9)\n",
    "scheduler0 = torch.optim.lr_scheduler.ReduceLROnPlateau(\n",
    "    optim0, mode='max', factor=0.1, patience=2,\n",
    "    verbose=True)\n",
    "scaler0 = torch.cuda.amp.GradScaler(enabled=True)"
   ]
  },
  {
   "cell_type": "code",
   "execution_count": 5,
   "metadata": {
    "collapsed": false,
    "execution": {
     "iopub.execute_input": "2023-03-09T07:41:53.394632Z",
     "iopub.status.busy": "2023-03-09T07:41:53.394444Z",
     "iopub.status.idle": "2023-03-09T07:41:53.412458Z",
     "shell.execute_reply": "2023-03-09T07:41:53.412032Z",
     "shell.execute_reply.started": "2023-03-09T07:41:53.394608Z"
    },
    "jupyter": {
     "outputs_hidden": false
    }
   },
   "outputs": [],
   "source": [
    "model1 = SiamUnet_diff(3, 2)\n",
    "model1.cuda()\n",
    "\n",
    "criterion1 = nn.CrossEntropyLoss()\n",
    "optim1 = torch.optim.AdamW(model1.parameters(), lr=0.0001, weight_decay=1e-9)\n",
    "scheduler1 = torch.optim.lr_scheduler.ReduceLROnPlateau(\n",
    "    optim1, mode='max', factor=0.1, patience=2,\n",
    "    verbose=True)\n",
    "scaler1 = torch.cuda.amp.GradScaler(enabled=True)"
   ]
  },
  {
   "cell_type": "code",
   "execution_count": 6,
   "metadata": {
    "collapsed": false,
    "execution": {
     "iopub.execute_input": "2023-03-09T07:41:53.413217Z",
     "iopub.status.busy": "2023-03-09T07:41:53.413049Z",
     "iopub.status.idle": "2023-03-09T07:41:53.432310Z",
     "shell.execute_reply": "2023-03-09T07:41:53.431894Z",
     "shell.execute_reply.started": "2023-03-09T07:41:53.413202Z"
    },
    "jupyter": {
     "outputs_hidden": false
    }
   },
   "outputs": [],
   "source": [
    "model2 = SiamUnet_conc(3, 2)\n",
    "model2.cuda()\n",
    "\n",
    "optim2 = torch.optim.AdamW(model2.parameters(), lr=0.0001, weight_decay=1e-9)\n",
    "scheduler2 = torch.optim.lr_scheduler.ReduceLROnPlateau(\n",
    "    optim2, mode='max', factor=0.1, patience=2,\n",
    "    verbose=True)\n",
    "scaler2 = torch.cuda.amp.GradScaler(enabled=True)"
   ]
  },
  {
   "cell_type": "code",
   "execution_count": 7,
   "metadata": {
    "collapsed": false,
    "execution": {
     "iopub.execute_input": "2023-03-09T07:41:53.433776Z",
     "iopub.status.busy": "2023-03-09T07:41:53.433573Z",
     "iopub.status.idle": "2023-03-09T07:41:53.436442Z",
     "shell.execute_reply": "2023-03-09T07:41:53.436038Z",
     "shell.execute_reply.started": "2023-03-09T07:41:53.433760Z"
    },
    "jupyter": {
     "outputs_hidden": false
    }
   },
   "outputs": [],
   "source": [
    "models = [model0, model1, model2]\n",
    "criterion = nn.CrossEntropyLoss()\n",
    "schedulers = [scheduler0, scheduler1, scheduler2]\n",
    "scalers = [scaler0, scaler1, scaler2]\n",
    "optims = [optim0, optim1, optim2]"
   ]
  },
  {
   "cell_type": "code",
   "execution_count": 8,
   "metadata": {
    "execution": {
     "iopub.execute_input": "2023-03-09T07:41:53.437194Z",
     "iopub.status.busy": "2023-03-09T07:41:53.437008Z",
     "iopub.status.idle": "2023-03-09T07:41:53.442192Z",
     "shell.execute_reply": "2023-03-09T07:41:53.441782Z",
     "shell.execute_reply.started": "2023-03-09T07:41:53.437179Z"
    },
    "tags": []
   },
   "outputs": [],
   "source": [
    "def train_model(epoch):\n",
    "    for model in models:\n",
    "        model.train()\n",
    "    print(f\"Epoch {epoch} Training\")\n",
    "    with tqdm(train_loader, desc=str(epoch)) as it:\n",
    "        for idx, (img1, img2, mask) in enumerate(it, 0):\n",
    "            img1, img2, mask = img1.cuda(), img2.cuda(), mask.cuda()\n",
    "            mask = mask.long()\n",
    "            mask = mask.squeeze(1)\n",
    "            vote = []\n",
    "            for model, optim, scaler in zip(models, optims, scalers):\n",
    "                optim.zero_grad()\n",
    "                with autocast():\n",
    "                    outputs = model(img1, img2)\n",
    "                    loss = criterion(outputs, mask)\n",
    "                scaler.scale(loss).backward()\n",
    "                scaler.step(optim)\n",
    "                scaler.update()\n",
    "                _, pred = torch.max(outputs.data, 1)\n",
    "                vote.append(pred)\n",
    "            vote = torch.stack(vote, dim=0)\n",
    "            pred = torch.div(torch.sum(vote, dim=0), 2, rounding_mode=\"trunc\")\n",
    "            p, r, f1, iou = get_index(pred, mask)\n",
    "            it.set_postfix_str(f\"loss: {loss.item(): .4f} p: {p: .4f}  r: {r: .4f}  f1: {f1: .4f}  iou: {iou: .4f}\")"
   ]
  },
  {
   "cell_type": "code",
   "execution_count": 9,
   "metadata": {
    "execution": {
     "iopub.execute_input": "2023-03-09T07:41:53.442935Z",
     "iopub.status.busy": "2023-03-09T07:41:53.442750Z",
     "iopub.status.idle": "2023-03-09T07:41:53.449256Z",
     "shell.execute_reply": "2023-03-09T07:41:53.448838Z",
     "shell.execute_reply.started": "2023-03-09T07:41:53.442919Z"
    },
    "tags": []
   },
   "outputs": [],
   "source": [
    "def get_index(pred, label):\n",
    "    eps = 1e-7\n",
    "    tp = torch.sum(label * pred)\n",
    "    fp = torch.sum(pred) - tp\n",
    "    fn = torch.sum(label) - tp\n",
    "\n",
    "    p = (tp + eps) / (tp + fp + eps)\n",
    "    r = (tp + eps) / (tp + fn + eps)\n",
    "    f1 = (2 * p * r + eps) / (p + r + eps)\n",
    "    iou = (tp + eps) / (tp + fn + fp + eps)\n",
    "    return p, r, f1, iou\n",
    "\n",
    "\n",
    "def test_model(epoch):\n",
    "    for model in models:\n",
    "        model.eval()\n",
    "    global max_score\n",
    "    f1s = 0\n",
    "    print(f\"Epoch {epoch} Testing\")\n",
    "    with torch.no_grad():\n",
    "        with tqdm(val_loader, desc=str(epoch)) as it:\n",
    "            for img1, img2, mask in it:\n",
    "                img1, img2, mask = img1.cuda(), img2.cuda(), mask.cuda()\n",
    "                mask = mask.squeeze(1)\n",
    "                vote = []\n",
    "                for model in models:\n",
    "                    outputs = model(img1, img2)\n",
    "                    _, pred = torch.max(outputs.data, 1)\n",
    "                    vote.append(pred)\n",
    "                vote = torch.stack(vote, dim=0)\n",
    "                pred = torch.div(torch.sum(vote, dim=0), 2, rounding_mode=\"trunc\")\n",
    "                p, r, f1, iou = get_index(pred, mask)\n",
    "                f1s += f1\n",
    "                it.set_postfix_str(f\"p: {p: .4f}  r: {r: .4f}  f1: {f1: .4f}  iou: {iou: .4f}\")\n",
    "    f1s /= len(val_loader)\n",
    "    for scheduler in schedulers:\n",
    "        scheduler.step(f1s)\n",
    "    print(\"f1\", f1s.item())\n",
    "    if max_score < f1s:\n",
    "        max_score = f1s\n",
    "        print('max_score', max_score.item())"
   ]
  },
  {
   "cell_type": "code",
   "execution_count": 10,
   "metadata": {
    "execution": {
     "iopub.execute_input": "2023-03-09T07:41:53.450026Z",
     "iopub.status.busy": "2023-03-09T07:41:53.449797Z",
     "iopub.status.idle": "2023-03-09T07:56:49.873038Z",
     "shell.execute_reply": "2023-03-09T07:56:49.872413Z",
     "shell.execute_reply.started": "2023-03-09T07:41:53.450010Z"
    },
    "tags": []
   },
   "outputs": [
    {
     "name": "stdout",
     "output_type": "stream",
     "text": [
      "Epoch 0 Training\n"
     ]
    },
    {
     "name": "stderr",
     "output_type": "stream",
     "text": [
      "0: 100%|██████████| 38/38 [01:47<00:00,  2.83s/it, loss:  0.5359 p:  0.3198  r:  0.3194  f1:  0.3196  iou:  0.1902]\n"
     ]
    },
    {
     "name": "stdout",
     "output_type": "stream",
     "text": [
      "Epoch 0 Testing\n"
     ]
    },
    {
     "name": "stderr",
     "output_type": "stream",
     "text": [
      "0: 100%|██████████| 2/2 [00:03<00:00,  1.86s/it, p:  0.3978  r:  0.4589  f1:  0.4262  iou:  0.2708]\n"
     ]
    },
    {
     "name": "stdout",
     "output_type": "stream",
     "text": [
      "f1 0.4453760606427993\n",
      "max_score 0.4453760606427993\n",
      "Epoch 1 Training\n"
     ]
    },
    {
     "name": "stderr",
     "output_type": "stream",
     "text": [
      "1: 100%|██████████| 38/38 [01:42<00:00,  2.69s/it, loss:  0.4890 p:  0.3792  r:  0.3431  f1:  0.3603  iou:  0.2197]\n"
     ]
    },
    {
     "name": "stdout",
     "output_type": "stream",
     "text": [
      "Epoch 1 Testing\n"
     ]
    },
    {
     "name": "stderr",
     "output_type": "stream",
     "text": [
      "1: 100%|██████████| 2/2 [00:03<00:00,  1.74s/it, p:  0.4839  r:  0.4611  f1:  0.4722  iou:  0.3091]\n"
     ]
    },
    {
     "name": "stdout",
     "output_type": "stream",
     "text": [
      "f1 0.49267218995263473\n",
      "max_score 0.49267218995263473\n",
      "Epoch 2 Training\n"
     ]
    },
    {
     "name": "stderr",
     "output_type": "stream",
     "text": [
      "2: 100%|██████████| 38/38 [01:34<00:00,  2.49s/it, loss:  0.4523 p:  0.4389  r:  0.3303  f1:  0.3769  iou:  0.2322]\n"
     ]
    },
    {
     "name": "stdout",
     "output_type": "stream",
     "text": [
      "Epoch 2 Testing\n"
     ]
    },
    {
     "name": "stderr",
     "output_type": "stream",
     "text": [
      "2: 100%|██████████| 2/2 [00:02<00:00,  1.10s/it, p:  0.5622  r:  0.4249  f1:  0.4840  iou:  0.3193]\n"
     ]
    },
    {
     "name": "stdout",
     "output_type": "stream",
     "text": [
      "f1 0.5050421166454132\n",
      "max_score 0.5050421166454132\n",
      "Epoch 3 Training\n"
     ]
    },
    {
     "name": "stderr",
     "output_type": "stream",
     "text": [
      "3: 100%|██████████| 38/38 [01:22<00:00,  2.17s/it, loss:  0.4262 p:  0.5675  r:  0.2709  f1:  0.3667  iou:  0.2245]\n"
     ]
    },
    {
     "name": "stdout",
     "output_type": "stream",
     "text": [
      "Epoch 3 Testing\n"
     ]
    },
    {
     "name": "stderr",
     "output_type": "stream",
     "text": [
      "3: 100%|██████████| 2/2 [00:02<00:00,  1.07s/it, p:  0.5938  r:  0.3861  f1:  0.4679  iou:  0.3054]\n"
     ]
    },
    {
     "name": "stdout",
     "output_type": "stream",
     "text": [
      "f1 0.49117201057579135\n",
      "Epoch 4 Training\n"
     ]
    },
    {
     "name": "stderr",
     "output_type": "stream",
     "text": [
      "4: 100%|██████████| 38/38 [01:20<00:00,  2.13s/it, loss:  0.4667 p:  0.7099  r:  0.2746  f1:  0.3960  iou:  0.2469]\n"
     ]
    },
    {
     "name": "stdout",
     "output_type": "stream",
     "text": [
      "Epoch 4 Testing\n"
     ]
    },
    {
     "name": "stderr",
     "output_type": "stream",
     "text": [
      "4: 100%|██████████| 2/2 [00:02<00:00,  1.05s/it, p:  0.6479  r:  0.3585  f1:  0.4616  iou:  0.3000]\n"
     ]
    },
    {
     "name": "stdout",
     "output_type": "stream",
     "text": [
      "f1 0.48017667487870397\n",
      "Epoch 5 Training\n"
     ]
    },
    {
     "name": "stderr",
     "output_type": "stream",
     "text": [
      "5: 100%|██████████| 38/38 [01:21<00:00,  2.13s/it, loss:  0.3761 p:  0.6103  r:  0.3084  f1:  0.4098  iou:  0.2577]\n"
     ]
    },
    {
     "name": "stdout",
     "output_type": "stream",
     "text": [
      "Epoch 5 Testing\n"
     ]
    },
    {
     "name": "stderr",
     "output_type": "stream",
     "text": [
      "5: 100%|██████████| 2/2 [00:02<00:00,  1.06s/it, p:  0.6599  r:  0.2999  f1:  0.4124  iou:  0.2598]\n"
     ]
    },
    {
     "name": "stdout",
     "output_type": "stream",
     "text": [
      "Epoch     6: reducing learning rate of group 0 to 1.0000e-05.\n",
      "Epoch     6: reducing learning rate of group 0 to 1.0000e-05.\n",
      "Epoch     6: reducing learning rate of group 0 to 1.0000e-05.\n",
      "f1 0.4267426807142102\n",
      "Epoch 6 Training\n"
     ]
    },
    {
     "name": "stderr",
     "output_type": "stream",
     "text": [
      "6: 100%|██████████| 38/38 [01:20<00:00,  2.13s/it, loss:  0.4570 p:  0.7392  r:  0.2972  f1:  0.4240  iou:  0.2690]\n"
     ]
    },
    {
     "name": "stdout",
     "output_type": "stream",
     "text": [
      "Epoch 6 Testing\n"
     ]
    },
    {
     "name": "stderr",
     "output_type": "stream",
     "text": [
      "6: 100%|██████████| 2/2 [00:02<00:00,  1.06s/it, p:  0.6672  r:  0.2913  f1:  0.4055  iou:  0.2543]\n"
     ]
    },
    {
     "name": "stdout",
     "output_type": "stream",
     "text": [
      "f1 0.4188410083723795\n",
      "Epoch 7 Training\n"
     ]
    },
    {
     "name": "stderr",
     "output_type": "stream",
     "text": [
      "7: 100%|██████████| 38/38 [01:20<00:00,  2.13s/it, loss:  0.4124 p:  0.7486  r:  0.2883  f1:  0.4163  iou:  0.2628]\n"
     ]
    },
    {
     "name": "stdout",
     "output_type": "stream",
     "text": [
      "Epoch 7 Testing\n"
     ]
    },
    {
     "name": "stderr",
     "output_type": "stream",
     "text": [
      "7: 100%|██████████| 2/2 [00:02<00:00,  1.04s/it, p:  0.6763  r:  0.2828  f1:  0.3988  iou:  0.2491]\n"
     ]
    },
    {
     "name": "stdout",
     "output_type": "stream",
     "text": [
      "f1 0.4131095043547631\n",
      "Epoch 8 Training\n"
     ]
    },
    {
     "name": "stderr",
     "output_type": "stream",
     "text": [
      "8: 100%|██████████| 38/38 [01:20<00:00,  2.13s/it, loss:  0.4089 p:  0.7090  r:  0.2535  f1:  0.3735  iou:  0.2296]\n"
     ]
    },
    {
     "name": "stdout",
     "output_type": "stream",
     "text": [
      "Epoch 8 Testing\n"
     ]
    },
    {
     "name": "stderr",
     "output_type": "stream",
     "text": [
      "8: 100%|██████████| 2/2 [00:02<00:00,  1.06s/it, p:  0.6813  r:  0.2910  f1:  0.4078  iou:  0.2561]\n"
     ]
    },
    {
     "name": "stdout",
     "output_type": "stream",
     "text": [
      "Epoch     9: reducing learning rate of group 0 to 1.0000e-06.\n",
      "Epoch     9: reducing learning rate of group 0 to 1.0000e-06.\n",
      "Epoch     9: reducing learning rate of group 0 to 1.0000e-06.\n",
      "f1 0.42131995718744086\n",
      "Epoch 9 Training\n"
     ]
    },
    {
     "name": "stderr",
     "output_type": "stream",
     "text": [
      "9: 100%|██████████| 38/38 [01:20<00:00,  2.13s/it, loss:  0.4171 p:  0.6967  r:  0.2439  f1:  0.3613  iou:  0.2205]\n"
     ]
    },
    {
     "name": "stdout",
     "output_type": "stream",
     "text": [
      "Epoch 9 Testing\n"
     ]
    },
    {
     "name": "stderr",
     "output_type": "stream",
     "text": [
      "9: 100%|██████████| 2/2 [00:02<00:00,  1.06s/it, p:  0.6827  r:  0.2931  f1:  0.4101  iou:  0.2580]"
     ]
    },
    {
     "name": "stdout",
     "output_type": "stream",
     "text": [
      "f1 0.4211871367429604\n",
      "completed!\n",
      "max_score 0.5050421166454132\n"
     ]
    },
    {
     "name": "stderr",
     "output_type": "stream",
     "text": [
      "\n"
     ]
    }
   ],
   "source": [
    "num_epoch = 10\n",
    "max_score = 0\n",
    "for epoch in range(0, num_epoch):\n",
    "    train_model(epoch=epoch)\n",
    "    test_model(epoch=epoch)\n",
    "print(\"completed!\")\n",
    "print('max_score', max_score.item())"
   ]
  },
  {
   "cell_type": "code",
   "execution_count": null,
   "metadata": {
    "tags": []
   },
   "outputs": [],
   "source": []
  },
  {
   "cell_type": "code",
   "execution_count": null,
   "metadata": {},
   "outputs": [],
   "source": []
  },
  {
   "cell_type": "code",
   "execution_count": null,
   "metadata": {},
   "outputs": [],
   "source": []
  }
 ],
 "metadata": {
  "kernelspec": {
   "display_name": "Python 3 (ipykernel)",
   "language": "python",
   "name": "python3"
  },
  "language_info": {
   "codemirror_mode": {
    "name": "ipython",
    "version": 3
   },
   "file_extension": ".py",
   "mimetype": "text/x-python",
   "name": "python",
   "nbconvert_exporter": "python",
   "pygments_lexer": "ipython3",
   "version": "3.8.13"
  }
 },
 "nbformat": 4,
 "nbformat_minor": 4
}
