{
 "cells": [
  {
   "cell_type": "code",
   "execution_count": 1,
   "metadata": {
    "collapsed": true
   },
   "outputs": [],
   "source": [
    "import torch\n",
    "from myunet import Unet\n",
    "from torchsummary import summary\n",
    "from torchviz import make_dot\n",
    "import torch.nn as nn\n",
    "from unet_parts import DoubleConv\n",
    "import segmentation_models_pytorch as smp\n",
    "from torchvision.models.segmentation import fcn"
   ]
  },
  {
   "cell_type": "code",
   "execution_count": 2,
   "outputs": [],
   "source": [
    "img1 = torch.randn(1, 3, 256, 256)\n",
    "img2 = torch.randn(1, 3, 256, 256)"
   ],
   "metadata": {
    "collapsed": false
   }
  },
  {
   "cell_type": "code",
   "execution_count": 3,
   "outputs": [
    {
     "name": "stdout",
     "output_type": "stream",
     "text": [
      "=================================================================\n",
      "Layer (type:depth-idx)                   Param #\n",
      "=================================================================\n",
      "├─Conv2d: 1-1                            880\n",
      "├─BatchNorm2d: 1-2                       32\n",
      "├─Dropout2d: 1-3                         --\n",
      "├─Conv2d: 1-4                            2,320\n",
      "├─BatchNorm2d: 1-5                       32\n",
      "├─Dropout2d: 1-6                         --\n",
      "├─Conv2d: 1-7                            4,640\n",
      "├─BatchNorm2d: 1-8                       64\n",
      "├─Dropout2d: 1-9                         --\n",
      "├─Conv2d: 1-10                           9,248\n",
      "├─BatchNorm2d: 1-11                      64\n",
      "├─Dropout2d: 1-12                        --\n",
      "├─Conv2d: 1-13                           18,496\n",
      "├─BatchNorm2d: 1-14                      128\n",
      "├─Dropout2d: 1-15                        --\n",
      "├─Conv2d: 1-16                           36,928\n",
      "├─BatchNorm2d: 1-17                      128\n",
      "├─Dropout2d: 1-18                        --\n",
      "├─Conv2d: 1-19                           36,928\n",
      "├─BatchNorm2d: 1-20                      128\n",
      "├─Dropout2d: 1-21                        --\n",
      "├─Conv2d: 1-22                           73,856\n",
      "├─BatchNorm2d: 1-23                      256\n",
      "├─Dropout2d: 1-24                        --\n",
      "├─Conv2d: 1-25                           147,584\n",
      "├─BatchNorm2d: 1-26                      256\n",
      "├─Dropout2d: 1-27                        --\n",
      "├─Conv2d: 1-28                           147,584\n",
      "├─BatchNorm2d: 1-29                      256\n",
      "├─Dropout2d: 1-30                        --\n",
      "├─ConvTranspose2d: 1-31                  147,584\n",
      "├─ConvTranspose2d: 1-32                  295,040\n",
      "├─BatchNorm2d: 1-33                      256\n",
      "├─Dropout2d: 1-34                        --\n",
      "├─ConvTranspose2d: 1-35                  147,584\n",
      "├─BatchNorm2d: 1-36                      256\n",
      "├─Dropout2d: 1-37                        --\n",
      "├─ConvTranspose2d: 1-38                  73,792\n",
      "├─BatchNorm2d: 1-39                      128\n",
      "├─Dropout2d: 1-40                        --\n",
      "├─ConvTranspose2d: 1-41                  36,928\n",
      "├─ConvTranspose2d: 1-42                  73,792\n",
      "├─BatchNorm2d: 1-43                      128\n",
      "├─Dropout2d: 1-44                        --\n",
      "├─ConvTranspose2d: 1-45                  36,928\n",
      "├─BatchNorm2d: 1-46                      128\n",
      "├─Dropout2d: 1-47                        --\n",
      "├─ConvTranspose2d: 1-48                  18,464\n",
      "├─BatchNorm2d: 1-49                      64\n",
      "├─Dropout2d: 1-50                        --\n",
      "├─ConvTranspose2d: 1-51                  9,248\n",
      "├─ConvTranspose2d: 1-52                  18,464\n",
      "├─BatchNorm2d: 1-53                      64\n",
      "├─Dropout2d: 1-54                        --\n",
      "├─ConvTranspose2d: 1-55                  4,624\n",
      "├─BatchNorm2d: 1-56                      32\n",
      "├─Dropout2d: 1-57                        --\n",
      "├─ConvTranspose2d: 1-58                  2,320\n",
      "├─ConvTranspose2d: 1-59                  4,624\n",
      "├─BatchNorm2d: 1-60                      32\n",
      "├─Dropout2d: 1-61                        --\n",
      "├─ConvTranspose2d: 1-62                  290\n",
      "=================================================================\n",
      "Total params: 1,350,578\n",
      "Trainable params: 1,350,578\n",
      "Non-trainable params: 0\n",
      "=================================================================\n"
     ]
    },
    {
     "data": {
      "text/plain": "=================================================================\nLayer (type:depth-idx)                   Param #\n=================================================================\n├─Conv2d: 1-1                            880\n├─BatchNorm2d: 1-2                       32\n├─Dropout2d: 1-3                         --\n├─Conv2d: 1-4                            2,320\n├─BatchNorm2d: 1-5                       32\n├─Dropout2d: 1-6                         --\n├─Conv2d: 1-7                            4,640\n├─BatchNorm2d: 1-8                       64\n├─Dropout2d: 1-9                         --\n├─Conv2d: 1-10                           9,248\n├─BatchNorm2d: 1-11                      64\n├─Dropout2d: 1-12                        --\n├─Conv2d: 1-13                           18,496\n├─BatchNorm2d: 1-14                      128\n├─Dropout2d: 1-15                        --\n├─Conv2d: 1-16                           36,928\n├─BatchNorm2d: 1-17                      128\n├─Dropout2d: 1-18                        --\n├─Conv2d: 1-19                           36,928\n├─BatchNorm2d: 1-20                      128\n├─Dropout2d: 1-21                        --\n├─Conv2d: 1-22                           73,856\n├─BatchNorm2d: 1-23                      256\n├─Dropout2d: 1-24                        --\n├─Conv2d: 1-25                           147,584\n├─BatchNorm2d: 1-26                      256\n├─Dropout2d: 1-27                        --\n├─Conv2d: 1-28                           147,584\n├─BatchNorm2d: 1-29                      256\n├─Dropout2d: 1-30                        --\n├─ConvTranspose2d: 1-31                  147,584\n├─ConvTranspose2d: 1-32                  295,040\n├─BatchNorm2d: 1-33                      256\n├─Dropout2d: 1-34                        --\n├─ConvTranspose2d: 1-35                  147,584\n├─BatchNorm2d: 1-36                      256\n├─Dropout2d: 1-37                        --\n├─ConvTranspose2d: 1-38                  73,792\n├─BatchNorm2d: 1-39                      128\n├─Dropout2d: 1-40                        --\n├─ConvTranspose2d: 1-41                  36,928\n├─ConvTranspose2d: 1-42                  73,792\n├─BatchNorm2d: 1-43                      128\n├─Dropout2d: 1-44                        --\n├─ConvTranspose2d: 1-45                  36,928\n├─BatchNorm2d: 1-46                      128\n├─Dropout2d: 1-47                        --\n├─ConvTranspose2d: 1-48                  18,464\n├─BatchNorm2d: 1-49                      64\n├─Dropout2d: 1-50                        --\n├─ConvTranspose2d: 1-51                  9,248\n├─ConvTranspose2d: 1-52                  18,464\n├─BatchNorm2d: 1-53                      64\n├─Dropout2d: 1-54                        --\n├─ConvTranspose2d: 1-55                  4,624\n├─BatchNorm2d: 1-56                      32\n├─Dropout2d: 1-57                        --\n├─ConvTranspose2d: 1-58                  2,320\n├─ConvTranspose2d: 1-59                  4,624\n├─BatchNorm2d: 1-60                      32\n├─Dropout2d: 1-61                        --\n├─ConvTranspose2d: 1-62                  290\n=================================================================\nTotal params: 1,350,578\nTrainable params: 1,350,578\nNon-trainable params: 0\n================================================================="
     },
     "execution_count": 3,
     "metadata": {},
     "output_type": "execute_result"
    }
   ],
   "source": [
    "model = Unet(6, 2)\n",
    "summary(model, input_size=[(3, 256, 256), (3, 256, 256)], batch_size=2, device=\"cpu\")"
   ],
   "metadata": {
    "collapsed": false
   }
  },
  {
   "cell_type": "code",
   "execution_count": 4,
   "outputs": [
    {
     "data": {
      "text/plain": "'pdf_Unet.pdf'"
     },
     "execution_count": 4,
     "metadata": {},
     "output_type": "execute_result"
    }
   ],
   "source": [
    "struct = make_dot(model(img1, img2))\n",
    "struct.render(\"pdf_Unet\", view=True)"
   ],
   "metadata": {
    "collapsed": false
   }
  },
  {
   "cell_type": "code",
   "execution_count": 5,
   "outputs": [
    {
     "name": "stderr",
     "output_type": "stream",
     "text": [
      "Using cache found in C:\\Users\\16477/.cache\\torch\\hub\\milesial_Pytorch-UNet_master\n"
     ]
    },
    {
     "name": "stdout",
     "output_type": "stream",
     "text": [
      "=================================================================\n",
      "Layer (type:depth-idx)                   Param #\n",
      "=================================================================\n",
      "├─Sequential: 1-1                        --\n",
      "|    └─DoubleConv: 2-1                   --\n",
      "|    |    └─Sequential: 3-1              40,576\n",
      "├─Down: 1-2                              --\n",
      "|    └─Sequential: 2-2                   --\n",
      "|    |    └─MaxPool2d: 3-2               --\n",
      "|    |    └─DoubleConv: 3-3              221,696\n",
      "├─Down: 1-3                              --\n",
      "|    └─Sequential: 2-3                   --\n",
      "|    |    └─MaxPool2d: 3-4               --\n",
      "|    |    └─DoubleConv: 3-5              885,760\n",
      "├─Down: 1-4                              --\n",
      "|    └─Sequential: 2-4                   --\n",
      "|    |    └─MaxPool2d: 3-6               --\n",
      "|    |    └─DoubleConv: 3-7              3,540,992\n",
      "├─Down: 1-5                              --\n",
      "|    └─Sequential: 2-5                   --\n",
      "|    |    └─MaxPool2d: 3-8               --\n",
      "|    |    └─DoubleConv: 3-9              14,159,872\n",
      "├─Up: 1-6                                --\n",
      "|    └─ConvTranspose2d: 2-6              2,097,664\n",
      "|    └─DoubleConv: 2-7                   --\n",
      "|    |    └─Sequential: 3-10             7,079,936\n",
      "├─Up: 1-7                                --\n",
      "|    └─ConvTranspose2d: 2-8              524,544\n",
      "|    └─DoubleConv: 2-9                   --\n",
      "|    |    └─Sequential: 3-11             1,770,496\n",
      "├─Up: 1-8                                --\n",
      "|    └─ConvTranspose2d: 2-10             131,200\n",
      "|    └─DoubleConv: 2-11                  --\n",
      "|    |    └─Sequential: 3-12             442,880\n",
      "├─Up: 1-9                                --\n",
      "|    └─ConvTranspose2d: 2-12             32,832\n",
      "|    └─DoubleConv: 2-13                  --\n",
      "|    |    └─Sequential: 3-13             110,848\n",
      "├─OutConv: 1-10                          --\n",
      "|    └─Conv2d: 2-14                      130\n",
      "=================================================================\n",
      "Total params: 31,039,426\n",
      "Trainable params: 31,039,426\n",
      "Non-trainable params: 0\n",
      "=================================================================\n"
     ]
    },
    {
     "data": {
      "text/plain": "=================================================================\nLayer (type:depth-idx)                   Param #\n=================================================================\n├─Sequential: 1-1                        --\n|    └─DoubleConv: 2-1                   --\n|    |    └─Sequential: 3-1              40,576\n├─Down: 1-2                              --\n|    └─Sequential: 2-2                   --\n|    |    └─MaxPool2d: 3-2               --\n|    |    └─DoubleConv: 3-3              221,696\n├─Down: 1-3                              --\n|    └─Sequential: 2-3                   --\n|    |    └─MaxPool2d: 3-4               --\n|    |    └─DoubleConv: 3-5              885,760\n├─Down: 1-4                              --\n|    └─Sequential: 2-4                   --\n|    |    └─MaxPool2d: 3-6               --\n|    |    └─DoubleConv: 3-7              3,540,992\n├─Down: 1-5                              --\n|    └─Sequential: 2-5                   --\n|    |    └─MaxPool2d: 3-8               --\n|    |    └─DoubleConv: 3-9              14,159,872\n├─Up: 1-6                                --\n|    └─ConvTranspose2d: 2-6              2,097,664\n|    └─DoubleConv: 2-7                   --\n|    |    └─Sequential: 3-10             7,079,936\n├─Up: 1-7                                --\n|    └─ConvTranspose2d: 2-8              524,544\n|    └─DoubleConv: 2-9                   --\n|    |    └─Sequential: 3-11             1,770,496\n├─Up: 1-8                                --\n|    └─ConvTranspose2d: 2-10             131,200\n|    └─DoubleConv: 2-11                  --\n|    |    └─Sequential: 3-12             442,880\n├─Up: 1-9                                --\n|    └─ConvTranspose2d: 2-12             32,832\n|    └─DoubleConv: 2-13                  --\n|    |    └─Sequential: 3-13             110,848\n├─OutConv: 1-10                          --\n|    └─Conv2d: 2-14                      130\n=================================================================\nTotal params: 31,039,426\nTrainable params: 31,039,426\nNon-trainable params: 0\n================================================================="
     },
     "execution_count": 5,
     "metadata": {},
     "output_type": "execute_result"
    }
   ],
   "source": [
    "model = torch.hub.load('milesial/Pytorch-UNet', 'unet_carvana', pretrained=True, scale=0.5)\n",
    "model.inc = nn.Sequential(\n",
    "    DoubleConv(6, 64)\n",
    ")\n",
    "summary(model, input_size=(6, 256, 256), batch_size=2, device=\"cpu\")"
   ],
   "metadata": {
    "collapsed": false
   }
  },
  {
   "cell_type": "code",
   "execution_count": 6,
   "outputs": [
    {
     "data": {
      "text/plain": "'pdf_Unet_load.pdf'"
     },
     "execution_count": 6,
     "metadata": {},
     "output_type": "execute_result"
    }
   ],
   "source": [
    "struct = make_dot(model(torch.cat((img1, img2), dim=1)))\n",
    "struct.render(\"pdf_Unet_load\", view=True)"
   ],
   "metadata": {
    "collapsed": false
   }
  },
  {
   "cell_type": "code",
   "execution_count": 7,
   "outputs": [
    {
     "name": "stdout",
     "output_type": "stream",
     "text": [
      "=================================================================\n",
      "Layer (type:depth-idx)                   Param #\n",
      "=================================================================\n",
      "├─ResNetEncoder: 1-1                     --\n",
      "|    └─Conv2d: 2-1                       18,816\n",
      "|    └─BatchNorm2d: 2-2                  128\n",
      "|    └─ReLU: 2-3                         --\n",
      "|    └─MaxPool2d: 2-4                    --\n",
      "|    └─Sequential: 2-5                   --\n",
      "|    |    └─BasicBlock: 3-1              73,984\n",
      "|    |    └─BasicBlock: 3-2              73,984\n",
      "|    |    └─BasicBlock: 3-3              73,984\n",
      "|    └─Sequential: 2-6                   --\n",
      "|    |    └─BasicBlock: 3-4              230,144\n",
      "|    |    └─BasicBlock: 3-5              295,424\n",
      "|    |    └─BasicBlock: 3-6              295,424\n",
      "|    |    └─BasicBlock: 3-7              295,424\n",
      "|    └─Sequential: 2-7                   --\n",
      "|    |    └─BasicBlock: 3-8              919,040\n",
      "|    |    └─BasicBlock: 3-9              1,180,672\n",
      "|    |    └─BasicBlock: 3-10             1,180,672\n",
      "|    |    └─BasicBlock: 3-11             1,180,672\n",
      "|    |    └─BasicBlock: 3-12             1,180,672\n",
      "|    |    └─BasicBlock: 3-13             1,180,672\n",
      "|    └─Sequential: 2-8                   --\n",
      "|    |    └─BasicBlock: 3-14             3,673,088\n",
      "|    |    └─BasicBlock: 3-15             4,720,640\n",
      "|    |    └─BasicBlock: 3-16             4,720,640\n",
      "├─UnetDecoder: 1-2                       --\n",
      "|    └─Identity: 2-9                     --\n",
      "|    └─ModuleList: 2-10                  --\n",
      "|    |    └─DecoderBlock: 3-17           2,360,320\n",
      "|    |    └─DecoderBlock: 3-18           590,336\n",
      "|    |    └─DecoderBlock: 3-19           147,712\n",
      "|    |    └─DecoderBlock: 3-20           46,208\n",
      "|    |    └─DecoderBlock: 3-21           6,976\n",
      "├─SegmentationHead: 1-3                  --\n",
      "|    └─Conv2d: 2-11                      290\n",
      "|    └─Identity: 2-12                    --\n",
      "|    └─Activation: 2-13                  --\n",
      "|    |    └─Identity: 3-22               --\n",
      "=================================================================\n",
      "Total params: 24,445,922\n",
      "Trainable params: 24,445,922\n",
      "Non-trainable params: 0\n",
      "=================================================================\n"
     ]
    },
    {
     "data": {
      "text/plain": "=================================================================\nLayer (type:depth-idx)                   Param #\n=================================================================\n├─ResNetEncoder: 1-1                     --\n|    └─Conv2d: 2-1                       18,816\n|    └─BatchNorm2d: 2-2                  128\n|    └─ReLU: 2-3                         --\n|    └─MaxPool2d: 2-4                    --\n|    └─Sequential: 2-5                   --\n|    |    └─BasicBlock: 3-1              73,984\n|    |    └─BasicBlock: 3-2              73,984\n|    |    └─BasicBlock: 3-3              73,984\n|    └─Sequential: 2-6                   --\n|    |    └─BasicBlock: 3-4              230,144\n|    |    └─BasicBlock: 3-5              295,424\n|    |    └─BasicBlock: 3-6              295,424\n|    |    └─BasicBlock: 3-7              295,424\n|    └─Sequential: 2-7                   --\n|    |    └─BasicBlock: 3-8              919,040\n|    |    └─BasicBlock: 3-9              1,180,672\n|    |    └─BasicBlock: 3-10             1,180,672\n|    |    └─BasicBlock: 3-11             1,180,672\n|    |    └─BasicBlock: 3-12             1,180,672\n|    |    └─BasicBlock: 3-13             1,180,672\n|    └─Sequential: 2-8                   --\n|    |    └─BasicBlock: 3-14             3,673,088\n|    |    └─BasicBlock: 3-15             4,720,640\n|    |    └─BasicBlock: 3-16             4,720,640\n├─UnetDecoder: 1-2                       --\n|    └─Identity: 2-9                     --\n|    └─ModuleList: 2-10                  --\n|    |    └─DecoderBlock: 3-17           2,360,320\n|    |    └─DecoderBlock: 3-18           590,336\n|    |    └─DecoderBlock: 3-19           147,712\n|    |    └─DecoderBlock: 3-20           46,208\n|    |    └─DecoderBlock: 3-21           6,976\n├─SegmentationHead: 1-3                  --\n|    └─Conv2d: 2-11                      290\n|    └─Identity: 2-12                    --\n|    └─Activation: 2-13                  --\n|    |    └─Identity: 3-22               --\n=================================================================\nTotal params: 24,445,922\nTrainable params: 24,445,922\nNon-trainable params: 0\n================================================================="
     },
     "execution_count": 7,
     "metadata": {},
     "output_type": "execute_result"
    }
   ],
   "source": [
    "model = smp.Unet(\n",
    "    encoder_name=\"resnet34\",\n",
    "    encoder_weights=\"imagenet\",\n",
    "    in_channels=6,\n",
    "    classes=2,\n",
    ")\n",
    "summary(model, input_size=(6, 256, 256), batch_size=2, device=\"cpu\")"
   ],
   "metadata": {
    "collapsed": false
   }
  },
  {
   "cell_type": "code",
   "execution_count": 8,
   "outputs": [
    {
     "data": {
      "text/plain": "'pdf_Unet_smp.pdf'"
     },
     "execution_count": 8,
     "metadata": {},
     "output_type": "execute_result"
    }
   ],
   "source": [
    "struct = make_dot(model(torch.cat((img1, img2), dim=1)))\n",
    "struct.render(\"pdf_Unet_smp\", view=True)"
   ],
   "metadata": {
    "collapsed": false
   }
  },
  {
   "cell_type": "code",
   "execution_count": 8,
   "outputs": [],
   "source": [],
   "metadata": {
    "collapsed": false
   }
  },
  {
   "cell_type": "code",
   "execution_count": 9,
   "outputs": [
    {
     "name": "stderr",
     "output_type": "stream",
     "text": [
      "D:\\Mysoftware_setup\\anaconda3\\envs\\mypytorch\\lib\\site-packages\\torchvision\\models\\_utils.py:208: UserWarning: The parameter 'pretrained' is deprecated since 0.13 and may be removed in the future, please use 'weights' instead.\n",
      "  warnings.warn(\n",
      "D:\\Mysoftware_setup\\anaconda3\\envs\\mypytorch\\lib\\site-packages\\torchvision\\models\\_utils.py:223: UserWarning: Arguments other than a weight enum or `None` for 'weights' are deprecated since 0.13 and may be removed in the future. The current behavior is equivalent to passing `weights=FCN_ResNet50_Weights.COCO_WITH_VOC_LABELS_V1`. You can also use `weights=FCN_ResNet50_Weights.DEFAULT` to get the most up-to-date weights.\n",
      "  warnings.warn(msg)\n"
     ]
    },
    {
     "data": {
      "text/plain": "FCN(\n  (backbone): IntermediateLayerGetter(\n    (conv1): Conv2d(6, 64, kernel_size=(7, 7), stride=(2, 2), padding=(3, 3))\n    (bn1): BatchNorm2d(64, eps=1e-05, momentum=0.1, affine=True, track_running_stats=True)\n    (relu): ReLU(inplace=True)\n    (maxpool): MaxPool2d(kernel_size=3, stride=2, padding=1, dilation=1, ceil_mode=False)\n    (layer1): Sequential(\n      (0): Bottleneck(\n        (conv1): Conv2d(64, 64, kernel_size=(1, 1), stride=(1, 1), bias=False)\n        (bn1): BatchNorm2d(64, eps=1e-05, momentum=0.1, affine=True, track_running_stats=True)\n        (conv2): Conv2d(64, 64, kernel_size=(3, 3), stride=(1, 1), padding=(1, 1), bias=False)\n        (bn2): BatchNorm2d(64, eps=1e-05, momentum=0.1, affine=True, track_running_stats=True)\n        (conv3): Conv2d(64, 256, kernel_size=(1, 1), stride=(1, 1), bias=False)\n        (bn3): BatchNorm2d(256, eps=1e-05, momentum=0.1, affine=True, track_running_stats=True)\n        (relu): ReLU(inplace=True)\n        (downsample): Sequential(\n          (0): Conv2d(64, 256, kernel_size=(1, 1), stride=(1, 1), bias=False)\n          (1): BatchNorm2d(256, eps=1e-05, momentum=0.1, affine=True, track_running_stats=True)\n        )\n      )\n      (1): Bottleneck(\n        (conv1): Conv2d(256, 64, kernel_size=(1, 1), stride=(1, 1), bias=False)\n        (bn1): BatchNorm2d(64, eps=1e-05, momentum=0.1, affine=True, track_running_stats=True)\n        (conv2): Conv2d(64, 64, kernel_size=(3, 3), stride=(1, 1), padding=(1, 1), bias=False)\n        (bn2): BatchNorm2d(64, eps=1e-05, momentum=0.1, affine=True, track_running_stats=True)\n        (conv3): Conv2d(64, 256, kernel_size=(1, 1), stride=(1, 1), bias=False)\n        (bn3): BatchNorm2d(256, eps=1e-05, momentum=0.1, affine=True, track_running_stats=True)\n        (relu): ReLU(inplace=True)\n      )\n      (2): Bottleneck(\n        (conv1): Conv2d(256, 64, kernel_size=(1, 1), stride=(1, 1), bias=False)\n        (bn1): BatchNorm2d(64, eps=1e-05, momentum=0.1, affine=True, track_running_stats=True)\n        (conv2): Conv2d(64, 64, kernel_size=(3, 3), stride=(1, 1), padding=(1, 1), bias=False)\n        (bn2): BatchNorm2d(64, eps=1e-05, momentum=0.1, affine=True, track_running_stats=True)\n        (conv3): Conv2d(64, 256, kernel_size=(1, 1), stride=(1, 1), bias=False)\n        (bn3): BatchNorm2d(256, eps=1e-05, momentum=0.1, affine=True, track_running_stats=True)\n        (relu): ReLU(inplace=True)\n      )\n    )\n    (layer2): Sequential(\n      (0): Bottleneck(\n        (conv1): Conv2d(256, 128, kernel_size=(1, 1), stride=(1, 1), bias=False)\n        (bn1): BatchNorm2d(128, eps=1e-05, momentum=0.1, affine=True, track_running_stats=True)\n        (conv2): Conv2d(128, 128, kernel_size=(3, 3), stride=(2, 2), padding=(1, 1), bias=False)\n        (bn2): BatchNorm2d(128, eps=1e-05, momentum=0.1, affine=True, track_running_stats=True)\n        (conv3): Conv2d(128, 512, kernel_size=(1, 1), stride=(1, 1), bias=False)\n        (bn3): BatchNorm2d(512, eps=1e-05, momentum=0.1, affine=True, track_running_stats=True)\n        (relu): ReLU(inplace=True)\n        (downsample): Sequential(\n          (0): Conv2d(256, 512, kernel_size=(1, 1), stride=(2, 2), bias=False)\n          (1): BatchNorm2d(512, eps=1e-05, momentum=0.1, affine=True, track_running_stats=True)\n        )\n      )\n      (1): Bottleneck(\n        (conv1): Conv2d(512, 128, kernel_size=(1, 1), stride=(1, 1), bias=False)\n        (bn1): BatchNorm2d(128, eps=1e-05, momentum=0.1, affine=True, track_running_stats=True)\n        (conv2): Conv2d(128, 128, kernel_size=(3, 3), stride=(1, 1), padding=(1, 1), bias=False)\n        (bn2): BatchNorm2d(128, eps=1e-05, momentum=0.1, affine=True, track_running_stats=True)\n        (conv3): Conv2d(128, 512, kernel_size=(1, 1), stride=(1, 1), bias=False)\n        (bn3): BatchNorm2d(512, eps=1e-05, momentum=0.1, affine=True, track_running_stats=True)\n        (relu): ReLU(inplace=True)\n      )\n      (2): Bottleneck(\n        (conv1): Conv2d(512, 128, kernel_size=(1, 1), stride=(1, 1), bias=False)\n        (bn1): BatchNorm2d(128, eps=1e-05, momentum=0.1, affine=True, track_running_stats=True)\n        (conv2): Conv2d(128, 128, kernel_size=(3, 3), stride=(1, 1), padding=(1, 1), bias=False)\n        (bn2): BatchNorm2d(128, eps=1e-05, momentum=0.1, affine=True, track_running_stats=True)\n        (conv3): Conv2d(128, 512, kernel_size=(1, 1), stride=(1, 1), bias=False)\n        (bn3): BatchNorm2d(512, eps=1e-05, momentum=0.1, affine=True, track_running_stats=True)\n        (relu): ReLU(inplace=True)\n      )\n      (3): Bottleneck(\n        (conv1): Conv2d(512, 128, kernel_size=(1, 1), stride=(1, 1), bias=False)\n        (bn1): BatchNorm2d(128, eps=1e-05, momentum=0.1, affine=True, track_running_stats=True)\n        (conv2): Conv2d(128, 128, kernel_size=(3, 3), stride=(1, 1), padding=(1, 1), bias=False)\n        (bn2): BatchNorm2d(128, eps=1e-05, momentum=0.1, affine=True, track_running_stats=True)\n        (conv3): Conv2d(128, 512, kernel_size=(1, 1), stride=(1, 1), bias=False)\n        (bn3): BatchNorm2d(512, eps=1e-05, momentum=0.1, affine=True, track_running_stats=True)\n        (relu): ReLU(inplace=True)\n      )\n    )\n    (layer3): Sequential(\n      (0): Bottleneck(\n        (conv1): Conv2d(512, 256, kernel_size=(1, 1), stride=(1, 1), bias=False)\n        (bn1): BatchNorm2d(256, eps=1e-05, momentum=0.1, affine=True, track_running_stats=True)\n        (conv2): Conv2d(256, 256, kernel_size=(3, 3), stride=(1, 1), padding=(1, 1), bias=False)\n        (bn2): BatchNorm2d(256, eps=1e-05, momentum=0.1, affine=True, track_running_stats=True)\n        (conv3): Conv2d(256, 1024, kernel_size=(1, 1), stride=(1, 1), bias=False)\n        (bn3): BatchNorm2d(1024, eps=1e-05, momentum=0.1, affine=True, track_running_stats=True)\n        (relu): ReLU(inplace=True)\n        (downsample): Sequential(\n          (0): Conv2d(512, 1024, kernel_size=(1, 1), stride=(1, 1), bias=False)\n          (1): BatchNorm2d(1024, eps=1e-05, momentum=0.1, affine=True, track_running_stats=True)\n        )\n      )\n      (1): Bottleneck(\n        (conv1): Conv2d(1024, 256, kernel_size=(1, 1), stride=(1, 1), bias=False)\n        (bn1): BatchNorm2d(256, eps=1e-05, momentum=0.1, affine=True, track_running_stats=True)\n        (conv2): Conv2d(256, 256, kernel_size=(3, 3), stride=(1, 1), padding=(2, 2), dilation=(2, 2), bias=False)\n        (bn2): BatchNorm2d(256, eps=1e-05, momentum=0.1, affine=True, track_running_stats=True)\n        (conv3): Conv2d(256, 1024, kernel_size=(1, 1), stride=(1, 1), bias=False)\n        (bn3): BatchNorm2d(1024, eps=1e-05, momentum=0.1, affine=True, track_running_stats=True)\n        (relu): ReLU(inplace=True)\n      )\n      (2): Bottleneck(\n        (conv1): Conv2d(1024, 256, kernel_size=(1, 1), stride=(1, 1), bias=False)\n        (bn1): BatchNorm2d(256, eps=1e-05, momentum=0.1, affine=True, track_running_stats=True)\n        (conv2): Conv2d(256, 256, kernel_size=(3, 3), stride=(1, 1), padding=(2, 2), dilation=(2, 2), bias=False)\n        (bn2): BatchNorm2d(256, eps=1e-05, momentum=0.1, affine=True, track_running_stats=True)\n        (conv3): Conv2d(256, 1024, kernel_size=(1, 1), stride=(1, 1), bias=False)\n        (bn3): BatchNorm2d(1024, eps=1e-05, momentum=0.1, affine=True, track_running_stats=True)\n        (relu): ReLU(inplace=True)\n      )\n      (3): Bottleneck(\n        (conv1): Conv2d(1024, 256, kernel_size=(1, 1), stride=(1, 1), bias=False)\n        (bn1): BatchNorm2d(256, eps=1e-05, momentum=0.1, affine=True, track_running_stats=True)\n        (conv2): Conv2d(256, 256, kernel_size=(3, 3), stride=(1, 1), padding=(2, 2), dilation=(2, 2), bias=False)\n        (bn2): BatchNorm2d(256, eps=1e-05, momentum=0.1, affine=True, track_running_stats=True)\n        (conv3): Conv2d(256, 1024, kernel_size=(1, 1), stride=(1, 1), bias=False)\n        (bn3): BatchNorm2d(1024, eps=1e-05, momentum=0.1, affine=True, track_running_stats=True)\n        (relu): ReLU(inplace=True)\n      )\n      (4): Bottleneck(\n        (conv1): Conv2d(1024, 256, kernel_size=(1, 1), stride=(1, 1), bias=False)\n        (bn1): BatchNorm2d(256, eps=1e-05, momentum=0.1, affine=True, track_running_stats=True)\n        (conv2): Conv2d(256, 256, kernel_size=(3, 3), stride=(1, 1), padding=(2, 2), dilation=(2, 2), bias=False)\n        (bn2): BatchNorm2d(256, eps=1e-05, momentum=0.1, affine=True, track_running_stats=True)\n        (conv3): Conv2d(256, 1024, kernel_size=(1, 1), stride=(1, 1), bias=False)\n        (bn3): BatchNorm2d(1024, eps=1e-05, momentum=0.1, affine=True, track_running_stats=True)\n        (relu): ReLU(inplace=True)\n      )\n      (5): Bottleneck(\n        (conv1): Conv2d(1024, 256, kernel_size=(1, 1), stride=(1, 1), bias=False)\n        (bn1): BatchNorm2d(256, eps=1e-05, momentum=0.1, affine=True, track_running_stats=True)\n        (conv2): Conv2d(256, 256, kernel_size=(3, 3), stride=(1, 1), padding=(2, 2), dilation=(2, 2), bias=False)\n        (bn2): BatchNorm2d(256, eps=1e-05, momentum=0.1, affine=True, track_running_stats=True)\n        (conv3): Conv2d(256, 1024, kernel_size=(1, 1), stride=(1, 1), bias=False)\n        (bn3): BatchNorm2d(1024, eps=1e-05, momentum=0.1, affine=True, track_running_stats=True)\n        (relu): ReLU(inplace=True)\n      )\n    )\n    (layer4): Sequential(\n      (0): Bottleneck(\n        (conv1): Conv2d(1024, 512, kernel_size=(1, 1), stride=(1, 1), bias=False)\n        (bn1): BatchNorm2d(512, eps=1e-05, momentum=0.1, affine=True, track_running_stats=True)\n        (conv2): Conv2d(512, 512, kernel_size=(3, 3), stride=(1, 1), padding=(2, 2), dilation=(2, 2), bias=False)\n        (bn2): BatchNorm2d(512, eps=1e-05, momentum=0.1, affine=True, track_running_stats=True)\n        (conv3): Conv2d(512, 2048, kernel_size=(1, 1), stride=(1, 1), bias=False)\n        (bn3): BatchNorm2d(2048, eps=1e-05, momentum=0.1, affine=True, track_running_stats=True)\n        (relu): ReLU(inplace=True)\n        (downsample): Sequential(\n          (0): Conv2d(1024, 2048, kernel_size=(1, 1), stride=(1, 1), bias=False)\n          (1): BatchNorm2d(2048, eps=1e-05, momentum=0.1, affine=True, track_running_stats=True)\n        )\n      )\n      (1): Bottleneck(\n        (conv1): Conv2d(2048, 512, kernel_size=(1, 1), stride=(1, 1), bias=False)\n        (bn1): BatchNorm2d(512, eps=1e-05, momentum=0.1, affine=True, track_running_stats=True)\n        (conv2): Conv2d(512, 512, kernel_size=(3, 3), stride=(1, 1), padding=(4, 4), dilation=(4, 4), bias=False)\n        (bn2): BatchNorm2d(512, eps=1e-05, momentum=0.1, affine=True, track_running_stats=True)\n        (conv3): Conv2d(512, 2048, kernel_size=(1, 1), stride=(1, 1), bias=False)\n        (bn3): BatchNorm2d(2048, eps=1e-05, momentum=0.1, affine=True, track_running_stats=True)\n        (relu): ReLU(inplace=True)\n      )\n      (2): Bottleneck(\n        (conv1): Conv2d(2048, 512, kernel_size=(1, 1), stride=(1, 1), bias=False)\n        (bn1): BatchNorm2d(512, eps=1e-05, momentum=0.1, affine=True, track_running_stats=True)\n        (conv2): Conv2d(512, 512, kernel_size=(3, 3), stride=(1, 1), padding=(4, 4), dilation=(4, 4), bias=False)\n        (bn2): BatchNorm2d(512, eps=1e-05, momentum=0.1, affine=True, track_running_stats=True)\n        (conv3): Conv2d(512, 2048, kernel_size=(1, 1), stride=(1, 1), bias=False)\n        (bn3): BatchNorm2d(2048, eps=1e-05, momentum=0.1, affine=True, track_running_stats=True)\n        (relu): ReLU(inplace=True)\n      )\n    )\n  )\n  (classifier): FCNHead(\n    (0): Conv2d(2048, 512, kernel_size=(3, 3), stride=(1, 1), padding=(1, 1), bias=False)\n    (1): BatchNorm2d(512, eps=1e-05, momentum=0.1, affine=True, track_running_stats=True)\n    (2): ReLU()\n    (3): Dropout(p=0.1, inplace=False)\n    (4): Conv2d(512, 21, kernel_size=(1, 1), stride=(1, 1))\n  )\n  (aux_classifier): FCNHead(\n    (0): Conv2d(1024, 256, kernel_size=(3, 3), stride=(1, 1), padding=(1, 1), bias=False)\n    (1): BatchNorm2d(256, eps=1e-05, momentum=0.1, affine=True, track_running_stats=True)\n    (2): ReLU()\n    (3): Dropout(p=0.1, inplace=False)\n    (4): Conv2d(256, 21, kernel_size=(1, 1), stride=(1, 1))\n  )\n)"
     },
     "execution_count": 9,
     "metadata": {},
     "output_type": "execute_result"
    }
   ],
   "source": [
    "model = fcn.fcn_resnet50(pretrained=True)\n",
    "model.backbone.conv1 = nn.Conv2d(in_channels=6, out_channels=64, kernel_size=7, stride=2, padding=3)\n",
    "model"
   ],
   "metadata": {
    "collapsed": false
   }
  },
  {
   "cell_type": "code",
   "execution_count": 10,
   "outputs": [
    {
     "name": "stdout",
     "output_type": "stream",
     "text": [
      "=================================================================\n",
      "Layer (type:depth-idx)                   Param #\n",
      "=================================================================\n",
      "├─IntermediateLayerGetter: 1-1           --\n",
      "|    └─Conv2d: 2-1                       18,880\n",
      "|    └─BatchNorm2d: 2-2                  128\n",
      "|    └─ReLU: 2-3                         --\n",
      "|    └─MaxPool2d: 2-4                    --\n",
      "|    └─Sequential: 2-5                   --\n",
      "|    |    └─Bottleneck: 3-1              75,008\n",
      "|    |    └─Bottleneck: 3-2              70,400\n",
      "|    |    └─Bottleneck: 3-3              70,400\n",
      "|    └─Sequential: 2-6                   --\n",
      "|    |    └─Bottleneck: 3-4              379,392\n",
      "|    |    └─Bottleneck: 3-5              280,064\n",
      "|    |    └─Bottleneck: 3-6              280,064\n",
      "|    |    └─Bottleneck: 3-7              280,064\n",
      "|    └─Sequential: 2-7                   --\n",
      "|    |    └─Bottleneck: 3-8              1,512,448\n",
      "|    |    └─Bottleneck: 3-9              1,117,184\n",
      "|    |    └─Bottleneck: 3-10             1,117,184\n",
      "|    |    └─Bottleneck: 3-11             1,117,184\n",
      "|    |    └─Bottleneck: 3-12             1,117,184\n",
      "|    |    └─Bottleneck: 3-13             1,117,184\n",
      "|    └─Sequential: 2-8                   --\n",
      "|    |    └─Bottleneck: 3-14             6,039,552\n",
      "|    |    └─Bottleneck: 3-15             4,462,592\n",
      "|    |    └─Bottleneck: 3-16             4,462,592\n",
      "├─FCNHead: 1-2                           --\n",
      "|    └─Conv2d: 2-9                       9,437,184\n",
      "|    └─BatchNorm2d: 2-10                 1,024\n",
      "|    └─ReLU: 2-11                        --\n",
      "|    └─Dropout: 2-12                     --\n",
      "|    └─Conv2d: 2-13                      10,773\n",
      "├─FCNHead: 1-3                           --\n",
      "|    └─Conv2d: 2-14                      2,359,296\n",
      "|    └─BatchNorm2d: 2-15                 512\n",
      "|    └─ReLU: 2-16                        --\n",
      "|    └─Dropout: 2-17                     --\n",
      "|    └─Conv2d: 2-18                      5,397\n",
      "=================================================================\n",
      "Total params: 35,331,690\n",
      "Trainable params: 35,331,690\n",
      "Non-trainable params: 0\n",
      "=================================================================\n"
     ]
    },
    {
     "data": {
      "text/plain": "=================================================================\nLayer (type:depth-idx)                   Param #\n=================================================================\n├─IntermediateLayerGetter: 1-1           --\n|    └─Conv2d: 2-1                       18,880\n|    └─BatchNorm2d: 2-2                  128\n|    └─ReLU: 2-3                         --\n|    └─MaxPool2d: 2-4                    --\n|    └─Sequential: 2-5                   --\n|    |    └─Bottleneck: 3-1              75,008\n|    |    └─Bottleneck: 3-2              70,400\n|    |    └─Bottleneck: 3-3              70,400\n|    └─Sequential: 2-6                   --\n|    |    └─Bottleneck: 3-4              379,392\n|    |    └─Bottleneck: 3-5              280,064\n|    |    └─Bottleneck: 3-6              280,064\n|    |    └─Bottleneck: 3-7              280,064\n|    └─Sequential: 2-7                   --\n|    |    └─Bottleneck: 3-8              1,512,448\n|    |    └─Bottleneck: 3-9              1,117,184\n|    |    └─Bottleneck: 3-10             1,117,184\n|    |    └─Bottleneck: 3-11             1,117,184\n|    |    └─Bottleneck: 3-12             1,117,184\n|    |    └─Bottleneck: 3-13             1,117,184\n|    └─Sequential: 2-8                   --\n|    |    └─Bottleneck: 3-14             6,039,552\n|    |    └─Bottleneck: 3-15             4,462,592\n|    |    └─Bottleneck: 3-16             4,462,592\n├─FCNHead: 1-2                           --\n|    └─Conv2d: 2-9                       9,437,184\n|    └─BatchNorm2d: 2-10                 1,024\n|    └─ReLU: 2-11                        --\n|    └─Dropout: 2-12                     --\n|    └─Conv2d: 2-13                      10,773\n├─FCNHead: 1-3                           --\n|    └─Conv2d: 2-14                      2,359,296\n|    └─BatchNorm2d: 2-15                 512\n|    └─ReLU: 2-16                        --\n|    └─Dropout: 2-17                     --\n|    └─Conv2d: 2-18                      5,397\n=================================================================\nTotal params: 35,331,690\nTrainable params: 35,331,690\nNon-trainable params: 0\n================================================================="
     },
     "execution_count": 10,
     "metadata": {},
     "output_type": "execute_result"
    }
   ],
   "source": [
    "summary(model, input_size=(6, 256, 256), batch_size=2, device=\"cpu\")"
   ],
   "metadata": {
    "collapsed": false
   }
  },
  {
   "cell_type": "code",
   "execution_count": 11,
   "outputs": [
    {
     "ename": "TypeError",
     "evalue": "unhashable type: 'collections.OrderedDict'",
     "output_type": "error",
     "traceback": [
      "\u001B[1;31m---------------------------------------------------------------------------\u001B[0m",
      "\u001B[1;31mTypeError\u001B[0m                                 Traceback (most recent call last)",
      "Cell \u001B[1;32mIn[11], line 1\u001B[0m\n\u001B[1;32m----> 1\u001B[0m struct \u001B[38;5;241m=\u001B[39m \u001B[43mmake_dot\u001B[49m\u001B[43m(\u001B[49m\u001B[43mmodel\u001B[49m\u001B[43m(\u001B[49m\u001B[43mtorch\u001B[49m\u001B[38;5;241;43m.\u001B[39;49m\u001B[43mcat\u001B[49m\u001B[43m(\u001B[49m\u001B[43m(\u001B[49m\u001B[43mimg1\u001B[49m\u001B[43m,\u001B[49m\u001B[43m \u001B[49m\u001B[43mimg2\u001B[49m\u001B[43m)\u001B[49m\u001B[43m,\u001B[49m\u001B[43m \u001B[49m\u001B[43mdim\u001B[49m\u001B[38;5;241;43m=\u001B[39;49m\u001B[38;5;241;43m1\u001B[39;49m\u001B[43m)\u001B[49m\u001B[43m)\u001B[49m\u001B[43m)\u001B[49m\n\u001B[0;32m      2\u001B[0m struct\u001B[38;5;241m.\u001B[39mrender(\u001B[38;5;124m\"\u001B[39m\u001B[38;5;124mpdf_fcn_res\u001B[39m\u001B[38;5;124m\"\u001B[39m, view\u001B[38;5;241m=\u001B[39m\u001B[38;5;28;01mTrue\u001B[39;00m)\n",
      "File \u001B[1;32mD:\\Mysoftware_setup\\anaconda3\\envs\\mypytorch\\lib\\site-packages\\torchviz\\dot.py:163\u001B[0m, in \u001B[0;36mmake_dot\u001B[1;34m(var, params, show_attrs, show_saved, max_attr_chars)\u001B[0m\n\u001B[0;32m    161\u001B[0m         add_base_tensor(v)\n\u001B[0;32m    162\u001B[0m \u001B[38;5;28;01melse\u001B[39;00m:\n\u001B[1;32m--> 163\u001B[0m     \u001B[43madd_base_tensor\u001B[49m\u001B[43m(\u001B[49m\u001B[43mvar\u001B[49m\u001B[43m)\u001B[49m\n\u001B[0;32m    165\u001B[0m resize_graph(dot)\n\u001B[0;32m    167\u001B[0m \u001B[38;5;28;01mreturn\u001B[39;00m dot\n",
      "File \u001B[1;32mD:\\Mysoftware_setup\\anaconda3\\envs\\mypytorch\\lib\\site-packages\\torchviz\\dot.py:146\u001B[0m, in \u001B[0;36mmake_dot.<locals>.add_base_tensor\u001B[1;34m(var, color)\u001B[0m\n\u001B[0;32m    145\u001B[0m \u001B[38;5;28;01mdef\u001B[39;00m \u001B[38;5;21madd_base_tensor\u001B[39m(var, color\u001B[38;5;241m=\u001B[39m\u001B[38;5;124m'\u001B[39m\u001B[38;5;124mdarkolivegreen1\u001B[39m\u001B[38;5;124m'\u001B[39m):\n\u001B[1;32m--> 146\u001B[0m     \u001B[38;5;28;01mif\u001B[39;00m \u001B[43mvar\u001B[49m\u001B[43m \u001B[49m\u001B[38;5;129;43;01min\u001B[39;49;00m\u001B[43m \u001B[49m\u001B[43mseen\u001B[49m:\n\u001B[0;32m    147\u001B[0m         \u001B[38;5;28;01mreturn\u001B[39;00m\n\u001B[0;32m    148\u001B[0m     seen\u001B[38;5;241m.\u001B[39madd(var)\n",
      "\u001B[1;31mTypeError\u001B[0m: unhashable type: 'collections.OrderedDict'"
     ]
    }
   ],
   "source": [
    "struct = make_dot(model(torch.cat((img1, img2), dim=1)))\n",
    "struct.render(\"pdf_fcn_res\", view=True)"
   ],
   "metadata": {
    "collapsed": false
   }
  },
  {
   "cell_type": "code",
   "execution_count": null,
   "outputs": [],
   "source": [],
   "metadata": {
    "collapsed": false
   }
  }
 ],
 "metadata": {
  "kernelspec": {
   "display_name": "Python 3",
   "language": "python",
   "name": "python3"
  },
  "language_info": {
   "codemirror_mode": {
    "name": "ipython",
    "version": 2
   },
   "file_extension": ".py",
   "mimetype": "text/x-python",
   "name": "python",
   "nbconvert_exporter": "python",
   "pygments_lexer": "ipython2",
   "version": "2.7.6"
  }
 },
 "nbformat": 4,
 "nbformat_minor": 0
}
