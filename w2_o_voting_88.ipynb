{
 "cells": [
  {
   "cell_type": "code",
   "execution_count": 1,
   "metadata": {
    "execution": {
     "iopub.execute_input": "2023-03-08T12:16:37.075292Z",
     "iopub.status.busy": "2023-03-08T12:16:37.075045Z",
     "iopub.status.idle": "2023-03-08T12:16:44.469387Z",
     "shell.execute_reply": "2023-03-08T12:16:44.468353Z",
     "shell.execute_reply.started": "2023-03-08T12:16:37.075231Z"
    }
   },
   "outputs": [
    {
     "name": "stdout",
     "output_type": "stream",
     "text": [
      "Looking in indexes: https://pypi.tuna.tsinghua.edu.cn/simple\n",
      "Collecting segmentation_models_pytorch\n",
      "  Downloading https://pypi.tuna.tsinghua.edu.cn/packages/40/7d/6a91c9608fd54c115e617e233c44b7023dc4445d478b258d04314afbd02a/segmentation_models_pytorch-0.3.2-py3-none-any.whl (106 kB)\n",
      "\u001b[2K     \u001b[90m━━━━━━━━━━━━━━━━━━━━━━━━━━━━━━━━━━━━━━━\u001b[0m \u001b[32m106.7/106.7 kB\u001b[0m \u001b[31m8.6 MB/s\u001b[0m eta \u001b[36m0:00:00\u001b[0m\n",
      "\u001b[?25hRequirement already satisfied: tqdm in /usr/local/lib/python3.8/site-packages (from segmentation_models_pytorch) (4.64.1)\n",
      "Collecting efficientnet-pytorch==0.7.1\n",
      "  Downloading https://pypi.tuna.tsinghua.edu.cn/packages/2e/a0/dd40b50aebf0028054b6b35062948da01123d7be38d08b6b1e5435df6363/efficientnet_pytorch-0.7.1.tar.gz (21 kB)\n",
      "  Preparing metadata (setup.py) ... \u001b[?25ldone\n",
      "\u001b[?25hRequirement already satisfied: pillow in /usr/local/lib/python3.8/site-packages (from segmentation_models_pytorch) (9.2.0)\n",
      "Requirement already satisfied: torchvision>=0.5.0 in /usr/local/lib/python3.8/site-packages (from segmentation_models_pytorch) (0.9.2+cu111)\n",
      "Collecting pretrainedmodels==0.7.4\n",
      "  Downloading https://pypi.tuna.tsinghua.edu.cn/packages/84/0e/be6a0e58447ac16c938799d49bfb5fb7a80ac35e137547fc6cee2c08c4cf/pretrainedmodels-0.7.4.tar.gz (58 kB)\n",
      "\u001b[2K     \u001b[90m━━━━━━━━━━━━━━━━━━━━━━━━━━━━━━━━━━━━━━━━\u001b[0m \u001b[32m58.8/58.8 kB\u001b[0m \u001b[31m2.3 MB/s\u001b[0m eta \u001b[36m0:00:00\u001b[0m\n",
      "\u001b[?25h  Preparing metadata (setup.py) ... \u001b[?25ldone\n",
      "\u001b[?25hCollecting timm==0.6.12\n",
      "  Downloading https://pypi.tuna.tsinghua.edu.cn/packages/89/4e/97622efc48a6e0c11781ed8a3472c679f2c8a5cf6ebd58a57b050e758bfe/timm-0.6.12-py3-none-any.whl (549 kB)\n",
      "\u001b[2K     \u001b[90m━━━━━━━━━━━━━━━━━━━━━━━━━━━━━━━━━━━━━━━\u001b[0m \u001b[32m549.1/549.1 kB\u001b[0m \u001b[31m1.4 MB/s\u001b[0m eta \u001b[36m0:00:00\u001b[0ma \u001b[36m0:00:01\u001b[0m\n",
      "\u001b[?25hRequirement already satisfied: torch in /usr/local/lib/python3.8/site-packages (from efficientnet-pytorch==0.7.1->segmentation_models_pytorch) (1.8.2+cu111)\n",
      "Collecting munch\n",
      "  Downloading https://pypi.tuna.tsinghua.edu.cn/packages/cc/ab/85d8da5c9a45e072301beb37ad7f833cd344e04c817d97e0cc75681d248f/munch-2.5.0-py2.py3-none-any.whl (10 kB)\n",
      "Collecting huggingface-hub\n",
      "  Downloading https://pypi.tuna.tsinghua.edu.cn/packages/57/3f/63dd1710b00aa5e7c186ac761a2078f595abf7bb58ea802138d83cb30cca/huggingface_hub-0.12.1-py3-none-any.whl (190 kB)\n",
      "\u001b[2K     \u001b[90m━━━━━━━━━━━━━━━━━━━━━━━━━━━━━━━━━━━━━━━\u001b[0m \u001b[32m190.3/190.3 kB\u001b[0m \u001b[31m2.5 MB/s\u001b[0m eta \u001b[36m0:00:00\u001b[0ma \u001b[36m0:00:01\u001b[0m\n",
      "\u001b[?25hRequirement already satisfied: pyyaml in /usr/local/lib/python3.8/site-packages (from timm==0.6.12->segmentation_models_pytorch) (6.0)\n",
      "Requirement already satisfied: numpy in /usr/local/lib/python3.8/site-packages (from torchvision>=0.5.0->segmentation_models_pytorch) (1.23.4)\n",
      "Requirement already satisfied: typing-extensions in /usr/local/lib/python3.8/site-packages (from torch->efficientnet-pytorch==0.7.1->segmentation_models_pytorch) (4.4.0)\n",
      "Requirement already satisfied: packaging>=20.9 in /usr/local/lib/python3.8/site-packages (from huggingface-hub->timm==0.6.12->segmentation_models_pytorch) (21.3)\n",
      "Requirement already satisfied: requests in /usr/local/lib/python3.8/site-packages (from huggingface-hub->timm==0.6.12->segmentation_models_pytorch) (2.28.1)\n",
      "Collecting filelock\n",
      "  Downloading https://pypi.tuna.tsinghua.edu.cn/packages/14/4c/b201d0292ca4e0950f0741212935eac9996f69cd66b92a3587e594999163/filelock-3.9.0-py3-none-any.whl (9.7 kB)\n",
      "Requirement already satisfied: six in /usr/local/lib/python3.8/site-packages (from munch->pretrainedmodels==0.7.4->segmentation_models_pytorch) (1.16.0)\n",
      "Requirement already satisfied: pyparsing!=3.0.5,>=2.0.2 in /usr/local/lib/python3.8/site-packages (from packaging>=20.9->huggingface-hub->timm==0.6.12->segmentation_models_pytorch) (3.0.9)\n",
      "Requirement already satisfied: idna<4,>=2.5 in /usr/local/lib/python3.8/site-packages (from requests->huggingface-hub->timm==0.6.12->segmentation_models_pytorch) (3.3)\n",
      "Requirement already satisfied: urllib3<1.27,>=1.21.1 in /usr/local/lib/python3.8/site-packages (from requests->huggingface-hub->timm==0.6.12->segmentation_models_pytorch) (1.26.11)\n",
      "Requirement already satisfied: charset-normalizer<3,>=2 in /usr/local/lib/python3.8/site-packages (from requests->huggingface-hub->timm==0.6.12->segmentation_models_pytorch) (2.0.4)\n",
      "Requirement already satisfied: certifi>=2017.4.17 in /usr/local/lib/python3.8/site-packages (from requests->huggingface-hub->timm==0.6.12->segmentation_models_pytorch) (2022.6.15)\n",
      "Building wheels for collected packages: efficientnet-pytorch, pretrainedmodels\n",
      "  Building wheel for efficientnet-pytorch (setup.py) ... \u001b[?25ldone\n",
      "\u001b[?25h  Created wheel for efficientnet-pytorch: filename=efficientnet_pytorch-0.7.1-py3-none-any.whl size=16428 sha256=e682d225522e5f914d6be514aff98979f6e23880714165edb5522b86cfedb2fd\n",
      "  Stored in directory: /root/.cache/pip/wheels/8f/d9/c4/c7e78169955c489f83bf72837b7781c15dcafa737be252bfbb\n",
      "  Building wheel for pretrainedmodels (setup.py) ... \u001b[?25ldone\n",
      "\u001b[?25h  Created wheel for pretrainedmodels: filename=pretrainedmodels-0.7.4-py3-none-any.whl size=60944 sha256=8b33b215edb1693ece17dca34fb4ae38d27fcff8c4bfdd9aa88b8fdf9e4930ae\n",
      "  Stored in directory: /root/.cache/pip/wheels/ca/32/54/89d6b8e7e710086237f700ad61d8b3d8af521e5e5d9b3d632c\n",
      "Successfully built efficientnet-pytorch pretrainedmodels\n",
      "Installing collected packages: munch, filelock, huggingface-hub, efficientnet-pytorch, timm, pretrainedmodels, segmentation_models_pytorch\n",
      "Successfully installed efficientnet-pytorch-0.7.1 filelock-3.9.0 huggingface-hub-0.12.1 munch-2.5.0 pretrainedmodels-0.7.4 segmentation_models_pytorch-0.3.2 timm-0.6.12\n",
      "\u001b[33mWARNING: Running pip as the 'root' user can result in broken permissions and conflicting behaviour with the system package manager. It is recommended to use a virtual environment instead: https://pip.pypa.io/warnings/venv\u001b[0m\u001b[33m\n",
      "\u001b[0m"
     ]
    }
   ],
   "source": [
    "!pip install segmentation_models_pytorch"
   ]
  },
  {
   "cell_type": "code",
   "execution_count": 2,
   "metadata": {
    "execution": {
     "iopub.execute_input": "2023-03-08T12:16:44.472120Z",
     "iopub.status.busy": "2023-03-08T12:16:44.471775Z",
     "iopub.status.idle": "2023-03-08T12:16:46.703653Z",
     "shell.execute_reply": "2023-03-08T12:16:46.703000Z",
     "shell.execute_reply.started": "2023-03-08T12:16:44.472081Z"
    },
    "tags": []
   },
   "outputs": [],
   "source": [
    "import torch.nn as nn\n",
    "from torchvision import transforms\n",
    "from torch.utils.data import DataLoader\n",
    "import torch\n",
    "from mydataset2 import MyDataset\n",
    "from tqdm import tqdm\n",
    "from torch.cuda.amp import autocast\n",
    "import segmentation_models_pytorch as smp\n",
    "from data_augmentation import RandomRotation, RandomVerticalFlip, RandomHorizontalFlip, Compose, ToTensor"
   ]
  },
  {
   "cell_type": "code",
   "execution_count": 3,
   "metadata": {
    "execution": {
     "iopub.execute_input": "2023-03-08T12:16:46.704682Z",
     "iopub.status.busy": "2023-03-08T12:16:46.704473Z",
     "iopub.status.idle": "2023-03-08T12:16:46.707889Z",
     "shell.execute_reply": "2023-03-08T12:16:46.707475Z",
     "shell.execute_reply.started": "2023-03-08T12:16:46.704662Z"
    }
   },
   "outputs": [],
   "source": [
    "batch_size = 100"
   ]
  },
  {
   "cell_type": "code",
   "execution_count": 4,
   "metadata": {
    "execution": {
     "iopub.execute_input": "2023-03-08T12:16:46.708827Z",
     "iopub.status.busy": "2023-03-08T12:16:46.708672Z",
     "iopub.status.idle": "2023-03-08T12:16:46.733425Z",
     "shell.execute_reply": "2023-03-08T12:16:46.733060Z",
     "shell.execute_reply.started": "2023-03-08T12:16:46.708813Z"
    }
   },
   "outputs": [
    {
     "data": {
      "text/plain": [
       "(3800, 200, 38, 2)"
      ]
     },
     "execution_count": 4,
     "metadata": {},
     "output_type": "execute_result"
    }
   ],
   "source": [
    "train_set = MyDataset(root=\"data\", is_train=True, transform=Compose([\n",
    "    ToTensor(),\n",
    "    RandomHorizontalFlip(),\n",
    "    RandomVerticalFlip(),\n",
    "    RandomRotation([0, 90, 180, 270]),\n",
    "]), normalize=transforms.Normalize((0.485, 0.456, 0.406), (0.229, 0.224, 0.225)))\n",
    "\n",
    "val_set = MyDataset(root=\"data\", is_train=False, transform=Compose([ToTensor()]),\n",
    "                    normalize=transforms.Normalize((0.485, 0.456, 0.406), (0.229, 0.224, 0.225)))\n",
    "\n",
    "train_loader = DataLoader(\n",
    "    train_set,\n",
    "    batch_size=batch_size,\n",
    "    shuffle=True,\n",
    "    num_workers=0\n",
    ")\n",
    "\n",
    "val_loader = DataLoader(\n",
    "    val_set,\n",
    "    batch_size=batch_size,\n",
    "    shuffle=False,\n",
    "    num_workers=0\n",
    ")\n",
    "len(train_set), len(val_set), len(train_loader), len(val_loader)"
   ]
  },
  {
   "cell_type": "code",
   "execution_count": 5,
   "metadata": {
    "execution": {
     "iopub.execute_input": "2023-03-08T12:16:46.734148Z",
     "iopub.status.busy": "2023-03-08T12:16:46.733994Z",
     "iopub.status.idle": "2023-03-08T12:16:49.619618Z",
     "shell.execute_reply": "2023-03-08T12:16:49.618879Z",
     "shell.execute_reply.started": "2023-03-08T12:16:46.734133Z"
    },
    "tags": []
   },
   "outputs": [],
   "source": [
    "model0 = smp.FPN(\n",
    "    in_channels=6,\n",
    "    classes=2,\n",
    ")\n",
    "model0.cuda()\n",
    "criterion0 = nn.CrossEntropyLoss()\n",
    "optim0 = torch.optim.AdamW(model0.parameters(), lr=0.0001, weight_decay=1e-9)\n",
    "scaler0 = torch.cuda.amp.GradScaler(enabled=True)"
   ]
  },
  {
   "cell_type": "code",
   "execution_count": 6,
   "metadata": {
    "execution": {
     "iopub.execute_input": "2023-03-08T12:16:49.620720Z",
     "iopub.status.busy": "2023-03-08T12:16:49.620554Z",
     "iopub.status.idle": "2023-03-08T12:16:50.004681Z",
     "shell.execute_reply": "2023-03-08T12:16:50.004045Z",
     "shell.execute_reply.started": "2023-03-08T12:16:49.620704Z"
    }
   },
   "outputs": [],
   "source": [
    "model1 = smp.DeepLabV3Plus(\n",
    "    in_channels=6,\n",
    "    classes=2,\n",
    ")\n",
    "model1.cuda()\n",
    "criterion1 = nn.CrossEntropyLoss()\n",
    "optim1 = torch.optim.AdamW(model1.parameters(), lr=0.0001, weight_decay=1e-9)\n",
    "scaler1 = torch.cuda.amp.GradScaler(enabled=True)"
   ]
  },
  {
   "cell_type": "code",
   "execution_count": 7,
   "metadata": {
    "execution": {
     "iopub.execute_input": "2023-03-08T12:16:50.006454Z",
     "iopub.status.busy": "2023-03-08T12:16:50.006279Z",
     "iopub.status.idle": "2023-03-08T12:16:50.405517Z",
     "shell.execute_reply": "2023-03-08T12:16:50.404870Z",
     "shell.execute_reply.started": "2023-03-08T12:16:50.006430Z"
    }
   },
   "outputs": [],
   "source": [
    "model2 = smp.UnetPlusPlus(\n",
    "    in_channels=6,\n",
    "    classes=2,\n",
    ")\n",
    "model2.cuda()\n",
    "criterion2 = nn.CrossEntropyLoss()\n",
    "optim2 = torch.optim.AdamW(model2.parameters(), lr=0.0001, weight_decay=1e-9)\n",
    "scaler2 = torch.cuda.amp.GradScaler(enabled=True)"
   ]
  },
  {
   "cell_type": "code",
   "execution_count": 8,
   "metadata": {
    "execution": {
     "iopub.execute_input": "2023-03-08T12:16:50.406479Z",
     "iopub.status.busy": "2023-03-08T12:16:50.406299Z",
     "iopub.status.idle": "2023-03-08T12:16:50.409759Z",
     "shell.execute_reply": "2023-03-08T12:16:50.409322Z",
     "shell.execute_reply.started": "2023-03-08T12:16:50.406462Z"
    }
   },
   "outputs": [],
   "source": [
    "models = [model0, model1, model2]\n",
    "criterions = [criterion0, criterion1, criterion2]\n",
    "scalers = [scaler0, scaler1, scaler2]\n",
    "optims = [optim0, optim1, optim2]"
   ]
  },
  {
   "cell_type": "code",
   "execution_count": 9,
   "metadata": {
    "execution": {
     "iopub.execute_input": "2023-03-08T12:16:50.410486Z",
     "iopub.status.busy": "2023-03-08T12:16:50.410330Z",
     "iopub.status.idle": "2023-03-08T12:16:50.416763Z",
     "shell.execute_reply": "2023-03-08T12:16:50.416349Z",
     "shell.execute_reply.started": "2023-03-08T12:16:50.410472Z"
    },
    "tags": []
   },
   "outputs": [],
   "source": [
    "def train_model(epoch):\n",
    "    for model in models:\n",
    "        model.train()\n",
    "    print(f\"Epoch {epoch} Training\")\n",
    "    with tqdm(train_loader, desc=str(epoch)) as it:\n",
    "        for idx, (img, mask) in enumerate(it, 0):\n",
    "            img, mask = img.cuda(), mask.cuda()\n",
    "            mask = mask.long()\n",
    "            mask = mask.squeeze(1)\n",
    "            vote = []\n",
    "            for model, optim, criterion, scaler in zip(models, optims, criterions, scalers):\n",
    "                optim.zero_grad()\n",
    "                with autocast():\n",
    "                    outputs = model(img)\n",
    "                    loss = criterion(outputs, mask)\n",
    "                scaler.scale(loss).backward()\n",
    "                scaler.step(optim)\n",
    "                scaler.update()\n",
    "                _, pred = torch.max(outputs.data, 1)\n",
    "                vote.append(pred)\n",
    "            vote = torch.stack(vote, dim=0)\n",
    "            pred = torch.div(torch.sum(vote, dim=0), 2, rounding_mode=\"trunc\")\n",
    "            p, r, f1, iou = get_index(pred, mask)\n",
    "            it.set_postfix_str(f\"loss: {loss.item(): .4f} p: {p: .4f}  r: {r: .4f}  f1: {f1: .4f}  iou: {iou: .4f}\")"
   ]
  },
  {
   "cell_type": "code",
   "execution_count": 10,
   "metadata": {
    "execution": {
     "iopub.execute_input": "2023-03-08T12:16:50.417473Z",
     "iopub.status.busy": "2023-03-08T12:16:50.417318Z",
     "iopub.status.idle": "2023-03-08T12:16:50.423747Z",
     "shell.execute_reply": "2023-03-08T12:16:50.423333Z",
     "shell.execute_reply.started": "2023-03-08T12:16:50.417458Z"
    },
    "tags": []
   },
   "outputs": [],
   "source": [
    "def get_index(pred, label):\n",
    "    eps = 1e-7\n",
    "    tp = torch.sum(label * pred)\n",
    "    fp = torch.sum(pred) - tp\n",
    "    fn = torch.sum(label) - tp\n",
    "\n",
    "    p = (tp + eps) / (tp + fp + eps)\n",
    "    r = (tp + eps) / (tp + fn + eps)\n",
    "    f1 = (2 * p * r + eps) / (p + r + eps)\n",
    "    iou = (tp + eps) / (tp + fn + fp + eps)\n",
    "    return p, r, f1, iou\n",
    "\n",
    "\n",
    "def test_model(epoch):\n",
    "    for model in models:\n",
    "        model.eval()\n",
    "    global max_score\n",
    "    f1s = 0\n",
    "    print(f\"Epoch {epoch} Testing\")\n",
    "    with torch.no_grad():\n",
    "        with tqdm(val_loader, desc=str(epoch)) as it:\n",
    "            for img, mask in it:\n",
    "                img, mask = img.cuda(), mask.cuda()\n",
    "                mask = mask.squeeze(1)\n",
    "                vote = []\n",
    "                for model in models:\n",
    "                    outputs = model(img)\n",
    "                    _, pred = torch.max(outputs.data, 1)\n",
    "                    vote.append(pred)\n",
    "                vote = torch.stack(vote, dim=0)\n",
    "                pred = torch.div(torch.sum(vote, dim=0), 2, rounding_mode=\"trunc\")\n",
    "                p, r, f1, iou = get_index(pred, mask)\n",
    "                f1s += f1\n",
    "                it.set_postfix_str(f\"p: {p: .4f}  r: {r: .4f}  f1: {f1: .4f}  iou: {iou: .4f}\")\n",
    "    f1s /= len(val_loader)\n",
    "    print(\"f1\", f1s.item())\n",
    "    if max_score < f1s:\n",
    "        max_score = f1s\n",
    "        print('max_score', max_score.item())"
   ]
  },
  {
   "cell_type": "code",
   "execution_count": 11,
   "metadata": {
    "execution": {
     "iopub.execute_input": "2023-03-08T12:16:50.424454Z",
     "iopub.status.busy": "2023-03-08T12:16:50.424300Z",
     "iopub.status.idle": "2023-03-08T12:33:40.213917Z",
     "shell.execute_reply": "2023-03-08T12:33:40.212961Z",
     "shell.execute_reply.started": "2023-03-08T12:16:50.424439Z"
    },
    "tags": []
   },
   "outputs": [
    {
     "name": "stdout",
     "output_type": "stream",
     "text": [
      "Epoch 0 Training\n"
     ]
    },
    {
     "name": "stderr",
     "output_type": "stream",
     "text": [
      "0: 100%|██████████| 38/38 [02:00<00:00,  3.17s/it, loss:  0.3142 p:  0.7427  r:  0.7032  f1:  0.7224  iou:  0.5654]\n"
     ]
    },
    {
     "name": "stdout",
     "output_type": "stream",
     "text": [
      "Epoch 0 Testing\n"
     ]
    },
    {
     "name": "stderr",
     "output_type": "stream",
     "text": [
      "0: 100%|██████████| 2/2 [00:03<00:00,  1.83s/it, p:  0.7252  r:  0.7623  f1:  0.7433  iou:  0.5914]\n"
     ]
    },
    {
     "name": "stdout",
     "output_type": "stream",
     "text": [
      "f1 0.7410907527966119\n",
      "max_score 0.7410907527966119\n",
      "Epoch 1 Training\n"
     ]
    },
    {
     "name": "stderr",
     "output_type": "stream",
     "text": [
      "1: 100%|██████████| 38/38 [01:51<00:00,  2.93s/it, loss:  0.2338 p:  0.8712  r:  0.7556  f1:  0.8093  iou:  0.6796]\n"
     ]
    },
    {
     "name": "stdout",
     "output_type": "stream",
     "text": [
      "Epoch 1 Testing\n"
     ]
    },
    {
     "name": "stderr",
     "output_type": "stream",
     "text": [
      "1: 100%|██████████| 2/2 [00:03<00:00,  1.66s/it, p:  0.8222  r:  0.7823  f1:  0.8017  iou:  0.6691]\n"
     ]
    },
    {
     "name": "stdout",
     "output_type": "stream",
     "text": [
      "f1 0.8004034313328554\n",
      "max_score 0.8004034313328554\n",
      "Epoch 2 Training\n"
     ]
    },
    {
     "name": "stderr",
     "output_type": "stream",
     "text": [
      "2: 100%|██████████| 38/38 [01:45<00:00,  2.78s/it, loss:  0.1951 p:  0.8085  r:  0.8331  f1:  0.8206  iou:  0.6958]\n"
     ]
    },
    {
     "name": "stdout",
     "output_type": "stream",
     "text": [
      "Epoch 2 Testing\n"
     ]
    },
    {
     "name": "stderr",
     "output_type": "stream",
     "text": [
      "2: 100%|██████████| 2/2 [00:03<00:00,  1.59s/it, p:  0.8717  r:  0.7930  f1:  0.8305  iou:  0.7101]\n"
     ]
    },
    {
     "name": "stdout",
     "output_type": "stream",
     "text": [
      "f1 0.8222467709350876\n",
      "max_score 0.8222467709350876\n",
      "Epoch 3 Training\n"
     ]
    },
    {
     "name": "stderr",
     "output_type": "stream",
     "text": [
      "3: 100%|██████████| 38/38 [01:35<00:00,  2.51s/it, loss:  0.1654 p:  0.8914  r:  0.8366  f1:  0.8631  iou:  0.7592]\n"
     ]
    },
    {
     "name": "stdout",
     "output_type": "stream",
     "text": [
      "Epoch 3 Testing\n"
     ]
    },
    {
     "name": "stderr",
     "output_type": "stream",
     "text": [
      "3: 100%|██████████| 2/2 [00:01<00:00,  1.07it/s, p:  0.8724  r:  0.8139  f1:  0.8421  iou:  0.7273]\n"
     ]
    },
    {
     "name": "stdout",
     "output_type": "stream",
     "text": [
      "f1 0.8376629077322035\n",
      "max_score 0.8376629077322035\n",
      "Epoch 4 Training\n"
     ]
    },
    {
     "name": "stderr",
     "output_type": "stream",
     "text": [
      "4: 100%|██████████| 38/38 [01:32<00:00,  2.42s/it, loss:  0.1682 p:  0.8677  r:  0.8335  f1:  0.8503  iou:  0.7395]\n"
     ]
    },
    {
     "name": "stdout",
     "output_type": "stream",
     "text": [
      "Epoch 4 Testing\n"
     ]
    },
    {
     "name": "stderr",
     "output_type": "stream",
     "text": [
      "4: 100%|██████████| 2/2 [00:01<00:00,  1.04it/s, p:  0.8871  r:  0.8326  f1:  0.8590  iou:  0.7528]\n"
     ]
    },
    {
     "name": "stdout",
     "output_type": "stream",
     "text": [
      "f1 0.857324042190294\n",
      "max_score 0.857324042190294\n",
      "Epoch 5 Training\n"
     ]
    },
    {
     "name": "stderr",
     "output_type": "stream",
     "text": [
      "5: 100%|██████████| 38/38 [01:32<00:00,  2.43s/it, loss:  0.1765 p:  0.9426  r:  0.8002  f1:  0.8656  iou:  0.7630]\n"
     ]
    },
    {
     "name": "stdout",
     "output_type": "stream",
     "text": [
      "Epoch 5 Testing\n"
     ]
    },
    {
     "name": "stderr",
     "output_type": "stream",
     "text": [
      "5: 100%|██████████| 2/2 [00:01<00:00,  1.05it/s, p:  0.8874  r:  0.8433  f1:  0.8648  iou:  0.7617]\n"
     ]
    },
    {
     "name": "stdout",
     "output_type": "stream",
     "text": [
      "f1 0.8621296871768085\n",
      "max_score 0.8621296871768085\n",
      "Epoch 6 Training\n"
     ]
    },
    {
     "name": "stderr",
     "output_type": "stream",
     "text": [
      "6: 100%|██████████| 38/38 [01:32<00:00,  2.43s/it, loss:  0.1441 p:  0.8418  r:  0.8945  f1:  0.8673  iou:  0.7657]\n"
     ]
    },
    {
     "name": "stdout",
     "output_type": "stream",
     "text": [
      "Epoch 6 Testing\n"
     ]
    },
    {
     "name": "stderr",
     "output_type": "stream",
     "text": [
      "6: 100%|██████████| 2/2 [00:01<00:00,  1.05it/s, p:  0.8863  r:  0.8767  f1:  0.8815  iou:  0.7881]\n"
     ]
    },
    {
     "name": "stdout",
     "output_type": "stream",
     "text": [
      "f1 0.8809336031558974\n",
      "max_score 0.8809336031558974\n",
      "Epoch 7 Training\n"
     ]
    },
    {
     "name": "stderr",
     "output_type": "stream",
     "text": [
      "7: 100%|██████████| 38/38 [01:32<00:00,  2.42s/it, loss:  0.1261 p:  0.9364  r:  0.8483  f1:  0.8902  iou:  0.8021]\n"
     ]
    },
    {
     "name": "stdout",
     "output_type": "stream",
     "text": [
      "Epoch 7 Testing\n"
     ]
    },
    {
     "name": "stderr",
     "output_type": "stream",
     "text": [
      "7: 100%|██████████| 2/2 [00:01<00:00,  1.05it/s, p:  0.9118  r:  0.8559  f1:  0.8829  iou:  0.7904]\n"
     ]
    },
    {
     "name": "stdout",
     "output_type": "stream",
     "text": [
      "f1 0.8835484220383945\n",
      "max_score 0.8835484220383945\n",
      "Epoch 8 Training\n"
     ]
    },
    {
     "name": "stderr",
     "output_type": "stream",
     "text": [
      "8: 100%|██████████| 38/38 [01:32<00:00,  2.43s/it, loss:  0.1296 p:  0.9517  r:  0.8278  f1:  0.8854  iou:  0.7944]\n"
     ]
    },
    {
     "name": "stdout",
     "output_type": "stream",
     "text": [
      "Epoch 8 Testing\n"
     ]
    },
    {
     "name": "stderr",
     "output_type": "stream",
     "text": [
      "8: 100%|██████████| 2/2 [00:01<00:00,  1.03it/s, p:  0.9174  r:  0.8415  f1:  0.8778  iou:  0.7823]\n"
     ]
    },
    {
     "name": "stdout",
     "output_type": "stream",
     "text": [
      "f1 0.8840138843230825\n",
      "max_score 0.8840138843230825\n",
      "Epoch 9 Training\n"
     ]
    },
    {
     "name": "stderr",
     "output_type": "stream",
     "text": [
      "9: 100%|██████████| 38/38 [01:32<00:00,  2.42s/it, loss:  0.1084 p:  0.9464  r:  0.8786  f1:  0.9112  iou:  0.8369]\n"
     ]
    },
    {
     "name": "stdout",
     "output_type": "stream",
     "text": [
      "Epoch 9 Testing\n"
     ]
    },
    {
     "name": "stderr",
     "output_type": "stream",
     "text": [
      "9: 100%|██████████| 2/2 [00:01<00:00,  1.04it/s, p:  0.9091  r:  0.8617  f1:  0.8848  iou:  0.7933]"
     ]
    },
    {
     "name": "stdout",
     "output_type": "stream",
     "text": [
      "f1 0.8872199730917867\n",
      "max_score 0.8872199730917867\n",
      "completed!\n",
      "max_score 0.8872199730917867\n"
     ]
    },
    {
     "name": "stderr",
     "output_type": "stream",
     "text": [
      "\n"
     ]
    }
   ],
   "source": [
    "num_epoch = 10\n",
    "max_score = 0\n",
    "for epoch in range(0, num_epoch):\n",
    "    train_model(epoch=epoch)\n",
    "    test_model(epoch=epoch)\n",
    "print(\"completed!\")\n",
    "print('max_score', max_score.item())"
   ]
  },
  {
   "cell_type": "code",
   "execution_count": null,
   "metadata": {
    "tags": []
   },
   "outputs": [],
   "source": []
  },
  {
   "cell_type": "code",
   "execution_count": null,
   "metadata": {},
   "outputs": [],
   "source": []
  },
  {
   "cell_type": "code",
   "execution_count": null,
   "metadata": {},
   "outputs": [],
   "source": []
  }
 ],
 "metadata": {
  "kernelspec": {
   "display_name": "Python 3 (ipykernel)",
   "language": "python",
   "name": "python3"
  },
  "language_info": {
   "codemirror_mode": {
    "name": "ipython",
    "version": 3
   },
   "file_extension": ".py",
   "mimetype": "text/x-python",
   "name": "python",
   "nbconvert_exporter": "python",
   "pygments_lexer": "ipython3",
   "version": "3.8.13"
  }
 },
 "nbformat": 4,
 "nbformat_minor": 4
}
