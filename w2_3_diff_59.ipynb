{
 "cells": [
  {
   "cell_type": "code",
   "execution_count": 1,
   "metadata": {
    "execution": {
     "iopub.execute_input": "2023-03-09T07:00:38.535901Z",
     "iopub.status.busy": "2023-03-09T07:00:38.535304Z",
     "iopub.status.idle": "2023-03-09T07:00:39.901140Z",
     "shell.execute_reply": "2023-03-09T07:00:39.900220Z",
     "shell.execute_reply.started": "2023-03-09T07:00:38.535818Z"
    }
   },
   "outputs": [],
   "source": [
    "import torch.nn as nn\n",
    "from torchvision import transforms\n",
    "from torch.utils.data import DataLoader\n",
    "import torch\n",
    "from tqdm import tqdm\n",
    "from torch.cuda.amp import autocast\n",
    "from mydataset import MyDataset\n",
    "from SiamUnet_diff import SiamUnet_diff\n",
    "from data_augmentation import RandomRotation, RandomVerticalFlip, RandomHorizontalFlip, Compose, ToTensor"
   ]
  },
  {
   "cell_type": "code",
   "execution_count": 2,
   "metadata": {
    "execution": {
     "iopub.execute_input": "2023-03-09T07:00:39.903056Z",
     "iopub.status.busy": "2023-03-09T07:00:39.902684Z",
     "iopub.status.idle": "2023-03-09T07:00:39.906272Z",
     "shell.execute_reply": "2023-03-09T07:00:39.905730Z",
     "shell.execute_reply.started": "2023-03-09T07:00:39.903036Z"
    }
   },
   "outputs": [],
   "source": [
    "batch_size = 100\n",
    "lr = 0.001\n",
    "device = \"cuda\" if torch.cuda.is_available() else \"cpu\""
   ]
  },
  {
   "cell_type": "code",
   "execution_count": 3,
   "metadata": {
    "execution": {
     "iopub.execute_input": "2023-03-09T07:00:39.907399Z",
     "iopub.status.busy": "2023-03-09T07:00:39.907137Z",
     "iopub.status.idle": "2023-03-09T07:00:39.935445Z",
     "shell.execute_reply": "2023-03-09T07:00:39.934974Z",
     "shell.execute_reply.started": "2023-03-09T07:00:39.907381Z"
    }
   },
   "outputs": [
    {
     "data": {
      "text/plain": [
       "(3800, 200, 38, 2)"
      ]
     },
     "execution_count": 3,
     "metadata": {},
     "output_type": "execute_result"
    }
   ],
   "source": [
    "train_set = MyDataset(root=\"data\", is_train=True, transform=Compose([\n",
    "    ToTensor(),\n",
    "    RandomHorizontalFlip(),\n",
    "    RandomVerticalFlip(),\n",
    "    RandomRotation([0, 90, 180, 270]),\n",
    "]), normalize=transforms.Normalize((0.485, 0.456, 0.406), (0.229, 0.224, 0.225)))\n",
    "\n",
    "val_set = MyDataset(root=\"data\", is_train=False, transform=Compose([ToTensor()]),\n",
    "                    normalize=transforms.Normalize((0.485, 0.456, 0.406), (0.229, 0.224, 0.225)))\n",
    "\n",
    "train_loader = DataLoader(\n",
    "    train_set,\n",
    "    batch_size=batch_size,\n",
    "    shuffle=True,\n",
    "    num_workers=0\n",
    ")\n",
    "\n",
    "val_loader = DataLoader(\n",
    "    val_set,\n",
    "    batch_size=batch_size,\n",
    "    shuffle=False,\n",
    "    num_workers=0\n",
    ")\n",
    "len(train_set), len(val_set), len(train_loader), len(val_loader)"
   ]
  },
  {
   "cell_type": "code",
   "execution_count": 4,
   "metadata": {
    "execution": {
     "iopub.execute_input": "2023-03-09T07:00:39.936237Z",
     "iopub.status.busy": "2023-03-09T07:00:39.936082Z",
     "iopub.status.idle": "2023-03-09T07:00:42.210068Z",
     "shell.execute_reply": "2023-03-09T07:00:42.209014Z",
     "shell.execute_reply.started": "2023-03-09T07:00:39.936222Z"
    }
   },
   "outputs": [],
   "source": [
    "model = SiamUnet_diff(3, 2)\n",
    "model.cuda()\n",
    "\n",
    "criterion = nn.CrossEntropyLoss()\n",
    "optim = torch.optim.AdamW(model.parameters(), lr=lr, weight_decay=1e-9)\n",
    "scheduler = torch.optim.lr_scheduler.ReduceLROnPlateau(\n",
    "    optim, mode='max', factor=0.1, patience=2,\n",
    "    verbose=True)\n",
    "scaler = torch.cuda.amp.GradScaler(enabled=True)"
   ]
  },
  {
   "cell_type": "code",
   "execution_count": 5,
   "metadata": {
    "execution": {
     "iopub.execute_input": "2023-03-09T07:00:42.211257Z",
     "iopub.status.busy": "2023-03-09T07:00:42.211082Z",
     "iopub.status.idle": "2023-03-09T07:00:42.217257Z",
     "shell.execute_reply": "2023-03-09T07:00:42.216428Z",
     "shell.execute_reply.started": "2023-03-09T07:00:42.211240Z"
    }
   },
   "outputs": [],
   "source": [
    "def train_model(epoch):\n",
    "    model.train()\n",
    "    print(f\"Epoch {epoch} Training\")\n",
    "    with tqdm(train_loader, desc=str(epoch)) as it:\n",
    "        for idx, (img1, img2, mask) in enumerate(it, 0):\n",
    "            img1, img2, mask = img1.cuda(), img2.cuda(), mask.cuda()\n",
    "            optim.zero_grad()\n",
    "            mask = mask.long()\n",
    "            with autocast():\n",
    "                outputs = model(img1, img2)\n",
    "                mask = mask.squeeze(1)\n",
    "                loss = criterion(outputs, mask)\n",
    "            scaler.scale(loss).backward()\n",
    "            scaler.step(optim)\n",
    "            scaler.update()\n",
    "            _, pred = torch.max(outputs.data, 1)\n",
    "            p, r, f1, iou = get_index(pred, mask)\n",
    "            it.set_postfix_str(f\"loss: {loss.item(): .4f} p: {p: .4f}  r: {r: .4f}  f1: {f1: .4f}  iou: {iou: .4f}\")"
   ]
  },
  {
   "cell_type": "code",
   "execution_count": 6,
   "metadata": {
    "execution": {
     "iopub.execute_input": "2023-03-09T07:00:42.218102Z",
     "iopub.status.busy": "2023-03-09T07:00:42.217942Z",
     "iopub.status.idle": "2023-03-09T07:00:42.223967Z",
     "shell.execute_reply": "2023-03-09T07:00:42.223503Z",
     "shell.execute_reply.started": "2023-03-09T07:00:42.218087Z"
    },
    "tags": []
   },
   "outputs": [],
   "source": [
    "def get_index(pred, label):\n",
    "    eps = 1e-7\n",
    "    tp = torch.sum(label * pred)\n",
    "    fp = torch.sum(pred) - tp\n",
    "    fn = torch.sum(label) - tp\n",
    "\n",
    "    p = (tp + eps) / (tp + fp + eps)\n",
    "    r = (tp + eps) / (tp + fn + eps)\n",
    "    f1 = (2 * p * r + eps) / (p + r + eps)\n",
    "    iou = (tp + eps) / (tp + fn + fp + eps)\n",
    "    return p, r, f1, iou\n",
    "\n",
    "\n",
    "def test_model(epoch):\n",
    "    model.eval()\n",
    "    global max_score\n",
    "    f1s = 0\n",
    "    print(f\"Epoch {epoch} Testing\")\n",
    "    with torch.no_grad():\n",
    "        with tqdm(val_loader, desc=str(epoch)) as it:\n",
    "            for img1, img2, mask in it:\n",
    "                img1, img2, mask = img1.cuda(), img2.cuda(), mask.cuda()\n",
    "                outputs = model(img1, img2)\n",
    "                _, pred = torch.max(outputs.data, 1)\n",
    "                mask = mask.squeeze(1)\n",
    "                p, r, f1, iou = get_index(pred, mask)\n",
    "                f1s += f1\n",
    "                it.set_postfix_str(f\"p: {p: .4f}  r: {r: .4f}  f1: {f1: .4f}  iou: {iou: .4f}\")\n",
    "    f1s /= len(val_loader)\n",
    "    scheduler.step(f1s)\n",
    "    print(\"f1\", f1s.item())\n",
    "    if max_score < f1s:\n",
    "        max_score = f1s\n",
    "        print('max_score', max_score.item())"
   ]
  },
  {
   "cell_type": "code",
   "execution_count": 7,
   "metadata": {
    "execution": {
     "iopub.execute_input": "2023-03-09T07:00:42.225718Z",
     "iopub.status.busy": "2023-03-09T07:00:42.225343Z",
     "iopub.status.idle": "2023-03-09T07:11:23.631747Z",
     "shell.execute_reply": "2023-03-09T07:11:23.630774Z",
     "shell.execute_reply.started": "2023-03-09T07:00:42.225701Z"
    },
    "tags": []
   },
   "outputs": [
    {
     "name": "stdout",
     "output_type": "stream",
     "text": [
      "Epoch 0 Training\n"
     ]
    },
    {
     "name": "stderr",
     "output_type": "stream",
     "text": [
      "0: 100%|██████████| 38/38 [01:23<00:00,  2.21s/it, loss:  0.5302 p:  0.6012  r:  0.2345  f1:  0.3374  iou:  0.2029]\n"
     ]
    },
    {
     "name": "stdout",
     "output_type": "stream",
     "text": [
      "Epoch 0 Testing\n"
     ]
    },
    {
     "name": "stderr",
     "output_type": "stream",
     "text": [
      "0: 100%|██████████| 2/2 [00:03<00:00,  1.55s/it, p:  0.5349  r:  0.4218  f1:  0.4716  iou:  0.3086]\n"
     ]
    },
    {
     "name": "stdout",
     "output_type": "stream",
     "text": [
      "f1 0.49367518315337927\n",
      "max_score 0.49367518315337927\n",
      "Epoch 1 Training\n"
     ]
    },
    {
     "name": "stderr",
     "output_type": "stream",
     "text": [
      "1: 100%|██████████| 38/38 [01:16<00:00,  2.03s/it, loss:  0.5076 p:  0.6351  r:  0.2903  f1:  0.3985  iou:  0.2488]\n"
     ]
    },
    {
     "name": "stdout",
     "output_type": "stream",
     "text": [
      "Epoch 1 Testing\n"
     ]
    },
    {
     "name": "stderr",
     "output_type": "stream",
     "text": [
      "1: 100%|██████████| 2/2 [00:02<00:00,  1.41s/it, p:  0.6482  r:  0.3557  f1:  0.4594  iou:  0.2982]\n"
     ]
    },
    {
     "name": "stdout",
     "output_type": "stream",
     "text": [
      "f1 0.4807392024009081\n",
      "Epoch 2 Training\n"
     ]
    },
    {
     "name": "stderr",
     "output_type": "stream",
     "text": [
      "2: 100%|██████████| 38/38 [01:10<00:00,  1.84s/it, loss:  0.4682 p:  0.5477  r:  0.4156  f1:  0.4726  iou:  0.3094]\n"
     ]
    },
    {
     "name": "stdout",
     "output_type": "stream",
     "text": [
      "Epoch 2 Testing\n"
     ]
    },
    {
     "name": "stderr",
     "output_type": "stream",
     "text": [
      "2: 100%|██████████| 2/2 [00:01<00:00,  1.36it/s, p:  0.6360  r:  0.4517  f1:  0.5282  iou:  0.3589]\n"
     ]
    },
    {
     "name": "stdout",
     "output_type": "stream",
     "text": [
      "f1 0.5531057646337669\n",
      "max_score 0.5531057646337669\n",
      "Epoch 3 Training\n"
     ]
    },
    {
     "name": "stderr",
     "output_type": "stream",
     "text": [
      "3: 100%|██████████| 38/38 [00:57<00:00,  1.52s/it, loss:  0.4652 p:  0.5961  r:  0.4232  f1:  0.4950  iou:  0.3289]\n"
     ]
    },
    {
     "name": "stdout",
     "output_type": "stream",
     "text": [
      "Epoch 3 Testing\n"
     ]
    },
    {
     "name": "stderr",
     "output_type": "stream",
     "text": [
      "3: 100%|██████████| 2/2 [00:01<00:00,  1.39it/s, p:  0.6868  r:  0.4087  f1:  0.5125  iou:  0.3445]\n"
     ]
    },
    {
     "name": "stdout",
     "output_type": "stream",
     "text": [
      "f1 0.5341498207081414\n",
      "Epoch 4 Training\n"
     ]
    },
    {
     "name": "stderr",
     "output_type": "stream",
     "text": [
      "4: 100%|██████████| 38/38 [00:55<00:00,  1.46s/it, loss:  0.4732 p:  0.6483  r:  0.4554  f1:  0.5350  iou:  0.3652]\n"
     ]
    },
    {
     "name": "stdout",
     "output_type": "stream",
     "text": [
      "Epoch 4 Testing\n"
     ]
    },
    {
     "name": "stderr",
     "output_type": "stream",
     "text": [
      "4: 100%|██████████| 2/2 [00:01<00:00,  1.40it/s, p:  0.6868  r:  0.4312  f1:  0.5298  iou:  0.3603]\n"
     ]
    },
    {
     "name": "stdout",
     "output_type": "stream",
     "text": [
      "f1 0.5484711960941804\n",
      "Epoch 5 Training\n"
     ]
    },
    {
     "name": "stderr",
     "output_type": "stream",
     "text": [
      "5: 100%|██████████| 38/38 [00:55<00:00,  1.46s/it, loss:  0.4570 p:  0.6166  r:  0.5194  f1:  0.5638  iou:  0.3926]\n"
     ]
    },
    {
     "name": "stdout",
     "output_type": "stream",
     "text": [
      "Epoch 5 Testing\n"
     ]
    },
    {
     "name": "stderr",
     "output_type": "stream",
     "text": [
      "5: 100%|██████████| 2/2 [00:01<00:00,  1.43it/s, p:  0.6866  r:  0.4868  f1:  0.5697  iou:  0.3983]\n"
     ]
    },
    {
     "name": "stdout",
     "output_type": "stream",
     "text": [
      "f1 0.5928806022057967\n",
      "max_score 0.5928806022057967\n",
      "Epoch 6 Training\n"
     ]
    },
    {
     "name": "stderr",
     "output_type": "stream",
     "text": [
      "6: 100%|██████████| 38/38 [00:55<00:00,  1.47s/it, loss:  0.4733 p:  0.7697  r:  0.4527  f1:  0.5701  iou:  0.3987]\n"
     ]
    },
    {
     "name": "stdout",
     "output_type": "stream",
     "text": [
      "Epoch 6 Testing\n"
     ]
    },
    {
     "name": "stderr",
     "output_type": "stream",
     "text": [
      "6: 100%|██████████| 2/2 [00:01<00:00,  1.40it/s, p:  0.7208  r:  0.4225  f1:  0.5328  iou:  0.3631]\n"
     ]
    },
    {
     "name": "stdout",
     "output_type": "stream",
     "text": [
      "f1 0.5580525248934891\n",
      "Epoch 7 Training\n"
     ]
    },
    {
     "name": "stderr",
     "output_type": "stream",
     "text": [
      "7: 100%|██████████| 38/38 [00:55<00:00,  1.47s/it, loss:  0.4686 p:  0.7007  r:  0.4593  f1:  0.5548  iou:  0.3839]\n"
     ]
    },
    {
     "name": "stdout",
     "output_type": "stream",
     "text": [
      "Epoch 7 Testing\n"
     ]
    },
    {
     "name": "stderr",
     "output_type": "stream",
     "text": [
      "7: 100%|██████████| 2/2 [00:01<00:00,  1.40it/s, p:  0.7264  r:  0.4070  f1:  0.5217  iou:  0.3529]\n"
     ]
    },
    {
     "name": "stdout",
     "output_type": "stream",
     "text": [
      "f1 0.5465619500283122\n",
      "Epoch 8 Training\n"
     ]
    },
    {
     "name": "stderr",
     "output_type": "stream",
     "text": [
      "8: 100%|██████████| 38/38 [00:55<00:00,  1.47s/it, loss:  0.4619 p:  0.7282  r:  0.5309  f1:  0.6141  iou:  0.4431]\n"
     ]
    },
    {
     "name": "stdout",
     "output_type": "stream",
     "text": [
      "Epoch 8 Testing\n"
     ]
    },
    {
     "name": "stderr",
     "output_type": "stream",
     "text": [
      "8: 100%|██████████| 2/2 [00:01<00:00,  1.40it/s, p:  0.7590  r:  0.4060  f1:  0.5291  iou:  0.3597]\n"
     ]
    },
    {
     "name": "stdout",
     "output_type": "stream",
     "text": [
      "Epoch     9: reducing learning rate of group 0 to 1.0000e-04.\n",
      "f1 0.5497141915179241\n",
      "Epoch 9 Training\n"
     ]
    },
    {
     "name": "stderr",
     "output_type": "stream",
     "text": [
      "9: 100%|██████████| 38/38 [00:56<00:00,  1.49s/it, loss:  0.4715 p:  0.6740  r:  0.4884  f1:  0.5663  iou:  0.3950]\n"
     ]
    },
    {
     "name": "stdout",
     "output_type": "stream",
     "text": [
      "Epoch 9 Testing\n"
     ]
    },
    {
     "name": "stderr",
     "output_type": "stream",
     "text": [
      "9: 100%|██████████| 2/2 [00:01<00:00,  1.41it/s, p:  0.7430  r:  0.4710  f1:  0.5765  iou:  0.4050]"
     ]
    },
    {
     "name": "stdout",
     "output_type": "stream",
     "text": [
      "f1 0.5932719428910385\n",
      "max_score 0.5932719428910385\n",
      "completed!\n",
      "max_score 0.5932719428910385\n"
     ]
    },
    {
     "name": "stderr",
     "output_type": "stream",
     "text": [
      "\n"
     ]
    }
   ],
   "source": [
    "num_epoch = 10\n",
    "max_score = 0\n",
    "for epoch in range(0, num_epoch):\n",
    "    train_model(epoch=epoch)\n",
    "    test_model(epoch=epoch)\n",
    "print(\"completed!\")\n",
    "print('max_score', max_score.item())"
   ]
  },
  {
   "cell_type": "code",
   "execution_count": null,
   "metadata": {
    "tags": []
   },
   "outputs": [],
   "source": []
  },
  {
   "cell_type": "code",
   "execution_count": null,
   "metadata": {},
   "outputs": [],
   "source": []
  },
  {
   "cell_type": "code",
   "execution_count": null,
   "metadata": {},
   "outputs": [],
   "source": []
  }
 ],
 "metadata": {
  "kernelspec": {
   "display_name": "Python 3 (ipykernel)",
   "language": "python",
   "name": "python3"
  },
  "language_info": {
   "codemirror_mode": {
    "name": "ipython",
    "version": 3
   },
   "file_extension": ".py",
   "mimetype": "text/x-python",
   "name": "python",
   "nbconvert_exporter": "python",
   "pygments_lexer": "ipython3",
   "version": "3.8.13"
  }
 },
 "nbformat": 4,
 "nbformat_minor": 4
}
