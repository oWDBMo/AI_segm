{
 "cells": [
  {
   "cell_type": "code",
   "execution_count": 1,
   "metadata": {
    "execution": {
     "iopub.execute_input": "2023-03-05T02:40:47.707338Z",
     "iopub.status.busy": "2023-03-05T02:40:47.706656Z",
     "iopub.status.idle": "2023-03-05T02:40:49.228720Z",
     "shell.execute_reply": "2023-03-05T02:40:49.227678Z",
     "shell.execute_reply.started": "2023-03-05T02:40:47.707251Z"
    }
   },
   "outputs": [
    {
     "name": "stdout",
     "output_type": "stream",
     "text": [
      "Looking in indexes: https://pypi.tuna.tsinghua.edu.cn/simple\n",
      "Requirement already satisfied: segmentation_models_pytorch in /usr/local/lib/python3.8/site-packages (0.3.2)\n",
      "Requirement already satisfied: tqdm in /usr/local/lib/python3.8/site-packages (from segmentation_models_pytorch) (4.64.1)\n",
      "Requirement already satisfied: timm==0.6.12 in /usr/local/lib/python3.8/site-packages (from segmentation_models_pytorch) (0.6.12)\n",
      "Requirement already satisfied: pillow in /usr/local/lib/python3.8/site-packages (from segmentation_models_pytorch) (9.2.0)\n",
      "Requirement already satisfied: efficientnet-pytorch==0.7.1 in /usr/local/lib/python3.8/site-packages (from segmentation_models_pytorch) (0.7.1)\n",
      "Requirement already satisfied: torchvision>=0.5.0 in /usr/local/lib/python3.8/site-packages (from segmentation_models_pytorch) (0.9.2+cu111)\n",
      "Requirement already satisfied: pretrainedmodels==0.7.4 in /usr/local/lib/python3.8/site-packages (from segmentation_models_pytorch) (0.7.4)\n",
      "Requirement already satisfied: torch in /usr/local/lib/python3.8/site-packages (from efficientnet-pytorch==0.7.1->segmentation_models_pytorch) (1.8.2+cu111)\n",
      "Requirement already satisfied: munch in /usr/local/lib/python3.8/site-packages (from pretrainedmodels==0.7.4->segmentation_models_pytorch) (2.5.0)\n",
      "Requirement already satisfied: pyyaml in /usr/local/lib/python3.8/site-packages (from timm==0.6.12->segmentation_models_pytorch) (6.0)\n",
      "Requirement already satisfied: huggingface-hub in /usr/local/lib/python3.8/site-packages (from timm==0.6.12->segmentation_models_pytorch) (0.12.1)\n",
      "Requirement already satisfied: numpy in /usr/local/lib/python3.8/site-packages (from torchvision>=0.5.0->segmentation_models_pytorch) (1.23.4)\n",
      "Requirement already satisfied: typing-extensions in /usr/local/lib/python3.8/site-packages (from torch->efficientnet-pytorch==0.7.1->segmentation_models_pytorch) (4.4.0)\n",
      "Requirement already satisfied: requests in /usr/local/lib/python3.8/site-packages (from huggingface-hub->timm==0.6.12->segmentation_models_pytorch) (2.28.1)\n",
      "Requirement already satisfied: filelock in /usr/local/lib/python3.8/site-packages (from huggingface-hub->timm==0.6.12->segmentation_models_pytorch) (3.9.0)\n",
      "Requirement already satisfied: packaging>=20.9 in /usr/local/lib/python3.8/site-packages (from huggingface-hub->timm==0.6.12->segmentation_models_pytorch) (21.3)\n",
      "Requirement already satisfied: six in /usr/local/lib/python3.8/site-packages (from munch->pretrainedmodels==0.7.4->segmentation_models_pytorch) (1.16.0)\n",
      "Requirement already satisfied: pyparsing!=3.0.5,>=2.0.2 in /usr/local/lib/python3.8/site-packages (from packaging>=20.9->huggingface-hub->timm==0.6.12->segmentation_models_pytorch) (3.0.9)\n",
      "Requirement already satisfied: idna<4,>=2.5 in /usr/local/lib/python3.8/site-packages (from requests->huggingface-hub->timm==0.6.12->segmentation_models_pytorch) (3.3)\n",
      "Requirement already satisfied: certifi>=2017.4.17 in /usr/local/lib/python3.8/site-packages (from requests->huggingface-hub->timm==0.6.12->segmentation_models_pytorch) (2022.6.15)\n",
      "Requirement already satisfied: urllib3<1.27,>=1.21.1 in /usr/local/lib/python3.8/site-packages (from requests->huggingface-hub->timm==0.6.12->segmentation_models_pytorch) (1.26.11)\n",
      "Requirement already satisfied: charset-normalizer<3,>=2 in /usr/local/lib/python3.8/site-packages (from requests->huggingface-hub->timm==0.6.12->segmentation_models_pytorch) (2.0.4)\n",
      "\u001b[33mWARNING: Running pip as the 'root' user can result in broken permissions and conflicting behaviour with the system package manager. It is recommended to use a virtual environment instead: https://pip.pypa.io/warnings/venv\u001b[0m\u001b[33m\n",
      "\u001b[0m"
     ]
    }
   ],
   "source": [
    "!pip install segmentation_models_pytorch"
   ]
  },
  {
   "cell_type": "code",
   "execution_count": 2,
   "metadata": {
    "collapsed": false,
    "execution": {
     "iopub.execute_input": "2023-03-05T02:40:49.231203Z",
     "iopub.status.busy": "2023-03-05T02:40:49.231007Z",
     "iopub.status.idle": "2023-03-05T02:40:51.568037Z",
     "shell.execute_reply": "2023-03-05T02:40:51.567420Z",
     "shell.execute_reply.started": "2023-03-05T02:40:49.231183Z"
    },
    "jupyter": {
     "outputs_hidden": false
    }
   },
   "outputs": [],
   "source": [
    "import torch.nn as nn\n",
    "from torchvision import transforms\n",
    "from torch.utils.data import DataLoader\n",
    "import torch\n",
    "from mydataset import MyDataset\n",
    "from tqdm import tqdm\n",
    "from torch.cuda.amp import autocast\n",
    "from data_augmentation import RandomRotation, RandomVerticalFlip, RandomHorizontalFlip, Compose, ToTensor\n",
    "import segmentation_models_pytorch as smp"
   ]
  },
  {
   "cell_type": "code",
   "execution_count": 3,
   "metadata": {
    "execution": {
     "iopub.execute_input": "2023-03-05T02:40:51.569009Z",
     "iopub.status.busy": "2023-03-05T02:40:51.568789Z",
     "iopub.status.idle": "2023-03-05T02:40:51.572232Z",
     "shell.execute_reply": "2023-03-05T02:40:51.571848Z",
     "shell.execute_reply.started": "2023-03-05T02:40:51.568992Z"
    }
   },
   "outputs": [],
   "source": [
    "batch_size = 100\n",
    "lr = 0.0001\n",
    "device = \"cuda\" if torch.cuda.is_available() else \"cpu\""
   ]
  },
  {
   "cell_type": "code",
   "execution_count": 4,
   "metadata": {
    "execution": {
     "iopub.execute_input": "2023-03-05T02:40:51.572923Z",
     "iopub.status.busy": "2023-03-05T02:40:51.572771Z",
     "iopub.status.idle": "2023-03-05T02:40:51.600000Z",
     "shell.execute_reply": "2023-03-05T02:40:51.599629Z",
     "shell.execute_reply.started": "2023-03-05T02:40:51.572908Z"
    }
   },
   "outputs": [
    {
     "data": {
      "text/plain": [
       "(3800, 200, 38, 2)"
      ]
     },
     "execution_count": 4,
     "metadata": {},
     "output_type": "execute_result"
    }
   ],
   "source": [
    "train_set = MyDataset(root=\"data\", is_train=True, transform=Compose([\n",
    "    ToTensor(),\n",
    "    RandomHorizontalFlip(),\n",
    "    RandomVerticalFlip(),\n",
    "    RandomRotation([0, 90, 180, 270]),\n",
    "]), normalize=transforms.Normalize((0.485, 0.456, 0.406), (0.229, 0.224, 0.225)))\n",
    "\n",
    "val_set = MyDataset(root=\"data\", is_train=False, transform=Compose([ToTensor()]),\n",
    "                    normalize=transforms.Normalize((0.485, 0.456, 0.406), (0.229, 0.224, 0.225)))\n",
    "\n",
    "train_loader = DataLoader(\n",
    "    train_set,\n",
    "    batch_size=batch_size,\n",
    "    shuffle=True,\n",
    "    num_workers=0\n",
    ")\n",
    "\n",
    "val_loader = DataLoader(\n",
    "    val_set,\n",
    "    batch_size=batch_size,\n",
    "    shuffle=False,\n",
    "    num_workers=0\n",
    ")\n",
    "len(train_set), len(val_set), len(train_loader), len(val_loader)"
   ]
  },
  {
   "cell_type": "code",
   "execution_count": 5,
   "metadata": {
    "execution": {
     "iopub.execute_input": "2023-03-05T02:40:51.600685Z",
     "iopub.status.busy": "2023-03-05T02:40:51.600520Z",
     "iopub.status.idle": "2023-03-05T02:40:55.167453Z",
     "shell.execute_reply": "2023-03-05T02:40:55.166489Z",
     "shell.execute_reply.started": "2023-03-05T02:40:51.600671Z"
    }
   },
   "outputs": [],
   "source": [
    "model = smp.DeepLabV3Plus(\n",
    "    in_channels=6,\n",
    "    classes=2,\n",
    ")\n",
    "model.cuda()\n",
    "\n",
    "criterion = nn.CrossEntropyLoss()\n",
    "optim = torch.optim.AdamW(model.parameters(), lr=lr, weight_decay=1e-9)\n",
    "scheduler = torch.optim.lr_scheduler.ReduceLROnPlateau(\n",
    "    optim, mode='max', factor=0.1, patience=2,\n",
    "    verbose=True)\n",
    "scaler = torch.cuda.amp.GradScaler(enabled=True)"
   ]
  },
  {
   "cell_type": "code",
   "execution_count": 6,
   "metadata": {
    "execution": {
     "iopub.execute_input": "2023-03-05T02:40:55.168745Z",
     "iopub.status.busy": "2023-03-05T02:40:55.168418Z",
     "iopub.status.idle": "2023-03-05T02:40:55.174141Z",
     "shell.execute_reply": "2023-03-05T02:40:55.173527Z",
     "shell.execute_reply.started": "2023-03-05T02:40:55.168728Z"
    }
   },
   "outputs": [],
   "source": [
    "def train_model(epoch):\n",
    "    model.train()\n",
    "    print(f\"Epoch {epoch} Training\")\n",
    "    with tqdm(train_loader, desc=str(epoch)) as it:\n",
    "        for idx, (img1, img2, mask) in enumerate(it, 0):\n",
    "            img1, img2, mask = img1.cuda(), img2.cuda(), mask.cuda()\n",
    "            optim.zero_grad()\n",
    "            mask = mask.long()\n",
    "            with autocast():\n",
    "                img = torch.cat((img1, img2), 1)\n",
    "                outputs = model(img)\n",
    "                mask = mask.squeeze(1)\n",
    "                loss = criterion(outputs, mask)\n",
    "            scaler.scale(loss).backward()\n",
    "            scaler.step(optim)\n",
    "            scaler.update()\n",
    "            _, pred = torch.max(outputs.data, 1)\n",
    "            p, r, f1, iou = get_index(pred, mask)\n",
    "            it.set_postfix_str(f\"loss: {loss.item(): .4f} p: {p: .4f}  r: {r: .4f}  f1: {f1: .4f}  iou: {iou: .4f}\")"
   ]
  },
  {
   "cell_type": "code",
   "execution_count": 7,
   "metadata": {
    "execution": {
     "iopub.execute_input": "2023-03-05T02:40:55.175695Z",
     "iopub.status.busy": "2023-03-05T02:40:55.175499Z",
     "iopub.status.idle": "2023-03-05T02:40:55.182270Z",
     "shell.execute_reply": "2023-03-05T02:40:55.181541Z",
     "shell.execute_reply.started": "2023-03-05T02:40:55.175679Z"
    },
    "tags": []
   },
   "outputs": [],
   "source": [
    "def get_index(pred, label):\n",
    "    eps = 1e-7\n",
    "    tp = torch.sum(label * pred)\n",
    "    fp = torch.sum(pred) - tp\n",
    "    fn = torch.sum(label) - tp\n",
    "\n",
    "    p = (tp + eps) / (tp + fp + eps)\n",
    "    r = (tp + eps) / (tp + fn + eps)\n",
    "    f1 = (2 * p * r + eps) / (p + r + eps)\n",
    "    iou = (tp + eps) / (tp + fn + fp + eps)\n",
    "    return p, r, f1, iou\n",
    "\n",
    "\n",
    "def test_model(epoch):\n",
    "    model.eval()\n",
    "    global max_score\n",
    "    f1s = 0\n",
    "    print(f\"Epoch {epoch} Testing\")\n",
    "    with torch.no_grad():\n",
    "        with tqdm(val_loader, desc=str(epoch)) as it:\n",
    "            for img1, img2, mask in it:\n",
    "                img1, img2, mask = img1.cuda(), img2.cuda(), mask.cuda()\n",
    "                img = torch.cat((img1, img2), 1)\n",
    "                outputs = model(img)\n",
    "                _, pred = torch.max(outputs.data, 1)\n",
    "                mask = mask.squeeze(1)\n",
    "                p, r, f1, iou = get_index(pred, mask)\n",
    "                f1s += f1\n",
    "                it.set_postfix_str(f\"p: {p: .4f}  r: {r: .4f}  f1: {f1: .4f}  iou: {iou: .4f}\")\n",
    "    f1s /= len(val_loader)\n",
    "    scheduler.step(f1s)\n",
    "    print(\"f1\", f1s.item())\n",
    "    if max_score < f1s:\n",
    "        max_score = f1s\n",
    "        print('max_score', max_score.item())"
   ]
  },
  {
   "cell_type": "code",
   "execution_count": 8,
   "metadata": {
    "execution": {
     "iopub.execute_input": "2023-03-05T02:40:55.183018Z",
     "iopub.status.busy": "2023-03-05T02:40:55.182864Z",
     "iopub.status.idle": "2023-03-05T02:49:52.121939Z",
     "shell.execute_reply": "2023-03-05T02:49:52.121334Z",
     "shell.execute_reply.started": "2023-03-05T02:40:55.183004Z"
    },
    "tags": []
   },
   "outputs": [
    {
     "name": "stdout",
     "output_type": "stream",
     "text": [
      "Epoch 0 Training\n"
     ]
    },
    {
     "name": "stderr",
     "output_type": "stream",
     "text": [
      "0: 100%|██████████| 38/38 [00:54<00:00,  1.42s/it, loss:  0.3405 p:  0.7891  r:  0.6364  f1:  0.7046  iou:  0.5439]\n"
     ]
    },
    {
     "name": "stdout",
     "output_type": "stream",
     "text": [
      "Epoch 0 Testing\n"
     ]
    },
    {
     "name": "stderr",
     "output_type": "stream",
     "text": [
      "0: 100%|██████████| 2/2 [00:01<00:00,  1.58it/s, p:  0.7208  r:  0.7300  f1:  0.7254  iou:  0.5691]\n"
     ]
    },
    {
     "name": "stdout",
     "output_type": "stream",
     "text": [
      "f1 0.7401304693405258\n",
      "max_score 0.7401304693405258\n",
      "Epoch 1 Training\n"
     ]
    },
    {
     "name": "stderr",
     "output_type": "stream",
     "text": [
      "1: 100%|██████████| 38/38 [00:52<00:00,  1.39s/it, loss:  0.2387 p:  0.7989  r:  0.7677  f1:  0.7830  iou:  0.6434]\n"
     ]
    },
    {
     "name": "stdout",
     "output_type": "stream",
     "text": [
      "Epoch 1 Testing\n"
     ]
    },
    {
     "name": "stderr",
     "output_type": "stream",
     "text": [
      "1: 100%|██████████| 2/2 [00:01<00:00,  1.61it/s, p:  0.7701  r:  0.8025  f1:  0.7860  iou:  0.6475]\n"
     ]
    },
    {
     "name": "stdout",
     "output_type": "stream",
     "text": [
      "f1 0.7888204692912203\n",
      "max_score 0.7888204692912203\n",
      "Epoch 2 Training\n"
     ]
    },
    {
     "name": "stderr",
     "output_type": "stream",
     "text": [
      "2: 100%|██████████| 38/38 [00:52<00:00,  1.39s/it, loss:  0.1745 p:  0.9323  r:  0.7903  f1:  0.8554  iou:  0.7474]\n"
     ]
    },
    {
     "name": "stdout",
     "output_type": "stream",
     "text": [
      "Epoch 2 Testing\n"
     ]
    },
    {
     "name": "stderr",
     "output_type": "stream",
     "text": [
      "2: 100%|██████████| 2/2 [00:01<00:00,  1.65it/s, p:  0.8472  r:  0.8044  f1:  0.8252  iou:  0.7024]\n"
     ]
    },
    {
     "name": "stdout",
     "output_type": "stream",
     "text": [
      "f1 0.8169167012441326\n",
      "max_score 0.8169167012441326\n",
      "Epoch 3 Training\n"
     ]
    },
    {
     "name": "stderr",
     "output_type": "stream",
     "text": [
      "3: 100%|██████████| 38/38 [00:51<00:00,  1.37s/it, loss:  0.1813 p:  0.8516  r:  0.7573  f1:  0.8017  iou:  0.6690]\n"
     ]
    },
    {
     "name": "stdout",
     "output_type": "stream",
     "text": [
      "Epoch 3 Testing\n"
     ]
    },
    {
     "name": "stderr",
     "output_type": "stream",
     "text": [
      "3: 100%|██████████| 2/2 [00:01<00:00,  1.68it/s, p:  0.9017  r:  0.6616  f1:  0.7632  iou:  0.6171]\n"
     ]
    },
    {
     "name": "stdout",
     "output_type": "stream",
     "text": [
      "f1 0.7809136754393328\n",
      "Epoch 4 Training\n"
     ]
    },
    {
     "name": "stderr",
     "output_type": "stream",
     "text": [
      "4: 100%|██████████| 38/38 [00:52<00:00,  1.38s/it, loss:  0.1556 p:  0.8225  r:  0.8546  f1:  0.8382  iou:  0.7215]\n"
     ]
    },
    {
     "name": "stdout",
     "output_type": "stream",
     "text": [
      "Epoch 4 Testing\n"
     ]
    },
    {
     "name": "stderr",
     "output_type": "stream",
     "text": [
      "4: 100%|██████████| 2/2 [00:01<00:00,  1.63it/s, p:  0.8219  r:  0.8641  f1:  0.8425  iou:  0.7278]\n"
     ]
    },
    {
     "name": "stdout",
     "output_type": "stream",
     "text": [
      "f1 0.8477794538895933\n",
      "max_score 0.8477794538895933\n",
      "Epoch 5 Training\n"
     ]
    },
    {
     "name": "stderr",
     "output_type": "stream",
     "text": [
      "5: 100%|██████████| 38/38 [00:52<00:00,  1.38s/it, loss:  0.1595 p:  0.8480  r:  0.8549  f1:  0.8514  iou:  0.7413]\n"
     ]
    },
    {
     "name": "stdout",
     "output_type": "stream",
     "text": [
      "Epoch 5 Testing\n"
     ]
    },
    {
     "name": "stderr",
     "output_type": "stream",
     "text": [
      "5: 100%|██████████| 2/2 [00:01<00:00,  1.65it/s, p:  0.8918  r:  0.8117  f1:  0.8499  iou:  0.7389]\n"
     ]
    },
    {
     "name": "stdout",
     "output_type": "stream",
     "text": [
      "f1 0.8493995761297944\n",
      "max_score 0.8493995761297944\n",
      "Epoch 6 Training\n"
     ]
    },
    {
     "name": "stderr",
     "output_type": "stream",
     "text": [
      "6: 100%|██████████| 38/38 [00:52<00:00,  1.37s/it, loss:  0.1319 p:  0.9416  r:  0.8310  f1:  0.8828  iou:  0.7902]\n"
     ]
    },
    {
     "name": "stdout",
     "output_type": "stream",
     "text": [
      "Epoch 6 Testing\n"
     ]
    },
    {
     "name": "stderr",
     "output_type": "stream",
     "text": [
      "6: 100%|██████████| 2/2 [00:01<00:00,  1.68it/s, p:  0.8794  r:  0.8448  f1:  0.8618  iou:  0.7571]\n"
     ]
    },
    {
     "name": "stdout",
     "output_type": "stream",
     "text": [
      "f1 0.8633839252394847\n",
      "max_score 0.8633839252394847\n",
      "Epoch 7 Training\n"
     ]
    },
    {
     "name": "stderr",
     "output_type": "stream",
     "text": [
      "7: 100%|██████████| 38/38 [00:51<00:00,  1.37s/it, loss:  0.1099 p:  0.9112  r:  0.8833  f1:  0.8971  iou:  0.8133]\n"
     ]
    },
    {
     "name": "stdout",
     "output_type": "stream",
     "text": [
      "Epoch 7 Testing\n"
     ]
    },
    {
     "name": "stderr",
     "output_type": "stream",
     "text": [
      "7: 100%|██████████| 2/2 [00:01<00:00,  1.62it/s, p:  0.8541  r:  0.8755  f1:  0.8647  iou:  0.7616]\n"
     ]
    },
    {
     "name": "stdout",
     "output_type": "stream",
     "text": [
      "f1 0.8726089538088144\n",
      "max_score 0.8726089538088144\n",
      "Epoch 8 Training\n"
     ]
    },
    {
     "name": "stderr",
     "output_type": "stream",
     "text": [
      "8: 100%|██████████| 38/38 [00:52<00:00,  1.37s/it, loss:  0.1207 p:  0.9100  r:  0.8683  f1:  0.8887  iou:  0.7997]\n"
     ]
    },
    {
     "name": "stdout",
     "output_type": "stream",
     "text": [
      "Epoch 8 Testing\n"
     ]
    },
    {
     "name": "stderr",
     "output_type": "stream",
     "text": [
      "8: 100%|██████████| 2/2 [00:01<00:00,  1.62it/s, p:  0.9032  r:  0.8314  f1:  0.8658  iou:  0.7634]\n"
     ]
    },
    {
     "name": "stdout",
     "output_type": "stream",
     "text": [
      "f1 0.8690778099449108\n",
      "Epoch 9 Training\n"
     ]
    },
    {
     "name": "stderr",
     "output_type": "stream",
     "text": [
      "9: 100%|██████████| 38/38 [00:52<00:00,  1.37s/it, loss:  0.1127 p:  0.9009  r:  0.8916  f1:  0.8962  iou:  0.8120]\n"
     ]
    },
    {
     "name": "stdout",
     "output_type": "stream",
     "text": [
      "Epoch 9 Testing\n"
     ]
    },
    {
     "name": "stderr",
     "output_type": "stream",
     "text": [
      "9: 100%|██████████| 2/2 [00:01<00:00,  1.66it/s, p:  0.8970  r:  0.8544  f1:  0.8752  iou:  0.7781]"
     ]
    },
    {
     "name": "stdout",
     "output_type": "stream",
     "text": [
      "f1 0.8785498139132544\n",
      "max_score 0.8785498139132544\n",
      "completed!\n",
      "max_score 0.8785498139132544\n"
     ]
    },
    {
     "name": "stderr",
     "output_type": "stream",
     "text": [
      "\n"
     ]
    }
   ],
   "source": [
    "num_epoch = 10\n",
    "max_score = 0\n",
    "for epoch in range(0, num_epoch):\n",
    "    train_model(epoch=epoch)\n",
    "    test_model(epoch=epoch)\n",
    "print(\"completed!\")\n",
    "print('max_score', max_score.item())"
   ]
  },
  {
   "cell_type": "code",
   "execution_count": null,
   "metadata": {
    "tags": []
   },
   "outputs": [],
   "source": []
  },
  {
   "cell_type": "code",
   "execution_count": null,
   "metadata": {},
   "outputs": [],
   "source": []
  },
  {
   "cell_type": "code",
   "execution_count": null,
   "metadata": {},
   "outputs": [],
   "source": []
  }
 ],
 "metadata": {
  "kernelspec": {
   "display_name": "Python 3 (ipykernel)",
   "language": "python",
   "name": "python3"
  },
  "language_info": {
   "codemirror_mode": {
    "name": "ipython",
    "version": 3
   },
   "file_extension": ".py",
   "mimetype": "text/x-python",
   "name": "python",
   "nbconvert_exporter": "python",
   "pygments_lexer": "ipython3",
   "version": "3.8.13"
  }
 },
 "nbformat": 4,
 "nbformat_minor": 4
}
