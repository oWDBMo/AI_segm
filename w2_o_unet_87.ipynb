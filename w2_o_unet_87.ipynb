{
 "cells": [
  {
   "cell_type": "code",
   "execution_count": 1,
   "metadata": {
    "execution": {
     "iopub.execute_input": "2023-03-03T13:24:17.392033Z",
     "iopub.status.busy": "2023-03-03T13:24:17.391462Z",
     "iopub.status.idle": "2023-03-03T13:24:19.717577Z",
     "shell.execute_reply": "2023-03-03T13:24:19.716967Z",
     "shell.execute_reply.started": "2023-03-03T13:24:17.391951Z"
    }
   },
   "outputs": [],
   "source": [
    "import torch.nn as nn\n",
    "from torchvision import transforms\n",
    "from torch.utils.data import DataLoader\n",
    "import torch\n",
    "from mydataset import MyDataset\n",
    "from tqdm import tqdm\n",
    "from torch.cuda.amp import autocast\n",
    "from data_augmentation import RandomRotation, RandomVerticalFlip, RandomHorizontalFlip, Compose, ToTensor\n",
    "import segmentation_models_pytorch as smp"
   ]
  },
  {
   "cell_type": "code",
   "execution_count": 2,
   "metadata": {
    "execution": {
     "iopub.execute_input": "2023-03-03T13:24:19.719139Z",
     "iopub.status.busy": "2023-03-03T13:24:19.718915Z",
     "iopub.status.idle": "2023-03-03T13:24:19.721941Z",
     "shell.execute_reply": "2023-03-03T13:24:19.721536Z",
     "shell.execute_reply.started": "2023-03-03T13:24:19.719123Z"
    }
   },
   "outputs": [],
   "source": [
    "batch_size = 100\n",
    "lr = 0.0001\n",
    "device = \"cuda\" if torch.cuda.is_available() else \"cpu\""
   ]
  },
  {
   "cell_type": "code",
   "execution_count": 3,
   "metadata": {
    "execution": {
     "iopub.execute_input": "2023-03-03T13:24:19.722649Z",
     "iopub.status.busy": "2023-03-03T13:24:19.722498Z",
     "iopub.status.idle": "2023-03-03T13:24:19.743096Z",
     "shell.execute_reply": "2023-03-03T13:24:19.742689Z",
     "shell.execute_reply.started": "2023-03-03T13:24:19.722634Z"
    }
   },
   "outputs": [
    {
     "data": {
      "text/plain": [
       "(3800, 200, 38, 2)"
      ]
     },
     "execution_count": 3,
     "metadata": {},
     "output_type": "execute_result"
    }
   ],
   "source": [
    "train_set = MyDataset(root=\"data\", is_train=True, transform=Compose([\n",
    "    ToTensor(),\n",
    "    RandomHorizontalFlip(),\n",
    "    RandomVerticalFlip(),\n",
    "    RandomRotation([0, 90, 180, 270]),\n",
    "]), normalize=transforms.Normalize((0.485, 0.456, 0.406), (0.229, 0.224, 0.225)))\n",
    "\n",
    "val_set = MyDataset(root=\"data\", is_train=False, transform=Compose([ToTensor()]),\n",
    "                    normalize=transforms.Normalize((0.485, 0.456, 0.406), (0.229, 0.224, 0.225)))\n",
    "\n",
    "train_loader = DataLoader(\n",
    "    train_set,\n",
    "    batch_size=batch_size,\n",
    "    shuffle=True,\n",
    "    num_workers=0\n",
    ")\n",
    "\n",
    "val_loader = DataLoader(\n",
    "    val_set,\n",
    "    batch_size=batch_size,\n",
    "    shuffle=False,\n",
    "    num_workers=0\n",
    ")\n",
    "len(train_set), len(val_set), len(train_loader), len(val_loader)"
   ]
  },
  {
   "cell_type": "code",
   "execution_count": 4,
   "metadata": {
    "execution": {
     "iopub.execute_input": "2023-03-03T13:24:19.743841Z",
     "iopub.status.busy": "2023-03-03T13:24:19.743688Z",
     "iopub.status.idle": "2023-03-03T13:25:20.010067Z",
     "shell.execute_reply": "2023-03-03T13:25:20.009211Z",
     "shell.execute_reply.started": "2023-03-03T13:24:19.743826Z"
    }
   },
   "outputs": [
    {
     "name": "stderr",
     "output_type": "stream",
     "text": [
      "Downloading: \"https://download.pytorch.org/models/resnet34-333f7ec4.pth\" to /output/.torch/hub/checkpoints/resnet34-333f7ec4.pth\n"
     ]
    },
    {
     "data": {
      "application/vnd.jupyter.widget-view+json": {
       "model_id": "5ca297e3a5344112950236cd1de03974",
       "version_major": 2,
       "version_minor": 0
      },
      "text/plain": [
       "  0%|          | 0.00/83.3M [00:00<?, ?B/s]"
      ]
     },
     "metadata": {},
     "output_type": "display_data"
    }
   ],
   "source": [
    "model = smp.Unet(\n",
    "    encoder_name=\"resnet34\",\n",
    "    encoder_weights=\"imagenet\",\n",
    "    in_channels=6,\n",
    "    classes=2,\n",
    ")\n",
    "model.cuda()\n",
    "\n",
    "criterion = nn.CrossEntropyLoss()\n",
    "optim = torch.optim.AdamW(model.parameters(), lr=lr, weight_decay=1e-9)\n",
    "scheduler = torch.optim.lr_scheduler.ReduceLROnPlateau(\n",
    "    optim, mode='max', factor=0.1, patience=2,\n",
    "    verbose=True)\n",
    "scaler = torch.cuda.amp.GradScaler(enabled=True)"
   ]
  },
  {
   "cell_type": "code",
   "execution_count": 5,
   "metadata": {
    "execution": {
     "iopub.execute_input": "2023-03-03T13:25:20.011245Z",
     "iopub.status.busy": "2023-03-03T13:25:20.011055Z",
     "iopub.status.idle": "2023-03-03T13:25:20.016906Z",
     "shell.execute_reply": "2023-03-03T13:25:20.016496Z",
     "shell.execute_reply.started": "2023-03-03T13:25:20.011228Z"
    }
   },
   "outputs": [],
   "source": [
    "def train_model(epoch):\n",
    "    model.train()\n",
    "    print(f\"Epoch {epoch} Training\")\n",
    "    with tqdm(train_loader, desc=str(epoch)) as it:\n",
    "        for idx, (img1, img2, mask) in enumerate(it, 0):\n",
    "            img1, img2, mask = img1.cuda(), img2.cuda(), mask.cuda()\n",
    "            optim.zero_grad()\n",
    "            mask = mask.long()\n",
    "            with autocast():\n",
    "                img = torch.cat((img1, img2), 1)\n",
    "                outputs = model(img)\n",
    "                mask = mask.squeeze(1)\n",
    "                loss = criterion(outputs, mask)\n",
    "            # loss.backward()\n",
    "            # optim.step()\n",
    "            scaler.scale(loss).backward()\n",
    "            scaler.step(optim)\n",
    "            scaler.update()\n",
    "            #print(outputs.data.shape)\n",
    "            _, pred = torch.max(outputs.data, 1)\n",
    "            #print(pred.shape)\n",
    "            p, r, f1, iou = get_index(pred, mask)\n",
    "            it.set_postfix_str(f\"loss: {loss.item(): .4f} p: {p: .4f}  r: {r: .4f}  f1: {f1: .4f}  iou: {iou: .4f}\")"
   ]
  },
  {
   "cell_type": "code",
   "execution_count": 6,
   "metadata": {
    "execution": {
     "iopub.execute_input": "2023-03-03T13:25:20.017816Z",
     "iopub.status.busy": "2023-03-03T13:25:20.017477Z",
     "iopub.status.idle": "2023-03-03T13:25:20.023614Z",
     "shell.execute_reply": "2023-03-03T13:25:20.023175Z",
     "shell.execute_reply.started": "2023-03-03T13:25:20.017801Z"
    },
    "tags": []
   },
   "outputs": [],
   "source": [
    "def get_index(pred, label):\n",
    "    eps = 1e-7\n",
    "    tp = torch.sum(label * pred)\n",
    "    fp = torch.sum(pred) - tp\n",
    "    fn = torch.sum(label) - tp\n",
    "\n",
    "    p = (tp + eps) / (tp + fp + eps)\n",
    "    r = (tp + eps) / (tp + fn + eps)\n",
    "    f1 = (2 * p * r + eps) / (p + r + eps)\n",
    "    iou = (tp + eps) / (tp + fn + fp + eps)\n",
    "    return p, r, f1, iou\n",
    "\n",
    "\n",
    "def test_model(epoch):\n",
    "    model.eval()\n",
    "    global max_score\n",
    "    f1s = 0\n",
    "    print(f\"Epoch {epoch} Testing\")\n",
    "    with torch.no_grad():\n",
    "        with tqdm(val_loader, desc=str(epoch)) as it:\n",
    "            for img1, img2, mask in it:\n",
    "                img1, img2, mask = img1.cuda(), img2.cuda(), mask.cuda()\n",
    "                img = torch.cat((img1, img2), 1)\n",
    "                outputs = model(img)\n",
    "                _, pred = torch.max(outputs.data, 1)\n",
    "                mask = mask.squeeze(1)\n",
    "                p, r, f1, iou = get_index(pred, mask)\n",
    "                f1s += f1\n",
    "                it.set_postfix_str(f\"p: {p: .4f}  r: {r: .4f}  f1: {f1: .4f}  iou: {iou: .4f}\")\n",
    "    f1s /= len(val_loader)\n",
    "    scheduler.step(f1s)\n",
    "    print(\"f1\", f1s.item())\n",
    "    if max_score < f1s:\n",
    "        max_score = f1s\n",
    "        print('max_score', max_score.item())"
   ]
  },
  {
   "cell_type": "code",
   "execution_count": 7,
   "metadata": {
    "execution": {
     "iopub.execute_input": "2023-03-03T13:25:20.025031Z",
     "iopub.status.busy": "2023-03-03T13:25:20.024766Z",
     "iopub.status.idle": "2023-03-03T13:35:00.729821Z",
     "shell.execute_reply": "2023-03-03T13:35:00.729235Z",
     "shell.execute_reply.started": "2023-03-03T13:25:20.025015Z"
    },
    "tags": []
   },
   "outputs": [
    {
     "name": "stdout",
     "output_type": "stream",
     "text": [
      "Epoch 0 Training\n"
     ]
    },
    {
     "name": "stderr",
     "output_type": "stream",
     "text": [
      "0: 100%|██████████| 38/38 [00:57<00:00,  1.50s/it, loss:  0.3714 p:  0.6122  r:  0.6906  f1:  0.6490  iou:  0.4804]\n"
     ]
    },
    {
     "name": "stdout",
     "output_type": "stream",
     "text": [
      "Epoch 0 Testing\n"
     ]
    },
    {
     "name": "stderr",
     "output_type": "stream",
     "text": [
      "0: 100%|██████████| 2/2 [00:01<00:00,  1.55it/s, p:  0.7147  r:  0.6690  f1:  0.6911  iou:  0.5280]\n"
     ]
    },
    {
     "name": "stdout",
     "output_type": "stream",
     "text": [
      "f1 0.6963827058811765\n",
      "max_score 0.6963827058811765\n",
      "Epoch 1 Training\n"
     ]
    },
    {
     "name": "stderr",
     "output_type": "stream",
     "text": [
      "1: 100%|██████████| 38/38 [00:56<00:00,  1.49s/it, loss:  0.2962 p:  0.6664  r:  0.7214  f1:  0.6928  iou:  0.5300]\n"
     ]
    },
    {
     "name": "stdout",
     "output_type": "stream",
     "text": [
      "Epoch 1 Testing\n"
     ]
    },
    {
     "name": "stderr",
     "output_type": "stream",
     "text": [
      "1: 100%|██████████| 2/2 [00:01<00:00,  1.59it/s, p:  0.6767  r:  0.8354  f1:  0.7477  iou:  0.5971]\n"
     ]
    },
    {
     "name": "stdout",
     "output_type": "stream",
     "text": [
      "f1 0.7567586925138027\n",
      "max_score 0.7567586925138027\n",
      "Epoch 2 Training\n"
     ]
    },
    {
     "name": "stderr",
     "output_type": "stream",
     "text": [
      "2: 100%|██████████| 38/38 [00:57<00:00,  1.50s/it, loss:  0.2281 p:  0.8089  r:  0.7951  f1:  0.8019  iou:  0.6693]\n"
     ]
    },
    {
     "name": "stdout",
     "output_type": "stream",
     "text": [
      "Epoch 2 Testing\n"
     ]
    },
    {
     "name": "stderr",
     "output_type": "stream",
     "text": [
      "2: 100%|██████████| 2/2 [00:01<00:00,  1.58it/s, p:  0.8276  r:  0.7750  f1:  0.8004  iou:  0.6673]\n"
     ]
    },
    {
     "name": "stdout",
     "output_type": "stream",
     "text": [
      "f1 0.8076357299104229\n",
      "max_score 0.8076357299104229\n",
      "Epoch 3 Training\n"
     ]
    },
    {
     "name": "stderr",
     "output_type": "stream",
     "text": [
      "3: 100%|██████████| 38/38 [00:56<00:00,  1.49s/it, loss:  0.2011 p:  0.8120  r:  0.7965  f1:  0.8042  iou:  0.6725]\n"
     ]
    },
    {
     "name": "stdout",
     "output_type": "stream",
     "text": [
      "Epoch 3 Testing\n"
     ]
    },
    {
     "name": "stderr",
     "output_type": "stream",
     "text": [
      "3: 100%|██████████| 2/2 [00:01<00:00,  1.57it/s, p:  0.8736  r:  0.7534  f1:  0.8091  iou:  0.6794]\n"
     ]
    },
    {
     "name": "stdout",
     "output_type": "stream",
     "text": [
      "f1 0.8212480601660928\n",
      "max_score 0.8212480601660928\n",
      "Epoch 4 Training\n"
     ]
    },
    {
     "name": "stderr",
     "output_type": "stream",
     "text": [
      "4: 100%|██████████| 38/38 [00:56<00:00,  1.50s/it, loss:  0.1585 p:  0.8839  r:  0.8515  f1:  0.8674  iou:  0.7659]\n"
     ]
    },
    {
     "name": "stdout",
     "output_type": "stream",
     "text": [
      "Epoch 4 Testing\n"
     ]
    },
    {
     "name": "stderr",
     "output_type": "stream",
     "text": [
      "4: 100%|██████████| 2/2 [00:01<00:00,  1.56it/s, p:  0.8893  r:  0.7535  f1:  0.8158  iou:  0.6889]\n"
     ]
    },
    {
     "name": "stdout",
     "output_type": "stream",
     "text": [
      "f1 0.825150635470107\n",
      "max_score 0.825150635470107\n",
      "Epoch 5 Training\n"
     ]
    },
    {
     "name": "stderr",
     "output_type": "stream",
     "text": [
      "5: 100%|██████████| 38/38 [00:56<00:00,  1.49s/it, loss:  0.1589 p:  0.8178  r:  0.9005  f1:  0.8572  iou:  0.7500]\n"
     ]
    },
    {
     "name": "stdout",
     "output_type": "stream",
     "text": [
      "Epoch 5 Testing\n"
     ]
    },
    {
     "name": "stderr",
     "output_type": "stream",
     "text": [
      "5: 100%|██████████| 2/2 [00:01<00:00,  1.58it/s, p:  0.7749  r:  0.9072  f1:  0.8359  iou:  0.7180]\n"
     ]
    },
    {
     "name": "stdout",
     "output_type": "stream",
     "text": [
      "f1 0.8367582848375852\n",
      "max_score 0.8367582848375852\n",
      "Epoch 6 Training\n"
     ]
    },
    {
     "name": "stderr",
     "output_type": "stream",
     "text": [
      "6: 100%|██████████| 38/38 [00:56<00:00,  1.49s/it, loss:  0.1412 p:  0.8877  r:  0.8538  f1:  0.8704  iou:  0.7706]\n"
     ]
    },
    {
     "name": "stdout",
     "output_type": "stream",
     "text": [
      "Epoch 6 Testing\n"
     ]
    },
    {
     "name": "stderr",
     "output_type": "stream",
     "text": [
      "6: 100%|██████████| 2/2 [00:01<00:00,  1.59it/s, p:  0.8629  r:  0.8432  f1:  0.8529  iou:  0.7436]\n"
     ]
    },
    {
     "name": "stdout",
     "output_type": "stream",
     "text": [
      "f1 0.8545977695292456\n",
      "max_score 0.8545977695292456\n",
      "Epoch 7 Training\n"
     ]
    },
    {
     "name": "stderr",
     "output_type": "stream",
     "text": [
      "7: 100%|██████████| 38/38 [00:56<00:00,  1.49s/it, loss:  0.1316 p:  0.9484  r:  0.8384  f1:  0.8900  iou:  0.8018]\n"
     ]
    },
    {
     "name": "stdout",
     "output_type": "stream",
     "text": [
      "Epoch 7 Testing\n"
     ]
    },
    {
     "name": "stderr",
     "output_type": "stream",
     "text": [
      "7: 100%|██████████| 2/2 [00:01<00:00,  1.56it/s, p:  0.8637  r:  0.8652  f1:  0.8644  iou:  0.7612]\n"
     ]
    },
    {
     "name": "stdout",
     "output_type": "stream",
     "text": [
      "f1 0.8697374640073727\n",
      "max_score 0.8697374640073727\n",
      "Epoch 8 Training\n"
     ]
    },
    {
     "name": "stderr",
     "output_type": "stream",
     "text": [
      "8: 100%|██████████| 38/38 [00:56<00:00,  1.50s/it, loss:  0.1180 p:  0.8725  r:  0.9082  f1:  0.8900  iou:  0.8018]\n"
     ]
    },
    {
     "name": "stdout",
     "output_type": "stream",
     "text": [
      "Epoch 8 Testing\n"
     ]
    },
    {
     "name": "stderr",
     "output_type": "stream",
     "text": [
      "8: 100%|██████████| 2/2 [00:01<00:00,  1.59it/s, p:  0.8620  r:  0.8777  f1:  0.8698  iou:  0.7696]\n"
     ]
    },
    {
     "name": "stdout",
     "output_type": "stream",
     "text": [
      "f1 0.8699567014134245\n",
      "max_score 0.8699567014134245\n",
      "Epoch 9 Training\n"
     ]
    },
    {
     "name": "stderr",
     "output_type": "stream",
     "text": [
      "9: 100%|██████████| 38/38 [00:56<00:00,  1.49s/it, loss:  0.1068 p:  0.9686  r:  0.8673  f1:  0.9151  iou:  0.8436]\n"
     ]
    },
    {
     "name": "stdout",
     "output_type": "stream",
     "text": [
      "Epoch 9 Testing\n"
     ]
    },
    {
     "name": "stderr",
     "output_type": "stream",
     "text": [
      "9: 100%|██████████| 2/2 [00:01<00:00,  1.59it/s, p:  0.9273  r:  0.8228  f1:  0.8719  iou:  0.7730]"
     ]
    },
    {
     "name": "stdout",
     "output_type": "stream",
     "text": [
      "f1 0.8730645105970479\n",
      "max_score 0.8730645105970479\n",
      "completed!\n",
      "max_score 0.8730645105970479\n"
     ]
    },
    {
     "name": "stderr",
     "output_type": "stream",
     "text": [
      "\n"
     ]
    }
   ],
   "source": [
    "num_epoch = 10\n",
    "max_score = 0\n",
    "for epoch in range(0, num_epoch):\n",
    "    train_model(epoch=epoch)\n",
    "    test_model(epoch=epoch)\n",
    "print(\"completed!\")\n",
    "print('max_score', max_score.item())"
   ]
  },
  {
   "cell_type": "code",
   "execution_count": null,
   "metadata": {
    "tags": []
   },
   "outputs": [],
   "source": []
  },
  {
   "cell_type": "code",
   "execution_count": null,
   "metadata": {},
   "outputs": [],
   "source": []
  },
  {
   "cell_type": "code",
   "execution_count": null,
   "metadata": {},
   "outputs": [],
   "source": []
  }
 ],
 "metadata": {
  "kernelspec": {
   "display_name": "Python 3 (ipykernel)",
   "language": "python",
   "name": "python3"
  },
  "language_info": {
   "codemirror_mode": {
    "name": "ipython",
    "version": 3
   },
   "file_extension": ".py",
   "mimetype": "text/x-python",
   "name": "python",
   "nbconvert_exporter": "python",
   "pygments_lexer": "ipython3",
   "version": "3.8.13"
  }
 },
 "nbformat": 4,
 "nbformat_minor": 4
}
