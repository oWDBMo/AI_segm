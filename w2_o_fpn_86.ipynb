{
 "cells": [
  {
   "cell_type": "code",
   "execution_count": 1,
   "metadata": {
    "execution": {
     "iopub.execute_input": "2023-03-05T02:28:58.307394Z",
     "iopub.status.busy": "2023-03-05T02:28:58.306718Z",
     "iopub.status.idle": "2023-03-05T02:29:03.260133Z",
     "shell.execute_reply": "2023-03-05T02:29:03.259104Z",
     "shell.execute_reply.started": "2023-03-05T02:28:58.307307Z"
    }
   },
   "outputs": [
    {
     "name": "stdout",
     "output_type": "stream",
     "text": [
      "Looking in indexes: https://pypi.tuna.tsinghua.edu.cn/simple\n",
      "Collecting segmentation_models_pytorch\n",
      "  Downloading https://pypi.tuna.tsinghua.edu.cn/packages/40/7d/6a91c9608fd54c115e617e233c44b7023dc4445d478b258d04314afbd02a/segmentation_models_pytorch-0.3.2-py3-none-any.whl (106 kB)\n",
      "\u001b[2K     \u001b[90m━━━━━━━━━━━━━━━━━━━━━━━━━━━━━━━━━━━━━━\u001b[0m \u001b[32m106.7/106.7 kB\u001b[0m \u001b[31m11.0 MB/s\u001b[0m eta \u001b[36m0:00:00\u001b[0m\n",
      "\u001b[?25hRequirement already satisfied: tqdm in /usr/local/lib/python3.8/site-packages (from segmentation_models_pytorch) (4.64.1)\n",
      "Requirement already satisfied: pillow in /usr/local/lib/python3.8/site-packages (from segmentation_models_pytorch) (9.2.0)\n",
      "Requirement already satisfied: torchvision>=0.5.0 in /usr/local/lib/python3.8/site-packages (from segmentation_models_pytorch) (0.9.2+cu111)\n",
      "Collecting timm==0.6.12\n",
      "  Downloading https://pypi.tuna.tsinghua.edu.cn/packages/89/4e/97622efc48a6e0c11781ed8a3472c679f2c8a5cf6ebd58a57b050e758bfe/timm-0.6.12-py3-none-any.whl (549 kB)\n",
      "\u001b[2K     \u001b[90m━━━━━━━━━━━━━━━━━━━━━━━━━━━━━━━━━━━━━━\u001b[0m \u001b[32m549.1/549.1 kB\u001b[0m \u001b[31m11.0 MB/s\u001b[0m eta \u001b[36m0:00:00\u001b[0ma \u001b[36m0:00:01\u001b[0m\n",
      "\u001b[?25hCollecting pretrainedmodels==0.7.4\n",
      "  Downloading https://pypi.tuna.tsinghua.edu.cn/packages/84/0e/be6a0e58447ac16c938799d49bfb5fb7a80ac35e137547fc6cee2c08c4cf/pretrainedmodels-0.7.4.tar.gz (58 kB)\n",
      "\u001b[2K     \u001b[90m━━━━━━━━━━━━━━━━━━━━━━━━━━━━━━━━━━━━━━━━\u001b[0m \u001b[32m58.8/58.8 kB\u001b[0m \u001b[31m42.7 MB/s\u001b[0m eta \u001b[36m0:00:00\u001b[0m\n",
      "\u001b[?25h  Preparing metadata (setup.py) ... \u001b[?25ldone\n",
      "\u001b[?25hCollecting efficientnet-pytorch==0.7.1\n",
      "  Downloading https://pypi.tuna.tsinghua.edu.cn/packages/2e/a0/dd40b50aebf0028054b6b35062948da01123d7be38d08b6b1e5435df6363/efficientnet_pytorch-0.7.1.tar.gz (21 kB)\n",
      "  Preparing metadata (setup.py) ... \u001b[?25ldone\n",
      "\u001b[?25hRequirement already satisfied: torch in /usr/local/lib/python3.8/site-packages (from efficientnet-pytorch==0.7.1->segmentation_models_pytorch) (1.8.2+cu111)\n",
      "Collecting munch\n",
      "  Downloading https://pypi.tuna.tsinghua.edu.cn/packages/cc/ab/85d8da5c9a45e072301beb37ad7f833cd344e04c817d97e0cc75681d248f/munch-2.5.0-py2.py3-none-any.whl (10 kB)\n",
      "Collecting huggingface-hub\n",
      "  Downloading https://pypi.tuna.tsinghua.edu.cn/packages/57/3f/63dd1710b00aa5e7c186ac761a2078f595abf7bb58ea802138d83cb30cca/huggingface_hub-0.12.1-py3-none-any.whl (190 kB)\n",
      "\u001b[2K     \u001b[90m━━━━━━━━━━━━━━━━━━━━━━━━━━━━━━━━━━━━━━━\u001b[0m \u001b[32m190.3/190.3 kB\u001b[0m \u001b[31m3.5 MB/s\u001b[0m eta \u001b[36m0:00:00\u001b[0ma \u001b[36m0:00:01\u001b[0m\n",
      "\u001b[?25hRequirement already satisfied: pyyaml in /usr/local/lib/python3.8/site-packages (from timm==0.6.12->segmentation_models_pytorch) (6.0)\n",
      "Requirement already satisfied: numpy in /usr/local/lib/python3.8/site-packages (from torchvision>=0.5.0->segmentation_models_pytorch) (1.23.4)\n",
      "Requirement already satisfied: typing-extensions in /usr/local/lib/python3.8/site-packages (from torch->efficientnet-pytorch==0.7.1->segmentation_models_pytorch) (4.4.0)\n",
      "Requirement already satisfied: packaging>=20.9 in /usr/local/lib/python3.8/site-packages (from huggingface-hub->timm==0.6.12->segmentation_models_pytorch) (21.3)\n",
      "Requirement already satisfied: requests in /usr/local/lib/python3.8/site-packages (from huggingface-hub->timm==0.6.12->segmentation_models_pytorch) (2.28.1)\n",
      "Collecting filelock\n",
      "  Downloading https://pypi.tuna.tsinghua.edu.cn/packages/14/4c/b201d0292ca4e0950f0741212935eac9996f69cd66b92a3587e594999163/filelock-3.9.0-py3-none-any.whl (9.7 kB)\n",
      "Requirement already satisfied: six in /usr/local/lib/python3.8/site-packages (from munch->pretrainedmodels==0.7.4->segmentation_models_pytorch) (1.16.0)\n",
      "Requirement already satisfied: pyparsing!=3.0.5,>=2.0.2 in /usr/local/lib/python3.8/site-packages (from packaging>=20.9->huggingface-hub->timm==0.6.12->segmentation_models_pytorch) (3.0.9)\n",
      "Requirement already satisfied: charset-normalizer<3,>=2 in /usr/local/lib/python3.8/site-packages (from requests->huggingface-hub->timm==0.6.12->segmentation_models_pytorch) (2.0.4)\n",
      "Requirement already satisfied: urllib3<1.27,>=1.21.1 in /usr/local/lib/python3.8/site-packages (from requests->huggingface-hub->timm==0.6.12->segmentation_models_pytorch) (1.26.11)\n",
      "Requirement already satisfied: idna<4,>=2.5 in /usr/local/lib/python3.8/site-packages (from requests->huggingface-hub->timm==0.6.12->segmentation_models_pytorch) (3.3)\n",
      "Requirement already satisfied: certifi>=2017.4.17 in /usr/local/lib/python3.8/site-packages (from requests->huggingface-hub->timm==0.6.12->segmentation_models_pytorch) (2022.6.15)\n",
      "Building wheels for collected packages: efficientnet-pytorch, pretrainedmodels\n",
      "  Building wheel for efficientnet-pytorch (setup.py) ... \u001b[?25ldone\n",
      "\u001b[?25h  Created wheel for efficientnet-pytorch: filename=efficientnet_pytorch-0.7.1-py3-none-any.whl size=16428 sha256=adb0ea10feba86a8a84533f00b5b3e30a688e0564cca907bce4b4bf25e443fc5\n",
      "  Stored in directory: /root/.cache/pip/wheels/8f/d9/c4/c7e78169955c489f83bf72837b7781c15dcafa737be252bfbb\n",
      "  Building wheel for pretrainedmodels (setup.py) ... \u001b[?25ldone\n",
      "\u001b[?25h  Created wheel for pretrainedmodels: filename=pretrainedmodels-0.7.4-py3-none-any.whl size=60944 sha256=e7a73fd4cf2c2d999571272ddbd98d7b52238d29754f41c496307b9242616b21\n",
      "  Stored in directory: /root/.cache/pip/wheels/ca/32/54/89d6b8e7e710086237f700ad61d8b3d8af521e5e5d9b3d632c\n",
      "Successfully built efficientnet-pytorch pretrainedmodels\n",
      "Installing collected packages: munch, filelock, huggingface-hub, efficientnet-pytorch, timm, pretrainedmodels, segmentation_models_pytorch\n",
      "Successfully installed efficientnet-pytorch-0.7.1 filelock-3.9.0 huggingface-hub-0.12.1 munch-2.5.0 pretrainedmodels-0.7.4 segmentation_models_pytorch-0.3.2 timm-0.6.12\n",
      "\u001b[33mWARNING: Running pip as the 'root' user can result in broken permissions and conflicting behaviour with the system package manager. It is recommended to use a virtual environment instead: https://pip.pypa.io/warnings/venv\u001b[0m\u001b[33m\n",
      "\u001b[0m"
     ]
    }
   ],
   "source": [
    "!pip install segmentation_models_pytorch"
   ]
  },
  {
   "cell_type": "code",
   "execution_count": 2,
   "metadata": {
    "collapsed": false,
    "execution": {
     "iopub.execute_input": "2023-03-05T02:29:03.262731Z",
     "iopub.status.busy": "2023-03-05T02:29:03.262546Z",
     "iopub.status.idle": "2023-03-05T02:29:05.475806Z",
     "shell.execute_reply": "2023-03-05T02:29:05.475225Z",
     "shell.execute_reply.started": "2023-03-05T02:29:03.262712Z"
    },
    "jupyter": {
     "outputs_hidden": false
    }
   },
   "outputs": [],
   "source": [
    "import torch.nn as nn\n",
    "from torchvision import transforms\n",
    "from torch.utils.data import DataLoader\n",
    "import torch\n",
    "from mydataset import MyDataset\n",
    "from tqdm import tqdm\n",
    "from torch.cuda.amp import autocast\n",
    "from data_augmentation import RandomRotation, RandomVerticalFlip, RandomHorizontalFlip, Compose, ToTensor\n",
    "import segmentation_models_pytorch as smp"
   ]
  },
  {
   "cell_type": "code",
   "execution_count": 3,
   "metadata": {
    "execution": {
     "iopub.execute_input": "2023-03-05T02:29:05.476671Z",
     "iopub.status.busy": "2023-03-05T02:29:05.476476Z",
     "iopub.status.idle": "2023-03-05T02:29:05.479721Z",
     "shell.execute_reply": "2023-03-05T02:29:05.479322Z",
     "shell.execute_reply.started": "2023-03-05T02:29:05.476655Z"
    }
   },
   "outputs": [],
   "source": [
    "batch_size = 100\n",
    "lr = 0.0001\n",
    "device = \"cuda\" if torch.cuda.is_available() else \"cpu\""
   ]
  },
  {
   "cell_type": "code",
   "execution_count": 4,
   "metadata": {
    "execution": {
     "iopub.execute_input": "2023-03-05T02:29:05.480517Z",
     "iopub.status.busy": "2023-03-05T02:29:05.480264Z",
     "iopub.status.idle": "2023-03-05T02:29:05.505330Z",
     "shell.execute_reply": "2023-03-05T02:29:05.504927Z",
     "shell.execute_reply.started": "2023-03-05T02:29:05.480501Z"
    }
   },
   "outputs": [
    {
     "data": {
      "text/plain": [
       "(3800, 200, 38, 2)"
      ]
     },
     "execution_count": 4,
     "metadata": {},
     "output_type": "execute_result"
    }
   ],
   "source": [
    "train_set = MyDataset(root=\"data\", is_train=True, transform=Compose([\n",
    "    ToTensor(),\n",
    "    RandomHorizontalFlip(),\n",
    "    RandomVerticalFlip(),\n",
    "    RandomRotation([0, 90, 180, 270]),\n",
    "]), normalize=transforms.Normalize((0.485, 0.456, 0.406), (0.229, 0.224, 0.225)))\n",
    "\n",
    "val_set = MyDataset(root=\"data\", is_train=False, transform=Compose([ToTensor()]),\n",
    "                    normalize=transforms.Normalize((0.485, 0.456, 0.406), (0.229, 0.224, 0.225)))\n",
    "\n",
    "train_loader = DataLoader(\n",
    "    train_set,\n",
    "    batch_size=batch_size,\n",
    "    shuffle=True,\n",
    "    num_workers=0\n",
    ")\n",
    "\n",
    "val_loader = DataLoader(\n",
    "    val_set,\n",
    "    batch_size=batch_size,\n",
    "    shuffle=False,\n",
    "    num_workers=0\n",
    ")\n",
    "len(train_set), len(val_set), len(train_loader), len(val_loader)"
   ]
  },
  {
   "cell_type": "code",
   "execution_count": 5,
   "metadata": {
    "execution": {
     "iopub.execute_input": "2023-03-05T02:29:05.506084Z",
     "iopub.status.busy": "2023-03-05T02:29:05.505888Z",
     "iopub.status.idle": "2023-03-05T02:29:08.477102Z",
     "shell.execute_reply": "2023-03-05T02:29:08.476470Z",
     "shell.execute_reply.started": "2023-03-05T02:29:05.506069Z"
    }
   },
   "outputs": [],
   "source": [
    "model = smp.FPN(\n",
    "    encoder_name=\"resnet34\",\n",
    "    encoder_weights=\"imagenet\",\n",
    "    in_channels=6,\n",
    "    classes=2,\n",
    ")\n",
    "model.cuda()\n",
    "\n",
    "criterion = nn.CrossEntropyLoss()\n",
    "optim = torch.optim.AdamW(model.parameters(), lr=lr, weight_decay=1e-9)\n",
    "scheduler = torch.optim.lr_scheduler.ReduceLROnPlateau(\n",
    "    optim, mode='max', factor=0.1, patience=2,\n",
    "    verbose=True)\n",
    "scaler = torch.cuda.amp.GradScaler(enabled=True)"
   ]
  },
  {
   "cell_type": "code",
   "execution_count": 6,
   "metadata": {
    "execution": {
     "iopub.execute_input": "2023-03-05T02:29:08.478030Z",
     "iopub.status.busy": "2023-03-05T02:29:08.477855Z",
     "iopub.status.idle": "2023-03-05T02:29:08.482693Z",
     "shell.execute_reply": "2023-03-05T02:29:08.482308Z",
     "shell.execute_reply.started": "2023-03-05T02:29:08.478008Z"
    }
   },
   "outputs": [],
   "source": [
    "def train_model(epoch):\n",
    "    model.train()\n",
    "    print(f\"Epoch {epoch} Training\")\n",
    "    with tqdm(train_loader, desc=str(epoch)) as it:\n",
    "        for idx, (img1, img2, mask) in enumerate(it, 0):\n",
    "            img1, img2, mask = img1.cuda(), img2.cuda(), mask.cuda()\n",
    "            optim.zero_grad()\n",
    "            mask = mask.long()\n",
    "            with autocast():\n",
    "                img = torch.cat((img1, img2), 1)\n",
    "                outputs = model(img)\n",
    "                mask = mask.squeeze(1)\n",
    "                loss = criterion(outputs, mask)\n",
    "            scaler.scale(loss).backward()\n",
    "            scaler.step(optim)\n",
    "            scaler.update()\n",
    "            _, pred = torch.max(outputs.data, 1)\n",
    "            p, r, f1, iou = get_index(pred, mask)\n",
    "            it.set_postfix_str(f\"loss: {loss.item(): .4f} p: {p: .4f}  r: {r: .4f}  f1: {f1: .4f}  iou: {iou: .4f}\")"
   ]
  },
  {
   "cell_type": "code",
   "execution_count": 7,
   "metadata": {
    "execution": {
     "iopub.execute_input": "2023-03-05T02:29:08.484054Z",
     "iopub.status.busy": "2023-03-05T02:29:08.483876Z",
     "iopub.status.idle": "2023-03-05T02:29:08.489440Z",
     "shell.execute_reply": "2023-03-05T02:29:08.489029Z",
     "shell.execute_reply.started": "2023-03-05T02:29:08.484038Z"
    },
    "tags": []
   },
   "outputs": [],
   "source": [
    "def get_index(pred, label):\n",
    "    eps = 1e-7\n",
    "    tp = torch.sum(label * pred)\n",
    "    fp = torch.sum(pred) - tp\n",
    "    fn = torch.sum(label) - tp\n",
    "\n",
    "    p = (tp + eps) / (tp + fp + eps)\n",
    "    r = (tp + eps) / (tp + fn + eps)\n",
    "    f1 = (2 * p * r + eps) / (p + r + eps)\n",
    "    iou = (tp + eps) / (tp + fn + fp + eps)\n",
    "    return p, r, f1, iou\n",
    "\n",
    "\n",
    "def test_model(epoch):\n",
    "    model.eval()\n",
    "    global max_score\n",
    "    f1s = 0\n",
    "    print(f\"Epoch {epoch} Testing\")\n",
    "    with torch.no_grad():\n",
    "        with tqdm(val_loader, desc=str(epoch)) as it:\n",
    "            for img1, img2, mask in it:\n",
    "                img1, img2, mask = img1.cuda(), img2.cuda(), mask.cuda()\n",
    "                img = torch.cat((img1, img2), 1)\n",
    "                outputs = model(img)\n",
    "                _, pred = torch.max(outputs.data, 1)\n",
    "                mask = mask.squeeze(1)\n",
    "                p, r, f1, iou = get_index(pred, mask)\n",
    "                f1s += f1\n",
    "                it.set_postfix_str(f\"p: {p: .4f}  r: {r: .4f}  f1: {f1: .4f}  iou: {iou: .4f}\")\n",
    "    f1s /= len(val_loader)\n",
    "    scheduler.step(f1s)\n",
    "    print(\"f1\", f1s.item())\n",
    "    if max_score < f1s:\n",
    "        max_score = f1s\n",
    "        print('max_score', max_score.item())"
   ]
  },
  {
   "cell_type": "code",
   "execution_count": 8,
   "metadata": {
    "execution": {
     "iopub.execute_input": "2023-03-05T02:29:08.490150Z",
     "iopub.status.busy": "2023-03-05T02:29:08.489974Z",
     "iopub.status.idle": "2023-03-05T02:39:03.415531Z",
     "shell.execute_reply": "2023-03-05T02:39:03.414807Z",
     "shell.execute_reply.started": "2023-03-05T02:29:08.490136Z"
    },
    "tags": []
   },
   "outputs": [
    {
     "name": "stdout",
     "output_type": "stream",
     "text": [
      "Epoch 0 Training\n"
     ]
    },
    {
     "name": "stderr",
     "output_type": "stream",
     "text": [
      "0: 100%|██████████| 38/38 [01:20<00:00,  2.12s/it, loss:  0.4405 p:  0.6926  r:  0.5208  f1:  0.5946  iou:  0.4231]\n"
     ]
    },
    {
     "name": "stdout",
     "output_type": "stream",
     "text": [
      "Epoch 0 Testing\n"
     ]
    },
    {
     "name": "stderr",
     "output_type": "stream",
     "text": [
      "0: 100%|██████████| 2/2 [00:02<00:00,  1.46s/it, p:  0.7545  r:  0.6351  f1:  0.6897  iou:  0.5263]\n"
     ]
    },
    {
     "name": "stdout",
     "output_type": "stream",
     "text": [
      "f1 0.6797158907681902\n",
      "max_score 0.6797158907681902\n",
      "Epoch 1 Training\n"
     ]
    },
    {
     "name": "stderr",
     "output_type": "stream",
     "text": [
      "1: 100%|██████████| 38/38 [01:11<00:00,  1.89s/it, loss:  0.2802 p:  0.7171  r:  0.6757  f1:  0.6958  iou:  0.5335]\n"
     ]
    },
    {
     "name": "stdout",
     "output_type": "stream",
     "text": [
      "Epoch 1 Testing\n"
     ]
    },
    {
     "name": "stderr",
     "output_type": "stream",
     "text": [
      "1: 100%|██████████| 2/2 [00:02<00:00,  1.34s/it, p:  0.7841  r:  0.7093  f1:  0.7448  iou:  0.5934]\n"
     ]
    },
    {
     "name": "stdout",
     "output_type": "stream",
     "text": [
      "f1 0.7490546192530256\n",
      "max_score 0.7490546192530256\n",
      "Epoch 2 Training\n"
     ]
    },
    {
     "name": "stderr",
     "output_type": "stream",
     "text": [
      "2: 100%|██████████| 38/38 [01:07<00:00,  1.77s/it, loss:  0.2498 p:  0.7997  r:  0.7437  f1:  0.7707  iou:  0.6269]\n"
     ]
    },
    {
     "name": "stdout",
     "output_type": "stream",
     "text": [
      "Epoch 2 Testing\n"
     ]
    },
    {
     "name": "stderr",
     "output_type": "stream",
     "text": [
      "2: 100%|██████████| 2/2 [00:02<00:00,  1.37s/it, p:  0.8391  r:  0.6711  f1:  0.7458  iou:  0.5946]\n"
     ]
    },
    {
     "name": "stdout",
     "output_type": "stream",
     "text": [
      "f1 0.7648595196787371\n",
      "max_score 0.7648595196787371\n",
      "Epoch 3 Training\n"
     ]
    },
    {
     "name": "stderr",
     "output_type": "stream",
     "text": [
      "3: 100%|██████████| 38/38 [00:54<00:00,  1.43s/it, loss:  0.2005 p:  0.8323  r:  0.7775  f1:  0.8040  iou:  0.6722]\n"
     ]
    },
    {
     "name": "stdout",
     "output_type": "stream",
     "text": [
      "Epoch 3 Testing\n"
     ]
    },
    {
     "name": "stderr",
     "output_type": "stream",
     "text": [
      "3: 100%|██████████| 2/2 [00:01<00:00,  1.62it/s, p:  0.8330  r:  0.7560  f1:  0.7926  iou:  0.6565]\n"
     ]
    },
    {
     "name": "stdout",
     "output_type": "stream",
     "text": [
      "f1 0.7963117503034537\n",
      "max_score 0.7963117503034537\n",
      "Epoch 4 Training\n"
     ]
    },
    {
     "name": "stderr",
     "output_type": "stream",
     "text": [
      "4: 100%|██████████| 38/38 [00:51<00:00,  1.35s/it, loss:  0.2092 p:  0.7623  r:  0.7546  f1:  0.7584  iou:  0.6109]\n"
     ]
    },
    {
     "name": "stdout",
     "output_type": "stream",
     "text": [
      "Epoch 4 Testing\n"
     ]
    },
    {
     "name": "stderr",
     "output_type": "stream",
     "text": [
      "4: 100%|██████████| 2/2 [00:01<00:00,  1.63it/s, p:  0.8509  r:  0.7835  f1:  0.8158  iou:  0.6889]\n"
     ]
    },
    {
     "name": "stdout",
     "output_type": "stream",
     "text": [
      "f1 0.8154170652356916\n",
      "max_score 0.8154170652356916\n",
      "Epoch 5 Training\n"
     ]
    },
    {
     "name": "stderr",
     "output_type": "stream",
     "text": [
      "5: 100%|██████████| 38/38 [00:50<00:00,  1.32s/it, loss:  0.1844 p:  0.8143  r:  0.8359  f1:  0.8249  iou:  0.7020]\n"
     ]
    },
    {
     "name": "stdout",
     "output_type": "stream",
     "text": [
      "Epoch 5 Testing\n"
     ]
    },
    {
     "name": "stderr",
     "output_type": "stream",
     "text": [
      "5: 100%|██████████| 2/2 [00:01<00:00,  1.62it/s, p:  0.8609  r:  0.8259  f1:  0.8430  iou:  0.7287]\n"
     ]
    },
    {
     "name": "stdout",
     "output_type": "stream",
     "text": [
      "f1 0.8344429575553565\n",
      "max_score 0.8344429575553565\n",
      "Epoch 6 Training\n"
     ]
    },
    {
     "name": "stderr",
     "output_type": "stream",
     "text": [
      "6: 100%|██████████| 38/38 [00:51<00:00,  1.34s/it, loss:  0.1608 p:  0.9260  r:  0.7895  f1:  0.8523  iou:  0.7427]\n"
     ]
    },
    {
     "name": "stdout",
     "output_type": "stream",
     "text": [
      "Epoch 6 Testing\n"
     ]
    },
    {
     "name": "stderr",
     "output_type": "stream",
     "text": [
      "6: 100%|██████████| 2/2 [00:01<00:00,  1.65it/s, p:  0.8698  r:  0.8130  f1:  0.8404  iou:  0.7248]\n"
     ]
    },
    {
     "name": "stdout",
     "output_type": "stream",
     "text": [
      "f1 0.8354913801051658\n",
      "max_score 0.8354913801051658\n",
      "Epoch 7 Training\n"
     ]
    },
    {
     "name": "stderr",
     "output_type": "stream",
     "text": [
      "7: 100%|██████████| 38/38 [00:50<00:00,  1.33s/it, loss:  0.1521 p:  0.8788  r:  0.8370  f1:  0.8574  iou:  0.7504]\n"
     ]
    },
    {
     "name": "stdout",
     "output_type": "stream",
     "text": [
      "Epoch 7 Testing\n"
     ]
    },
    {
     "name": "stderr",
     "output_type": "stream",
     "text": [
      "7: 100%|██████████| 2/2 [00:01<00:00,  1.64it/s, p:  0.8294  r:  0.8892  f1:  0.8583  iou:  0.7517]\n"
     ]
    },
    {
     "name": "stdout",
     "output_type": "stream",
     "text": [
      "f1 0.8507203928286055\n",
      "max_score 0.8507203928286055\n",
      "Epoch 8 Training\n"
     ]
    },
    {
     "name": "stderr",
     "output_type": "stream",
     "text": [
      "8: 100%|██████████| 38/38 [00:50<00:00,  1.33s/it, loss:  0.1217 p:  0.9153  r:  0.8107  f1:  0.8598  iou:  0.7541]\n"
     ]
    },
    {
     "name": "stdout",
     "output_type": "stream",
     "text": [
      "Epoch 8 Testing\n"
     ]
    },
    {
     "name": "stderr",
     "output_type": "stream",
     "text": [
      "8: 100%|██████████| 2/2 [00:01<00:00,  1.63it/s, p:  0.8788  r:  0.8469  f1:  0.8626  iou:  0.7583]\n"
     ]
    },
    {
     "name": "stdout",
     "output_type": "stream",
     "text": [
      "f1 0.8571490976437026\n",
      "max_score 0.8571490976437026\n",
      "Epoch 9 Training\n"
     ]
    },
    {
     "name": "stderr",
     "output_type": "stream",
     "text": [
      "9: 100%|██████████| 38/38 [00:50<00:00,  1.33s/it, loss:  0.1281 p:  0.8550  r:  0.8839  f1:  0.8692  iou:  0.7687]\n"
     ]
    },
    {
     "name": "stdout",
     "output_type": "stream",
     "text": [
      "Epoch 9 Testing\n"
     ]
    },
    {
     "name": "stderr",
     "output_type": "stream",
     "text": [
      "9: 100%|██████████| 2/2 [00:01<00:00,  1.65it/s, p:  0.8274  r:  0.8948  f1:  0.8598  iou:  0.7541]"
     ]
    },
    {
     "name": "stdout",
     "output_type": "stream",
     "text": [
      "f1 0.8578257944678127\n",
      "max_score 0.8578257944678127\n",
      "completed!\n",
      "max_score 0.8578257944678127\n"
     ]
    },
    {
     "name": "stderr",
     "output_type": "stream",
     "text": [
      "\n"
     ]
    }
   ],
   "source": [
    "num_epoch = 10\n",
    "max_score = 0\n",
    "for epoch in range(0, num_epoch):\n",
    "    train_model(epoch=epoch)\n",
    "    test_model(epoch=epoch)\n",
    "print(\"completed!\")\n",
    "print('max_score', max_score.item())"
   ]
  },
  {
   "cell_type": "code",
   "execution_count": null,
   "metadata": {
    "tags": []
   },
   "outputs": [],
   "source": []
  },
  {
   "cell_type": "code",
   "execution_count": null,
   "metadata": {},
   "outputs": [],
   "source": []
  },
  {
   "cell_type": "code",
   "execution_count": null,
   "metadata": {},
   "outputs": [],
   "source": []
  }
 ],
 "metadata": {
  "kernelspec": {
   "display_name": "Python 3 (ipykernel)",
   "language": "python",
   "name": "python3"
  },
  "language_info": {
   "codemirror_mode": {
    "name": "ipython",
    "version": 3
   },
   "file_extension": ".py",
   "mimetype": "text/x-python",
   "name": "python",
   "nbconvert_exporter": "python",
   "pygments_lexer": "ipython3",
   "version": "3.8.13"
  }
 },
 "nbformat": 4,
 "nbformat_minor": 4
}
